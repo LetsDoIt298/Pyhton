{
 "cells": [
  {
   "cell_type": "markdown",
   "id": "0b5ab087",
   "metadata": {},
   "source": [
    "# Functions"
   ]
  },
  {
   "cell_type": "code",
   "execution_count": 1,
   "id": "9924d439",
   "metadata": {},
   "outputs": [],
   "source": [
    "# print, len(), type().... are some example of functions"
   ]
  },
  {
   "cell_type": "code",
   "execution_count": 2,
   "id": "2d7fcf64",
   "metadata": {},
   "outputs": [],
   "source": [
    "def test():\n",
    "           pass     "
   ]
  },
  {
   "cell_type": "code",
   "execution_count": 3,
   "id": "f5ad0d2c",
   "metadata": {},
   "outputs": [
    {
     "name": "stdout",
     "output_type": "stream",
     "text": [
      "this is Alankar!\n"
     ]
    }
   ],
   "source": [
    "def Alankar():\n",
    "    print('this is Alankar!')\n",
    "    \n",
    "\n",
    "Alankar()  #function calling"
   ]
  },
  {
   "cell_type": "code",
   "execution_count": 4,
   "id": "692bf6ad",
   "metadata": {},
   "outputs": [
    {
     "data": {
      "text/plain": [
       "'1alan'"
      ]
     },
     "execution_count": 4,
     "metadata": {},
     "output_type": "execute_result"
    }
   ],
   "source": [
    "def sumation(a,b):\n",
    "    a = str(a)\n",
    "    b = str(b)\n",
    "    return a+b\n",
    "\n",
    "sumation(1,'alan')"
   ]
  },
  {
   "cell_type": "markdown",
   "id": "6c7c020a",
   "metadata": {},
   "source": [
    "### Difference b/w return and print"
   ]
  },
  {
   "cell_type": "code",
   "execution_count": 5,
   "id": "00fa71ef",
   "metadata": {},
   "outputs": [
    {
     "name": "stdout",
     "output_type": "stream",
     "text": [
      "20\n",
      "Alankar Sharma\n",
      "Alankar 1\n"
     ]
    }
   ],
   "source": [
    "def sumation(a,b):        #here a & b are arguments\n",
    "     #print(a+b)    # if we write print(a+b), then we'' get None.\n",
    "                    # Because of this 'none' if we want to all something we wont be able to do\n",
    "    return a+b      \n",
    "\n",
    "\n",
    "print( sumation(1,19) )\n",
    "print( sumation('Alankar ','Sharma') )\n",
    "print( sumation('Alankar ','1') )"
   ]
  },
  {
   "cell_type": "code",
   "execution_count": 6,
   "id": "175cd746",
   "metadata": {},
   "outputs": [
    {
     "name": "stdout",
     "output_type": "stream",
     "text": [
      "1alan\n"
     ]
    },
    {
     "ename": "TypeError",
     "evalue": "unsupported operand type(s) for +: 'NoneType' and 'str'",
     "output_type": "error",
     "traceback": [
      "\u001b[1;31m---------------------------------------------------------------------------\u001b[0m",
      "\u001b[1;31mTypeError\u001b[0m                                 Traceback (most recent call last)",
      "\u001b[1;32m<ipython-input-6-78db618e7cbf>\u001b[0m in \u001b[0;36m<module>\u001b[1;34m\u001b[0m\n\u001b[0;32m      4\u001b[0m     \u001b[0mprint\u001b[0m \u001b[1;33m(\u001b[0m\u001b[0ma\u001b[0m\u001b[1;33m+\u001b[0m\u001b[0mb\u001b[0m\u001b[1;33m)\u001b[0m\u001b[1;33m\u001b[0m\u001b[1;33m\u001b[0m\u001b[0m\n\u001b[0;32m      5\u001b[0m \u001b[1;33m\u001b[0m\u001b[0m\n\u001b[1;32m----> 6\u001b[1;33m \u001b[0msumation\u001b[0m\u001b[1;33m(\u001b[0m\u001b[1;36m1\u001b[0m\u001b[1;33m,\u001b[0m\u001b[1;34m'alan'\u001b[0m\u001b[1;33m)\u001b[0m \u001b[1;33m+\u001b[0m \u001b[1;34m\"Sharma\"\u001b[0m      \u001b[1;31m# Error because,\u001b[0m\u001b[1;33m\u001b[0m\u001b[1;33m\u001b[0m\u001b[0m\n\u001b[0m\u001b[0;32m      7\u001b[0m                                 \u001b[1;31m# print statement returns None type, meaning we can't add or concatinate\u001b[0m\u001b[1;33m\u001b[0m\u001b[1;33m\u001b[0m\u001b[1;33m\u001b[0m\u001b[0m\n\u001b[0;32m      8\u001b[0m                                 \u001b[1;31m#on statement returned by print\u001b[0m\u001b[1;33m\u001b[0m\u001b[1;33m\u001b[0m\u001b[1;33m\u001b[0m\u001b[0m\n",
      "\u001b[1;31mTypeError\u001b[0m: unsupported operand type(s) for +: 'NoneType' and 'str'"
     ]
    }
   ],
   "source": [
    "def sumation(a,b):\n",
    "    a = str(a)\n",
    "    b = str(b)\n",
    "    print (a+b)\n",
    "\n",
    "sumation(1,'alan') + \"Sharma\"      # Error because,\n",
    "                                # print statement returns None type, meaning we can't add or concatinate\n",
    "                                #on statement returned by print\n",
    "                               #see below solution"
   ]
  },
  {
   "cell_type": "code",
   "execution_count": 28,
   "id": "8d321c47",
   "metadata": {},
   "outputs": [
    {
     "data": {
      "text/plain": [
       "'1 alan Sharma'"
      ]
     },
     "execution_count": 28,
     "metadata": {},
     "output_type": "execute_result"
    }
   ],
   "source": [
    "def sumation(a,b):\n",
    "    a = str(a)\n",
    "    b = str(b)\n",
    "    return a+b\n",
    "\n",
    "sumation(1,' alan') + \" Sharma\"     # No error because return provides 'Outcome of a function' \n",
    "                                    # meaning if a function is returning string then string is returned\n",
    "                                    # and if a function is returrning int then int is returned in the output\n",
    "                                  # Therefore we can perform operations on the result"
   ]
  },
  {
   "cell_type": "code",
   "execution_count": null,
   "id": "d46bbdc2",
   "metadata": {},
   "outputs": [],
   "source": []
  },
  {
   "cell_type": "code",
   "execution_count": null,
   "id": "8e09ef32",
   "metadata": {},
   "outputs": [],
   "source": []
  },
  {
   "cell_type": "code",
   "execution_count": 33,
   "id": "9246ba0d",
   "metadata": {},
   "outputs": [
    {
     "name": "stdout",
     "output_type": "stream",
     "text": [
      "(13, 25, 7, 36)\n",
      "<class 'tuple'>\n"
     ]
    }
   ],
   "source": [
    "def add(a,b,c):\n",
    "    return a+2, b+3, c+4, a+b+c\n",
    "\n",
    "print( add(11,22,3) )\n",
    "print( type(add(11,22,3)) )"
   ]
  },
  {
   "cell_type": "code",
   "execution_count": 34,
   "id": "f1180e2d",
   "metadata": {},
   "outputs": [],
   "source": [
    "a=1\n",
    "b=2\n",
    "c=3\n",
    "d=1.11\n",
    "\n",
    "#or\n",
    "a,b,c,d = 1, 2, 3, 1.11"
   ]
  },
  {
   "cell_type": "code",
   "execution_count": null,
   "id": "dab38fba",
   "metadata": {},
   "outputs": [],
   "source": []
  },
  {
   "cell_type": "code",
   "execution_count": 50,
   "id": "b5fd06f1",
   "metadata": {},
   "outputs": [
    {
     "name": "stdout",
     "output_type": "stream",
     "text": [
      "x-> 5\n",
      "y-> 7\n",
      "z-> 9\n",
      "w-> 12\n"
     ]
    }
   ],
   "source": [
    "def test(a,b,c):\n",
    "    return a+2, b+3, c+4, a+b+c\n",
    "\n",
    "x,y,z,w = add(3,4,5)\n",
    "print('x->',x) # 3+2 or a+2 where a =3\n",
    "print('y->',y) # 4+3 or b+3 where b =4\n",
    "print('z->',z) # 5+4 or c+4 where c =5\n",
    "print('w->',w) # 3+4+5 or a+b+c"
   ]
  },
  {
   "cell_type": "code",
   "execution_count": 52,
   "id": "4e3ec1b4",
   "metadata": {},
   "outputs": [
    {
     "name": "stdout",
     "output_type": "stream",
     "text": [
      "12\n",
      "9\n"
     ]
    }
   ],
   "source": [
    "def test(a,b,c):\n",
    "    return a+2, b+3, c+4, a+b+c\n",
    "\n",
    "\n",
    "_, _, _, b = test(3,4,5)\n",
    "print(b) #3+4+5\n",
    "print(_) # first 3+2 then overwrite 4+3 then overwrite 5+4 "
   ]
  },
  {
   "cell_type": "code",
   "execution_count": null,
   "id": "77bf83a3",
   "metadata": {},
   "outputs": [],
   "source": []
  },
  {
   "cell_type": "code",
   "execution_count": 60,
   "id": "3b35fa6e",
   "metadata": {},
   "outputs": [
    {
     "name": "stdout",
     "output_type": "stream",
     "text": [
      "81\n",
      "\n",
      "\n",
      "81\n"
     ]
    }
   ],
   "source": [
    "def test(x,y):\n",
    "    return x+y, x, x**4, x*y\n",
    "\n",
    "print(  test(3,5)[2]  )  # x**4 or 3*3*3*3 because x=3\n",
    "\n",
    "#or\n",
    "print('\\n')\n",
    "_,_,c,_ = test(3,5)\n",
    "print(c)"
   ]
  },
  {
   "cell_type": "code",
   "execution_count": null,
   "id": "67f4a945",
   "metadata": {},
   "outputs": [],
   "source": []
  },
  {
   "cell_type": "code",
   "execution_count": 63,
   "id": "01c5eab8",
   "metadata": {},
   "outputs": [
    {
     "name": "stdout",
     "output_type": "stream",
     "text": [
      "24\n",
      "9\n"
     ]
    }
   ],
   "source": [
    "def test7(b,v,c):\n",
    "    d = b*v*c\n",
    "    f = b+v+c\n",
    "    return d,f\n",
    "\n",
    "a,b = test7(2,3,4)\n",
    "print(a)\n",
    "print(b)"
   ]
  },
  {
   "cell_type": "code",
   "execution_count": null,
   "id": "283a256a",
   "metadata": {},
   "outputs": [],
   "source": []
  },
  {
   "cell_type": "code",
   "execution_count": 7,
   "id": "d06584a3",
   "metadata": {},
   "outputs": [
    {
     "name": "stdout",
     "output_type": "stream",
     "text": [
      "total number of strings-> 4\n"
     ]
    }
   ],
   "source": [
    "# write a function to tell how many string are ther ein the below list\n",
    "l = [\"sudg\", 3,4,5,6,\"kumar\",'a','b',34.556]\n",
    "\n",
    "def string(l):\n",
    "    count = 0\n",
    "    for i in l:\n",
    "        if(type(i) == str): count +=1\n",
    "    return count\n",
    "        \n",
    "print(\"total number of strings->\",string(l))"
   ]
  },
  {
   "cell_type": "code",
   "execution_count": 8,
   "id": "d44e4762",
   "metadata": {},
   "outputs": [
    {
     "data": {
      "text/plain": [
       "4"
      ]
     },
     "execution_count": 8,
     "metadata": {},
     "output_type": "execute_result"
    }
   ],
   "source": [
    "string(l)"
   ]
  },
  {
   "cell_type": "markdown",
   "id": "888966eb",
   "metadata": {},
   "source": [
    "#### Creating the description of function"
   ]
  },
  {
   "cell_type": "code",
   "execution_count": 10,
   "id": "c2f61f63",
   "metadata": {},
   "outputs": [
    {
     "name": "stdout",
     "output_type": "stream",
     "text": [
      "length of string=> 6\n"
     ]
    }
   ],
   "source": [
    "def str_len(s):\n",
    "    '''This will give nunmber of string present'''\n",
    "    return len(s)\n",
    "\n",
    "str='string'\n",
    "print(\"length of string=>\",str_len(str))"
   ]
  },
  {
   "cell_type": "markdown",
   "id": "63139a29",
   "metadata": {},
   "source": [
    "![](s1.jpg)"
   ]
  },
  {
   "cell_type": "code",
   "execution_count": null,
   "id": "3a3ccdd8",
   "metadata": {},
   "outputs": [],
   "source": []
  },
  {
   "cell_type": "markdown",
   "id": "77c8b81e",
   "metadata": {},
   "source": [
    "### Assiging default value to function"
   ]
  },
  {
   "cell_type": "code",
   "execution_count": 16,
   "id": "3ed7a8ed",
   "metadata": {},
   "outputs": [
    {
     "name": "stdout",
     "output_type": "stream",
     "text": [
      "(3, 5)\n",
      "(1, 5)\n",
      "(222, 2222)\n",
      "('Alankar', 5)\n",
      "5\n"
     ]
    }
   ],
   "source": [
    "def test (a=3,b=5):\n",
    "    return a,b\n",
    "print( test() )\n",
    "print( test(1) )\n",
    "print( test(222,2222) )\n",
    "print( test(\"Alankar\") )\n",
    "_,second_value = test()\n",
    "print( second_value )"
   ]
  },
  {
   "cell_type": "code",
   "execution_count": null,
   "id": "42b86794",
   "metadata": {},
   "outputs": [],
   "source": []
  },
  {
   "cell_type": "markdown",
   "id": "f6abddcb",
   "metadata": {},
   "source": [
    "### Function accepting infinite values or \n",
    "## Single Asteric\n",
    "#### Returns Tuple"
   ]
  },
  {
   "cell_type": "code",
   "execution_count": 62,
   "id": "042ac6cd",
   "metadata": {},
   "outputs": [
    {
     "name": "stdout",
     "output_type": "stream",
     "text": [
      "(11, 3)\n",
      "<class 'tuple'>\n",
      "(11, 3, 3, 32, 5, 235, 'sga', 'f')\n"
     ]
    }
   ],
   "source": [
    "def test11(*args):\n",
    "    return args\n",
    "\n",
    "print( test11(11,3) )\n",
    "print( type(test11(11,3)) ) ##########################\n",
    "print( test11(11,3,3,32,5,235,'sga','f') )"
   ]
  },
  {
   "cell_type": "markdown",
   "id": "79a853d5",
   "metadata": {},
   "source": [
    "# NOTE:- we can use any name instead of args"
   ]
  },
  {
   "cell_type": "markdown",
   "id": "5545c989",
   "metadata": {},
   "source": [
    "##### Q ) if we pass n number of string then we must get concatination of all the string"
   ]
  },
  {
   "cell_type": "code",
   "execution_count": 63,
   "id": "e494a0ac",
   "metadata": {},
   "outputs": [
    {
     "data": {
      "text/plain": [
       "'dwfsAlankarSharma'"
      ]
     },
     "execution_count": 63,
     "metadata": {},
     "output_type": "execute_result"
    }
   ],
   "source": [
    "def string_concat(*ar):\n",
    "    string=''\n",
    "    for i in ar:\n",
    "        if type(i) == str:\n",
    "            string = string + i\n",
    "    return string\n",
    "\n",
    "string_concat('dwfs','Alankar',2,23,21,'Sharma')"
   ]
  },
  {
   "cell_type": "code",
   "execution_count": null,
   "id": "53f81ab9",
   "metadata": {},
   "outputs": [],
   "source": []
  },
  {
   "cell_type": "code",
   "execution_count": 64,
   "id": "f7f9a69a",
   "metadata": {},
   "outputs": [
    {
     "name": "stdout",
     "output_type": "stream",
     "text": [
      "('dwfs', 'Alankar', 2, 23, (21, 'Sharma'))\n"
     ]
    },
    {
     "data": {
      "text/plain": [
       "(('dwfs', 'Alankar', 2, 23, 21, 'Sharma'), 1, 2, 3, 4)"
      ]
     },
     "execution_count": 64,
     "metadata": {},
     "output_type": "execute_result"
    }
   ],
   "source": [
    "def string_concat(a,b,c,d,*ar):\n",
    "    return a,b,c,d,ar\n",
    "print( string_concat('dwfs','Alankar',2,23,21,'Sharma'))\n",
    "\n",
    "\n",
    "def string_concat(*ar,a,b,c,d):\n",
    "    return ar,a,b,c,d\n",
    "string_concat('dwfs','Alankar',2,23,21,'Sharma',a=1,b=2,c=3,d=4)"
   ]
  },
  {
   "cell_type": "code",
   "execution_count": null,
   "id": "2308cd8e",
   "metadata": {},
   "outputs": [],
   "source": []
  },
  {
   "cell_type": "markdown",
   "id": "f15e2f9e",
   "metadata": {},
   "source": [
    "## double asterick\n",
    "#### Returns Dictionary"
   ]
  },
  {
   "cell_type": "code",
   "execution_count": 69,
   "id": "1954df17",
   "metadata": {},
   "outputs": [
    {
     "data": {
      "text/plain": [
       "{'Alankar': 222222,\n",
       " 'a': 3333333,\n",
       " 'd': 444444444,\n",
       " 'e': 555555555,\n",
       " 'Sharma': 555555}"
      ]
     },
     "execution_count": 69,
     "metadata": {},
     "output_type": "execute_result"
    }
   ],
   "source": [
    "#used when we pass in keys, i.e Dictionary\n",
    "def test(**kwargs):           # keyword argument\n",
    "    return kwargs\n",
    "test(Alankar=222222, a=3333333 ,d=444444444, e=555555555,Sharma=555555)"
   ]
  },
  {
   "cell_type": "code",
   "execution_count": 70,
   "id": "dd114399",
   "metadata": {},
   "outputs": [
    {
     "ename": "SyntaxError",
     "evalue": "expression cannot contain assignment, perhaps you meant \"==\"? (<ipython-input-70-772d51b00d29>, line 4)",
     "output_type": "error",
     "traceback": [
      "\u001b[1;36m  File \u001b[1;32m\"<ipython-input-70-772d51b00d29>\"\u001b[1;36m, line \u001b[1;32m4\u001b[0m\n\u001b[1;33m    test(Alankar=222222, 1=3333333)\u001b[0m\n\u001b[1;37m                         ^\u001b[0m\n\u001b[1;31mSyntaxError\u001b[0m\u001b[1;31m:\u001b[0m expression cannot contain assignment, perhaps you meant \"==\"?\n"
     ]
    }
   ],
   "source": [
    "#used when we pass in keys, i.e Dictionary\n",
    "def test(**kwargs):           # keyword argument\n",
    "    return kwargs\n",
    "test(Alankar=222222, 1=3333333)\n",
    "\n",
    "#used when we pass in keys, i.e Dictionary\n",
    "def test(**kwargs):           # keyword argument\n",
    "    return kwargs\n",
    "test(Alankar=222222, '1'=3333333)      #both gives error"
   ]
  },
  {
   "cell_type": "code",
   "execution_count": 79,
   "id": "ad6d0c9a",
   "metadata": {},
   "outputs": [
    {
     "data": {
      "text/plain": [
       "{'Alankar': 222222, 'a': [1235, 12514, 15]}"
      ]
     },
     "execution_count": 79,
     "metadata": {},
     "output_type": "execute_result"
    }
   ],
   "source": [
    "#used when we pass in keys, i.e Dictionary\n",
    "def test(**kwargs):           # keyword argument\n",
    "    return kwargs\n",
    "test(Alankar=222222, a=[1235,12514,15])"
   ]
  },
  {
   "cell_type": "code",
   "execution_count": null,
   "id": "5b91e094",
   "metadata": {},
   "outputs": [],
   "source": []
  },
  {
   "cell_type": "markdown",
   "id": "b1f73bd1",
   "metadata": {},
   "source": [
    "#### Q) Take infinite key value pairs in function and then find the length of list"
   ]
  },
  {
   "cell_type": "code",
   "execution_count": 102,
   "id": "9587dcd5",
   "metadata": {},
   "outputs": [
    {
     "data": {
      "text/plain": [
       "8"
      ]
     },
     "execution_count": 102,
     "metadata": {},
     "output_type": "execute_result"
    }
   ],
   "source": [
    "def test(**kwargs):\n",
    "    for i in kwargs.values():\n",
    "        if type(i)==list:\n",
    "            l_length=len(i)\n",
    "    return l_length\n",
    "test(Alankar=222222, l=[21,3,4,5,6,67,7,8])"
   ]
  },
  {
   "cell_type": "code",
   "execution_count": null,
   "id": "b665151e",
   "metadata": {},
   "outputs": [],
   "source": []
  }
 ],
 "metadata": {
  "kernelspec": {
   "display_name": "Python 3",
   "language": "python",
   "name": "python3"
  },
  "language_info": {
   "codemirror_mode": {
    "name": "ipython",
    "version": 3
   },
   "file_extension": ".py",
   "mimetype": "text/x-python",
   "name": "python",
   "nbconvert_exporter": "python",
   "pygments_lexer": "ipython3",
   "version": "3.8.8"
  }
 },
 "nbformat": 4,
 "nbformat_minor": 5
}
