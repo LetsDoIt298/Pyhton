{
 "cells": [
  {
   "cell_type": "code",
   "execution_count": null,
   "id": "07c0d73a",
   "metadata": {},
   "outputs": [],
   "source": []
  },
  {
   "cell_type": "code",
   "execution_count": 2,
   "id": "d8a6e4c8",
   "metadata": {},
   "outputs": [
    {
     "name": "stdout",
     "output_type": "stream",
     "text": [
      "this is the value of a:- 10\n"
     ]
    }
   ],
   "source": [
    "a=10\n",
    "if a:\n",
    "    print(\"this is the value of a:-\",a)"
   ]
  },
  {
   "cell_type": "code",
   "execution_count": 4,
   "id": "41d8ed84",
   "metadata": {},
   "outputs": [
    {
     "name": "stdout",
     "output_type": "stream",
     "text": [
      "Alankar, value of a is less than 20\n"
     ]
    }
   ],
   "source": [
    "a=10\n",
    "if a<20:\n",
    "    print(\"Alankar, value of a is less than 20\")"
   ]
  },
  {
   "cell_type": "code",
   "execution_count": 7,
   "id": "9adb4dcc",
   "metadata": {},
   "outputs": [
    {
     "name": "stdout",
     "output_type": "stream",
     "text": [
      "Enter a number20\n",
      "value is equal to 20\n"
     ]
    }
   ],
   "source": [
    "a=int(input('Enter a number'))\n",
    "if a<20:\n",
    "    print(\"value is less than 20\")\n",
    "if a == 20:\n",
    "    print(\"value is equal to 20\")    \n",
    "if a>20:\n",
    "    print(\"value is more than 20\")    "
   ]
  },
  {
   "cell_type": "code",
   "execution_count": 9,
   "id": "eb1f6692",
   "metadata": {},
   "outputs": [
    {
     "name": "stdout",
     "output_type": "stream",
     "text": [
      "Enter a number0\n",
      "Number enter is less than or equal to 0 \n"
     ]
    }
   ],
   "source": [
    "a=int(input('Enter a number'))\n",
    "if 0<a<20:\n",
    "    print(\"value is less than 20\")\n",
    "if a == 20:\n",
    "    print(\"value is equal to 20\")    \n",
    "if a>20:\n",
    "    print(\"value is more than 20\")    \n",
    "else:\n",
    "    print('Number enter is less than or equal to 0 ')"
   ]
  },
  {
   "cell_type": "code",
   "execution_count": 11,
   "id": "93ef77fb",
   "metadata": {},
   "outputs": [
    {
     "name": "stdout",
     "output_type": "stream",
     "text": [
      "True\n"
     ]
    }
   ],
   "source": [
    "b=13\n",
    "if type(a)==int:\n",
    "    print(True)   #########################################################"
   ]
  },
  {
   "cell_type": "code",
   "execution_count": null,
   "id": "b968b45d",
   "metadata": {},
   "outputs": [],
   "source": []
  },
  {
   "cell_type": "code",
   "execution_count": 13,
   "id": "c732d9ac",
   "metadata": {},
   "outputs": [
    {
     "data": {
      "text/plain": [
       "[1, 2, 3, 4, 5, 6, 7, 8, 9]"
      ]
     },
     "execution_count": 13,
     "metadata": {},
     "output_type": "execute_result"
    }
   ],
   "source": [
    "l=[1,2,3,4,5,6,7,8,9]\n",
    "l"
   ]
  },
  {
   "cell_type": "markdown",
   "id": "5a195988",
   "metadata": {},
   "source": [
    "#### NOTE:- l[::] and l[::1] both are same\n"
   ]
  },
  {
   "cell_type": "code",
   "execution_count": 16,
   "id": "b1d721cd",
   "metadata": {},
   "outputs": [
    {
     "data": {
      "text/plain": [
       "[1, 2, 3, 4, 5, 6, 7, 8, 9]"
      ]
     },
     "execution_count": 16,
     "metadata": {},
     "output_type": "execute_result"
    }
   ],
   "source": [
    "l[::]"
   ]
  },
  {
   "cell_type": "code",
   "execution_count": 17,
   "id": "58f0fead",
   "metadata": {},
   "outputs": [
    {
     "data": {
      "text/plain": [
       "[1, 2, 3, 4, 5, 6, 7, 8, 9]"
      ]
     },
     "execution_count": 17,
     "metadata": {},
     "output_type": "execute_result"
    }
   ],
   "source": [
    "l[::1]"
   ]
  },
  {
   "cell_type": "code",
   "execution_count": 18,
   "id": "71ff9a20",
   "metadata": {},
   "outputs": [
    {
     "name": "stdout",
     "output_type": "stream",
     "text": [
      "1\n",
      "2\n",
      "3\n",
      "4\n",
      "5\n",
      "6\n",
      "7\n",
      "8\n",
      "9\n"
     ]
    }
   ],
   "source": [
    "for i in l:\n",
    "    print(i)"
   ]
  },
  {
   "cell_type": "code",
   "execution_count": 33,
   "id": "2a373887",
   "metadata": {},
   "outputs": [
    {
     "name": "stdout",
     "output_type": "stream",
     "text": [
      "['Alankar', [1, 2, 3, 4, 5], (2, 3, 4, 5), 22, 23, 54, (6+5j), True]\n",
      "['Alankar', [1, 2, 3, 4, 5], (2, 3, 4, 5), 22, 23, 54, (6+5j), True]\n",
      "['Alankar', [1, 2, 3, 4, 5], (2, 3, 4, 5), 22, 23, 54, (6+5j), True]\n",
      "['Alankar', [1, 2, 3, 4, 5], (2, 3, 4, 5), 22, 23, 54, (6+5j), True]\n",
      "['Alankar', [1, 2, 3, 4, 5], (2, 3, 4, 5), 22, 23, 54, (6+5j), True]\n",
      "['Alankar', [1, 2, 3, 4, 5], (2, 3, 4, 5), 22, 23, 54, (6+5j), True]\n",
      "['Alankar', [1, 2, 3, 4, 5], (2, 3, 4, 5), 22, 23, 54, (6+5j), True]\n",
      "['Alankar', [1, 2, 3, 4, 5], (2, 3, 4, 5), 22, 23, 54, (6+5j), True]\n",
      "Alankar\n",
      "[1, 2, 3, 4, 5]\n",
      "(2, 3, 4, 5)\n",
      "22\n",
      "23\n",
      "54\n",
      "(6+5j)\n",
      "True\n"
     ]
    }
   ],
   "source": [
    "l1 = ['Alankar', [1,2,3,4,5], (2,3,4,5), 22, 23, 54, 6+5j, True]\n",
    "l1\n",
    "\n",
    "for i in l1:\n",
    "    print(l1)\n",
    "    \n",
    "for i in l1:\n",
    "    print(i)"
   ]
  },
  {
   "cell_type": "code",
   "execution_count": 54,
   "id": "f1ba7f11",
   "metadata": {},
   "outputs": [
    {
     "name": "stdout",
     "output_type": "stream",
     "text": [
      "number of string-  1\n",
      "number of bool-  1\n",
      "number of Int-  2\n",
      "number of complex-  1\n"
     ]
    }
   ],
   "source": [
    "l2 = ['lan',11,True,23,5+2j]\n",
    "Str = Int = Bool = Complex = 0\n",
    "for i in l2:\n",
    "    if type(i) == str: Str +=1\n",
    "    if type(i) == bool: Bool +=1\n",
    "    if type(i) == int: Int+=1\n",
    "    if type(i) == complex: Complex +=1\n",
    "print('number of string- ',Str)\n",
    "print('number of bool- ',Bool)\n",
    "print('number of Int- ',Int)\n",
    "print('number of complex- ',Complex)"
   ]
  },
  {
   "cell_type": "code",
   "execution_count": 67,
   "id": "e38399e1",
   "metadata": {},
   "outputs": [
    {
     "name": "stdout",
     "output_type": "stream",
     "text": [
      "list is-> ['Alankar', [1, 2, 3, 4, 5], (2, 3, 4, 5), 22, 23, 54, (6+5j), True]\n",
      "[5, 4, 3, 2, 1]\n"
     ]
    }
   ],
   "source": [
    "#printing list in reverse oder\n",
    "print('list is->',l1)\n",
    "for i in l1:\n",
    "    if type(i) == list:\n",
    "        print(i[::-1])"
   ]
  },
  {
   "cell_type": "code",
   "execution_count": null,
   "id": "8c191607",
   "metadata": {},
   "outputs": [],
   "source": []
  },
  {
   "cell_type": "code",
   "execution_count": 68,
   "id": "9fbe01be",
   "metadata": {},
   "outputs": [
    {
     "data": {
      "text/plain": [
       "[0, 1, 2, 3, 4, 5, 6]"
      ]
     },
     "execution_count": 68,
     "metadata": {},
     "output_type": "execute_result"
    }
   ],
   "source": [
    "list(range(7))"
   ]
  },
  {
   "cell_type": "code",
   "execution_count": 69,
   "id": "f8907071",
   "metadata": {},
   "outputs": [
    {
     "data": {
      "text/plain": [
       "(0, 1, 2, 3, 4, 5)"
      ]
     },
     "execution_count": 69,
     "metadata": {},
     "output_type": "execute_result"
    }
   ],
   "source": [
    "tuple(range(6))"
   ]
  },
  {
   "cell_type": "code",
   "execution_count": 71,
   "id": "10576e61",
   "metadata": {},
   "outputs": [
    {
     "name": "stdout",
     "output_type": "stream",
     "text": [
      "0\n",
      "1\n",
      "2\n",
      "3\n",
      "4\n",
      "5\n",
      "6\n",
      "7\n",
      "8\n",
      "9\n"
     ]
    }
   ],
   "source": [
    "for i in range(10):\n",
    "    print(i)"
   ]
  },
  {
   "cell_type": "code",
   "execution_count": null,
   "id": "ab576ee0",
   "metadata": {},
   "outputs": [],
   "source": []
  },
  {
   "cell_type": "code",
   "execution_count": null,
   "id": "7caa6dd4",
   "metadata": {},
   "outputs": [],
   "source": []
  },
  {
   "cell_type": "code",
   "execution_count": 98,
   "id": "7bd2b65f",
   "metadata": {},
   "outputs": [
    {
     "name": "stdout",
     "output_type": "stream",
     "text": [
      "Alan kar\n",
      "Alankar\n",
      "Alan      kar\n"
     ]
    }
   ],
   "source": [
    "print('Alan','kar')\n",
    "\n",
    "print('Alan','kar',sep='')\n",
    "\n",
    "print('Alan','kar',sep='      ')"
   ]
  },
  {
   "cell_type": "code",
   "execution_count": 127,
   "id": "aa04d06b",
   "metadata": {},
   "outputs": [
    {
     "name": "stdout",
     "output_type": "stream",
     "text": [
      "Alankar$$$$Alankar$$$$\n",
      "\n",
      "Alankar   Alankar   \n",
      "\n",
      "AlankarAlankar"
     ]
    }
   ],
   "source": [
    "for i in range(2): print('Alankar',end='$$$$') \n",
    "print('\\n')\n",
    "for i in range(2): print('Alankar',end='   ') \n",
    "print('\\n')    \n",
    "for i in range(2): print('Alankar',end='') "
   ]
  },
  {
   "cell_type": "code",
   "execution_count": 128,
   "id": "95dc6eb1",
   "metadata": {},
   "outputs": [
    {
     "name": "stdout",
     "output_type": "stream",
     "text": [
      ".\n",
      "..\n",
      "...\n",
      "....\n",
      ".....\n"
     ]
    }
   ],
   "source": [
    "#pattern\n",
    "k=0\n",
    "for i in range(5):\n",
    "    print(\".\")\n",
    "    for j in range(4):\n",
    "        if i==4: break\n",
    "        if j<=i :\n",
    "            print(\".\",end='')\n",
    "        else: continue"
   ]
  },
  {
   "cell_type": "code",
   "execution_count": 129,
   "id": "fe800b6a",
   "metadata": {},
   "outputs": [],
   "source": [
    "#or"
   ]
  },
  {
   "cell_type": "code",
   "execution_count": 130,
   "id": "e05e10f9",
   "metadata": {},
   "outputs": [
    {
     "name": "stdout",
     "output_type": "stream",
     "text": [
      ".\n",
      "..\n",
      "...\n",
      "....\n",
      ".....\n"
     ]
    }
   ],
   "source": [
    "for i in range(5):\n",
    "    for j in range(i+1):\n",
    "        print('.',end='')\n",
    "    print('')"
   ]
  },
  {
   "cell_type": "markdown",
   "id": "294c707c",
   "metadata": {},
   "source": [
    "### Task1"
   ]
  },
  {
   "cell_type": "raw",
   "id": "3b9988e8",
   "metadata": {},
   "source": [
    "   .\n",
    " .   .\n",
    ".  .  .\n",
    " .   .\n",
    "   ."
   ]
  },
  {
   "cell_type": "code",
   "execution_count": 88,
   "id": "9961a227",
   "metadata": {},
   "outputs": [
    {
     "name": "stdout",
     "output_type": "stream",
     "text": [
      "     . \n",
      "\n",
      "   .  . \n",
      "\n",
      " .  .  . \n",
      "\n",
      "   .  . \n",
      "\n",
      "     . \n",
      "\n"
     ]
    }
   ],
   "source": [
    "for i in range(3):\n",
    "    for j in range(2-i):\n",
    "        print('  ',end='')\n",
    "    for j in range(i+1):\n",
    "        print(' . ',end='')\n",
    "    print('\\n')\n",
    "    \n",
    "for i in range(2):\n",
    "    for j in range(i+1):\n",
    "        print('  ',end='')\n",
    "    for j in range(2-i):\n",
    "        print(' . ',end='')\n",
    "    print('\\n')"
   ]
  },
  {
   "cell_type": "code",
   "execution_count": 92,
   "id": "e5d82939",
   "metadata": {},
   "outputs": [
    {
     "name": "stdout",
     "output_type": "stream",
     "text": [
      "      . \n",
      "\n",
      "    . . . \n",
      "\n"
     ]
    }
   ],
   "source": [
    "#other things\n",
    "k=1\n",
    "for i in range(2):\n",
    "    for j in range(3-i):\n",
    "        print('  ',end='')\n",
    "    \n",
    "    for j in range(i+k):\n",
    "        print('. ',end='')\n",
    "    k +=1\n",
    "    print('\\n')\n",
    "\n"
   ]
  },
  {
   "cell_type": "code",
   "execution_count": 93,
   "id": "f7f08fce",
   "metadata": {},
   "outputs": [
    {
     "name": "stdout",
     "output_type": "stream",
     "text": [
      ". . . \n",
      "\n",
      " . . \n",
      "\n"
     ]
    }
   ],
   "source": [
    "#other things\n",
    "k=3    \n",
    "for i in range(2):\n",
    "    for j in range(i):\n",
    "        print(' ',end='')\n",
    "    for j in range(i+k):\n",
    "        print('. ',end='')\n",
    "    print('\\n')    \n",
    "    k -=2\n",
    "    "
   ]
  },
  {
   "cell_type": "markdown",
   "id": "d8af6e80",
   "metadata": {},
   "source": [
    "### Task2"
   ]
  },
  {
   "cell_type": "raw",
   "id": "e37f02f5",
   "metadata": {},
   "source": [
    " L=[ [1,1,2,2,3,3],[2,4,2,2,5],[1,5,8,8,2] ]\n",
    " \n",
    " Traverse each element of list and tell how many times a number is reapeting like in L[1];\n",
    " 1 is repeating 2 times\n",
    " 2 is repeating 2 times\n",
    " 3 is repeating 2 times"
   ]
  },
  {
   "cell_type": "code",
   "execution_count": 20,
   "id": "6a111e2c",
   "metadata": {},
   "outputs": [
    {
     "data": {
      "text/plain": [
       "3"
      ]
     },
     "execution_count": 20,
     "metadata": {},
     "output_type": "execute_result"
    }
   ],
   "source": [
    "L=[ [1,1,2,2,3,3],[2,4,2,2,5],[1,5,8,8,2] ]\n",
    "len(L)\n",
    "len( set(L[0]) )"
   ]
  },
  {
   "cell_type": "code",
   "execution_count": 21,
   "id": "ec067e68",
   "metadata": {},
   "outputs": [],
   "source": [
    "l=[11,1,1,1,1]\n",
    "a=set(l)"
   ]
  },
  {
   "cell_type": "code",
   "execution_count": 22,
   "id": "7ff827ba",
   "metadata": {},
   "outputs": [
    {
     "data": {
      "text/plain": [
       "{1, 11}"
      ]
     },
     "execution_count": 22,
     "metadata": {},
     "output_type": "execute_result"
    }
   ],
   "source": [
    "a"
   ]
  },
  {
   "cell_type": "code",
   "execution_count": 23,
   "id": "4614e4c1",
   "metadata": {},
   "outputs": [],
   "source": [
    "l=[1,2,3,3,3,3,3,3,]\n",
    "len(l)\n",
    "l.count(1)\n",
    "\n",
    "new=[]\n",
    "for i in L[0]:\n",
    "    if i not in new:\n",
    "        new.append(i)\n"
   ]
  },
  {
   "cell_type": "code",
   "execution_count": 24,
   "id": "67a59533",
   "metadata": {},
   "outputs": [
    {
     "data": {
      "text/plain": [
       "[1, 2, 3]"
      ]
     },
     "execution_count": 24,
     "metadata": {},
     "output_type": "execute_result"
    }
   ],
   "source": [
    "new"
   ]
  },
  {
   "cell_type": "code",
   "execution_count": 25,
   "id": "43bb7833",
   "metadata": {},
   "outputs": [
    {
     "name": "stdout",
     "output_type": "stream",
     "text": [
      "In list [1, 1, 2, 2, 3, 3]\n",
      "[1, 2, 3]\n",
      "element 1 is present 2 times\n",
      "element 2 is present 2 times\n",
      "element 3 is present 2 times\n",
      "\n",
      "\n",
      "In list [2, 4, 2, 2, 5]\n",
      "[2, 4, 5]\n",
      "element 2 is present 3 times\n",
      "element 4 is present 1 times\n",
      "element 5 is present 1 times\n",
      "\n",
      "\n",
      "In list [1, 5, 8, 8, 2]\n",
      "[1, 5, 8, 2]\n",
      "element 1 is present 1 times\n",
      "element 5 is present 1 times\n",
      "element 8 is present 2 times\n",
      "element 2 is present 1 times\n",
      "\n",
      "\n"
     ]
    }
   ],
   "source": [
    "L=[ [1,1,2,2,3,3],[2,4,2,2,5],[1,5,8,8,2] ]\n",
    "\n",
    "for i in L:\n",
    "    print('In list',i)\n",
    "    new=[]\n",
    "    for j in i:\n",
    "        if j not in new: new.append(j)\n",
    "    print(new)\n",
    "            \n",
    "    for j in range(len(new)):\n",
    "        print('element',new[j],'is present',i.count( new[j]),'times')\n",
    "    print('\\n')"
   ]
  },
  {
   "cell_type": "markdown",
   "id": "d7bb20b9",
   "metadata": {},
   "source": [
    "# Take a note of ' if not' statement above "
   ]
  },
  {
   "cell_type": "code",
   "execution_count": 26,
   "id": "6c52cf46",
   "metadata": {},
   "outputs": [
    {
     "name": "stdout",
     "output_type": "stream",
     "text": [
      "In list [1, 1, 2, 2, 3, 3]\n",
      "we have 3 uniaue elements in this list\n",
      "element 1 in the list is present 2 times\n",
      "element 1 in the list is present 2 times\n",
      "element 2 in the list is present 2 times\n",
      "element 2 in the list is present 2 times\n",
      "element 3 in the list is present 2 times\n",
      "element 3 in the list is present 2 times\n",
      "In list [2, 4, 2, 2, 5]\n",
      "we have 3 uniaue elements in this list\n",
      "element 2 in the list is present 3 times\n",
      "element 4 in the list is present 1 times\n",
      "element 2 in the list is present 3 times\n",
      "element 2 in the list is present 3 times\n",
      "element 5 in the list is present 1 times\n",
      "In list [1, 5, 8, 8, 2]\n",
      "we have 4 uniaue elements in this list\n",
      "element 1 in the list is present 1 times\n",
      "element 5 in the list is present 1 times\n",
      "element 8 in the list is present 2 times\n",
      "element 8 in the list is present 2 times\n",
      "element 2 in the list is present 1 times\n"
     ]
    }
   ],
   "source": [
    "for i in L:\n",
    "    print('In list',i)\n",
    "    print('we have',len(set(i)),'uniaue elements in this list')\n",
    "    \n",
    "    for j in i:\n",
    "        print('element',j,'in the list is present',i.count(j),'times')"
   ]
  },
  {
   "cell_type": "code",
   "execution_count": 27,
   "id": "6759e783",
   "metadata": {},
   "outputs": [
    {
     "name": "stdout",
     "output_type": "stream",
     "text": [
      "In list [1, 1, 2, 2, 3, 3]\n",
      "1 is repeated 2 times\n",
      "1 is repeated 2 times\n",
      "2 is repeated 2 times\n",
      "\n",
      "\n",
      "In list [2, 4, 2, 2, 5]\n",
      "2 is repeated 3 times\n",
      "4 is repeated 1 times\n",
      "2 is repeated 3 times\n",
      "\n",
      "\n",
      "In list [1, 5, 8, 8, 2]\n",
      "1 is repeated 1 times\n",
      "5 is repeated 1 times\n",
      "8 is repeated 2 times\n",
      "8 is repeated 2 times\n",
      "\n",
      "\n"
     ]
    }
   ],
   "source": [
    "# this dint work as expected\n",
    "for i in L:\n",
    "    print('In list',i)\n",
    "    a=set(i)\n",
    "    for j in range(len(a )):\n",
    "        print(i[j],'is repeated',i.count(i[j]),'times')\n",
    "    print('\\n')    "
   ]
  },
  {
   "cell_type": "code",
   "execution_count": null,
   "id": "8e6f8d2a",
   "metadata": {},
   "outputs": [],
   "source": []
  },
  {
   "cell_type": "code",
   "execution_count": null,
   "id": "79c42fc0",
   "metadata": {},
   "outputs": [],
   "source": []
  }
 ],
 "metadata": {
  "kernelspec": {
   "display_name": "Python 3",
   "language": "python",
   "name": "python3"
  },
  "language_info": {
   "codemirror_mode": {
    "name": "ipython",
    "version": 3
   },
   "file_extension": ".py",
   "mimetype": "text/x-python",
   "name": "python",
   "nbconvert_exporter": "python",
   "pygments_lexer": "ipython3",
   "version": "3.8.8"
  }
 },
 "nbformat": 4,
 "nbformat_minor": 5
}
