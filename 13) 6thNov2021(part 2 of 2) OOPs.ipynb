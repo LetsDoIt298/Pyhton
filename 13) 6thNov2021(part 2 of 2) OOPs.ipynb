{
 "cells": [
  {
   "cell_type": "markdown",
   "id": "ff472b14",
   "metadata": {},
   "source": [
    "# OOPs"
   ]
  },
  {
   "cell_type": "code",
   "execution_count": null,
   "id": "6bdda8e7",
   "metadata": {},
   "outputs": [],
   "source": [
    "#In classes, variables are called attributes"
   ]
  },
  {
   "cell_type": "code",
   "execution_count": 1,
   "id": "c1a5054d",
   "metadata": {},
   "outputs": [
    {
     "data": {
      "text/plain": [
       "\"\\nclass -> bluprint, non-real thing, just to provide idea, won't be able to visualize, \\nobject -> specific thing\\n\\nexample=>\\n          class -> car\\n       object -> Audi Q7\""
      ]
     },
     "execution_count": 1,
     "metadata": {},
     "output_type": "execute_result"
    }
   ],
   "source": [
    "#class & object\n",
    "'''\n",
    "class -> bluprint, non-real thing, just to provide idea, won't be able to visualize, \n",
    "object -> specific thing\n",
    "\n",
    "example=>\n",
    "          class -> car\n",
    "       object -> Audi Q7'''"
   ]
  },
  {
   "cell_type": "code",
   "execution_count": 2,
   "id": "698c51aa",
   "metadata": {},
   "outputs": [],
   "source": [
    "class test :\n",
    "    pass"
   ]
  },
  {
   "cell_type": "code",
   "execution_count": null,
   "id": "b41645cc",
   "metadata": {},
   "outputs": [],
   "source": [
    "a='alan'"
   ]
  },
  {
   "cell_type": "code",
   "execution_count": null,
   "id": "78099d76",
   "metadata": {},
   "outputs": [],
   "source": []
  },
  {
   "cell_type": "code",
   "execution_count": 43,
   "id": "b69c65a1",
   "metadata": {},
   "outputs": [
    {
     "ename": "TypeError",
     "evalue": "test_fun() takes 0 positional arguments but 1 was given",
     "output_type": "error",
     "traceback": [
      "\u001b[1;31m---------------------------------------------------------------------------\u001b[0m",
      "\u001b[1;31mTypeError\u001b[0m                                 Traceback (most recent call last)",
      "\u001b[1;32m<ipython-input-43-d82921b07209>\u001b[0m in \u001b[0;36m<module>\u001b[1;34m\u001b[0m\n\u001b[0;32m      4\u001b[0m \u001b[1;33m\u001b[0m\u001b[0m\n\u001b[0;32m      5\u001b[0m \u001b[0mb\u001b[0m\u001b[1;33m=\u001b[0m \u001b[0mtest1\u001b[0m\u001b[1;33m(\u001b[0m\u001b[1;33m)\u001b[0m\u001b[1;33m\u001b[0m\u001b[1;33m\u001b[0m\u001b[0m\n\u001b[1;32m----> 6\u001b[1;33m \u001b[0mb\u001b[0m\u001b[1;33m.\u001b[0m\u001b[0mtest_fun\u001b[0m\u001b[1;33m(\u001b[0m\u001b[1;33m)\u001b[0m\u001b[1;33m\u001b[0m\u001b[1;33m\u001b[0m\u001b[0m\n\u001b[0m",
      "\u001b[1;31mTypeError\u001b[0m: test_fun() takes 0 positional arguments but 1 was given"
     ]
    }
   ],
   "source": [
    "class test1:\n",
    "    def test_fun():\n",
    "        print('This is my first classs')\n",
    "\n",
    "b= test1()\n",
    "b.test_fun()"
   ]
  },
  {
   "cell_type": "code",
   "execution_count": 44,
   "id": "09d0073c",
   "metadata": {},
   "outputs": [
    {
     "name": "stdout",
     "output_type": "stream",
     "text": [
      "This is my forst classs\n"
     ]
    }
   ],
   "source": [
    "class test1:\n",
    "    def test_fun(a):                            #here 'a' or 'self' or... is pointer which is pointing test1\n",
    "        print('This is my forst classs')\n",
    "b= test1()\n",
    "b.test_fun()"
   ]
  },
  {
   "cell_type": "code",
   "execution_count": null,
   "id": "601cd1c1",
   "metadata": {},
   "outputs": [],
   "source": []
  },
  {
   "cell_type": "markdown",
   "id": "af217550",
   "metadata": {},
   "source": [
    "### Question 1 WAP 3 i/p from user and then do addition of 3 int"
   ]
  },
  {
   "cell_type": "code",
   "execution_count": 35,
   "id": "f70867a8",
   "metadata": {},
   "outputs": [
    {
     "name": "stdout",
     "output_type": "stream",
     "text": [
      "1\n",
      "2\n",
      "3\n",
      "ans-> 6\n"
     ]
    }
   ],
   "source": [
    "#scripting way:-\n",
    "a = int(input())\n",
    "b = int(input())\n",
    "c = int(input())\n",
    "print('ans->',a+b+c)"
   ]
  },
  {
   "cell_type": "code",
   "execution_count": 1,
   "id": "8b8d41a3",
   "metadata": {},
   "outputs": [],
   "source": [
    "#other method=>\n",
    "class test2:\n",
    "    def __init__(self,a,b,c):\n",
    "        self.a1 = a\n",
    "        self.b1 = b\n",
    "        self.c1 = c\n",
    "    def sumtest(self):\n",
    "        return self.a1+self.b1+self.c1"
   ]
  },
  {
   "cell_type": "code",
   "execution_count": 2,
   "id": "07c5857d",
   "metadata": {},
   "outputs": [],
   "source": [
    "m= test2(5,8,3)"
   ]
  },
  {
   "cell_type": "code",
   "execution_count": 3,
   "id": "e3333c5c",
   "metadata": {},
   "outputs": [
    {
     "data": {
      "text/plain": [
       "5"
      ]
     },
     "execution_count": 3,
     "metadata": {},
     "output_type": "execute_result"
    }
   ],
   "source": [
    "m.a1"
   ]
  },
  {
   "cell_type": "code",
   "execution_count": 4,
   "id": "094c427c",
   "metadata": {},
   "outputs": [
    {
     "data": {
      "text/plain": [
       "16"
      ]
     },
     "execution_count": 4,
     "metadata": {},
     "output_type": "execute_result"
    }
   ],
   "source": [
    "m.sumtest()"
   ]
  },
  {
   "cell_type": "code",
   "execution_count": 42,
   "id": "f66ddce1",
   "metadata": {},
   "outputs": [
    {
     "name": "stdout",
     "output_type": "stream",
     "text": [
      "1\n",
      "2\n",
      "3\n"
     ]
    },
    {
     "data": {
      "text/plain": [
       "6"
      ]
     },
     "execution_count": 42,
     "metadata": {},
     "output_type": "execute_result"
    }
   ],
   "source": [
    "m = test2(int(input()), int(input()), int(input())) \n",
    "m.sumtest()"
   ]
  },
  {
   "cell_type": "code",
   "execution_count": null,
   "id": "583bcaad",
   "metadata": {},
   "outputs": [],
   "source": []
  },
  {
   "cell_type": "code",
   "execution_count": null,
   "id": "fb72304e",
   "metadata": {},
   "outputs": [],
   "source": []
  }
 ],
 "metadata": {
  "kernelspec": {
   "display_name": "Python 3",
   "language": "python",
   "name": "python3"
  },
  "language_info": {
   "codemirror_mode": {
    "name": "ipython",
    "version": 3
   },
   "file_extension": ".py",
   "mimetype": "text/x-python",
   "name": "python",
   "nbconvert_exporter": "python",
   "pygments_lexer": "ipython3",
   "version": "3.8.8"
  }
 },
 "nbformat": 4,
 "nbformat_minor": 5
}
