{
 "cells": [
  {
   "cell_type": "code",
   "execution_count": 1,
   "id": "91a8eb30",
   "metadata": {},
   "outputs": [
    {
     "data": {
      "text/plain": [
       "20"
      ]
     },
     "execution_count": 1,
     "metadata": {},
     "output_type": "execute_result"
    }
   ],
   "source": [
    "class person:\n",
    "    def __init__ (self, name, surname, year_of_birth):\n",
    "        self.name = name\n",
    "        self.surname = surname\n",
    "        self.year_of_birth = year_of_birth\n",
    "    \n",
    "    def age(self, current_year):\n",
    "        return current_year - self.year_of_birth   #NOTE:- we need not need to wrtite like this => \n",
    "                                                  #                               (current_year - self.year_of_birth)\n",
    "                                                # because return returns Sting\n",
    "    \n",
    "    \n",
    "##################################################################\n",
    "alan = person('Alankar', \"sharma\", 2001) # here 'alan' is object of 'person' class\n",
    "alan.age(2021)         #this will give age "
   ]
  },
  {
   "cell_type": "markdown",
   "id": "16cd0bb5",
   "metadata": {},
   "source": [
    "# Inheritance"
   ]
  },
  {
   "cell_type": "markdown",
   "id": "a548800a",
   "metadata": {},
   "source": [
    "### 1) One-to-One Inheritance "
   ]
  },
  {
   "cell_type": "markdown",
   "id": "06e8c515",
   "metadata": {},
   "source": [
    "A is a class        \n",
    "& B is a child of class A"
   ]
  },
  {
   "cell_type": "code",
   "execution_count": 39,
   "id": "d5f66f84",
   "metadata": {},
   "outputs": [
    {
     "data": {
      "text/plain": [
       "21"
      ]
     },
     "execution_count": 39,
     "metadata": {},
     "output_type": "execute_result"
    }
   ],
   "source": [
    "# 1st way=>\n",
    "class person:\n",
    "    def __init__(self, name, surname, year_of_birth):                # init is constructor of person class\n",
    "        self.name = name\n",
    "        self.surname = surname\n",
    "        self.year_of_birth = year_of_birth\n",
    "    \n",
    "    def age(self, current_year):                                      #here age is method of class person\n",
    "        return current_year - self.year_of_birth\n",
    "\n",
    "    \n",
    "class student(person):\n",
    "    def __init__(self, name, surname, year_of_birth, student_id):\n",
    "        self.student_id = student_id\n",
    "        person.__init__(self,name, surname, year_of_birth)\n",
    "\n",
    "        \n",
    "\n",
    "#################################################################################\n",
    "stud = student('alan','sharma',2000,2334543234543)\n",
    "stud.age(2021)"
   ]
  },
  {
   "cell_type": "code",
   "execution_count": 40,
   "id": "e4588277",
   "metadata": {},
   "outputs": [
    {
     "data": {
      "text/plain": [
       "21"
      ]
     },
     "execution_count": 40,
     "metadata": {},
     "output_type": "execute_result"
    }
   ],
   "source": [
    "# 2nd way=>  by using superkeyword                                  #good way\n",
    "class person:\n",
    "    def __init__(self, name, surname, year_of_birth):\n",
    "        self.name = name\n",
    "        self.surname = surname\n",
    "        self.year_of_birth = year_of_birth\n",
    "    \n",
    "    def age(self, current_year):\n",
    "        return current_year - self.year_of_birth\n",
    "\n",
    "class student(person):\n",
    "    def __init__(self, student_id, *args):#by writing *args we'll get all the properties of class person(like name,surname)\n",
    "        super(student,self).__init__(*args)\n",
    "        self.student_id = student_id\n",
    "        \n",
    "        \n",
    "####################################################################\n",
    "stud = student(35815602719,\"Alankar\", \"Sharma\", 2000)\n",
    "stud.age(2021)"
   ]
  },
  {
   "cell_type": "code",
   "execution_count": 41,
   "id": "832f6e99",
   "metadata": {},
   "outputs": [
    {
     "ename": "TypeError",
     "evalue": "__init__() missing 3 required positional arguments: 'name', 'surname', and 'year_of_birth'",
     "output_type": "error",
     "traceback": [
      "\u001b[1;31m---------------------------------------------------------------------------\u001b[0m",
      "\u001b[1;31mTypeError\u001b[0m                                 Traceback (most recent call last)",
      "\u001b[1;32m<ipython-input-41-9fd5522bbdd8>\u001b[0m in \u001b[0;36m<module>\u001b[1;34m\u001b[0m\n\u001b[1;32m----> 1\u001b[1;33m \u001b[0mstud\u001b[0m \u001b[1;33m=\u001b[0m \u001b[0mstudent\u001b[0m\u001b[1;33m(\u001b[0m\u001b[1;36m35815602719\u001b[0m\u001b[1;33m)\u001b[0m     \u001b[1;31m#error because we require to input name , surname, year birth..\u001b[0m\u001b[1;33m\u001b[0m\u001b[1;33m\u001b[0m\u001b[0m\n\u001b[0m",
      "\u001b[1;32m<ipython-input-40-eae0c57075e9>\u001b[0m in \u001b[0;36m__init__\u001b[1;34m(self, student_id, *args)\u001b[0m\n\u001b[0;32m     11\u001b[0m \u001b[1;32mclass\u001b[0m \u001b[0mstudent\u001b[0m\u001b[1;33m(\u001b[0m\u001b[0mperson\u001b[0m\u001b[1;33m)\u001b[0m\u001b[1;33m:\u001b[0m\u001b[1;33m\u001b[0m\u001b[1;33m\u001b[0m\u001b[0m\n\u001b[0;32m     12\u001b[0m     \u001b[1;32mdef\u001b[0m \u001b[0m__init__\u001b[0m\u001b[1;33m(\u001b[0m\u001b[0mself\u001b[0m\u001b[1;33m,\u001b[0m \u001b[0mstudent_id\u001b[0m\u001b[1;33m,\u001b[0m \u001b[1;33m*\u001b[0m\u001b[0margs\u001b[0m\u001b[1;33m)\u001b[0m\u001b[1;33m:\u001b[0m\u001b[1;31m#by writing *args we'll get all the properties of class person(like name,surname)\u001b[0m\u001b[1;33m\u001b[0m\u001b[1;33m\u001b[0m\u001b[0m\n\u001b[1;32m---> 13\u001b[1;33m         \u001b[0msuper\u001b[0m\u001b[1;33m(\u001b[0m\u001b[0mstudent\u001b[0m\u001b[1;33m,\u001b[0m\u001b[0mself\u001b[0m\u001b[1;33m)\u001b[0m\u001b[1;33m.\u001b[0m\u001b[0m__init__\u001b[0m\u001b[1;33m(\u001b[0m\u001b[1;33m*\u001b[0m\u001b[0margs\u001b[0m\u001b[1;33m)\u001b[0m\u001b[1;33m\u001b[0m\u001b[1;33m\u001b[0m\u001b[0m\n\u001b[0m\u001b[0;32m     14\u001b[0m         \u001b[0mself\u001b[0m\u001b[1;33m.\u001b[0m\u001b[0mstudent_id\u001b[0m \u001b[1;33m=\u001b[0m \u001b[0mstudent_id\u001b[0m\u001b[1;33m\u001b[0m\u001b[1;33m\u001b[0m\u001b[0m\n\u001b[0;32m     15\u001b[0m \u001b[1;33m\u001b[0m\u001b[0m\n",
      "\u001b[1;31mTypeError\u001b[0m: __init__() missing 3 required positional arguments: 'name', 'surname', and 'year_of_birth'"
     ]
    }
   ],
   "source": [
    "stud = student(35815602719)     #error because we require to input name , surname, year birth.."
   ]
  },
  {
   "cell_type": "code",
   "execution_count": 42,
   "id": "5ebb1884",
   "metadata": {},
   "outputs": [],
   "source": [
    "#               OR IF SEE BELOW PROGRAM TO DIFFERENCIATE BETTER"
   ]
  },
  {
   "cell_type": "code",
   "execution_count": 43,
   "id": "09c2d65f",
   "metadata": {},
   "outputs": [
    {
     "data": {
      "text/plain": [
       "13"
      ]
     },
     "execution_count": 43,
     "metadata": {},
     "output_type": "execute_result"
    }
   ],
   "source": [
    "class prac():\n",
    "    def __init__(self,a,b):\n",
    "        self.a1 = a\n",
    "        self.b1 = b\n",
    "    def sum(self):\n",
    "        return self.a1 + self.b1\n",
    "\n",
    "# 1st way:-                        # 2nd way:-                             #3r way(using super):-\n",
    "class prac1(prac):                 # class prac1(prac):                    # class prac1(prac):\n",
    "    def __init__(self,a,b,c):      #*   def __init__(self,c,*args):        #*   def __init__(self,c,*args):\n",
    "        self.c1=c                  #        self.c1=c                      #*       super(prac1, self).__init__(*args)\n",
    "        prac.__init__(self,a,b)    #*       prac.__init__(self,*args)      #*       self.c1 = c\n",
    "        \n",
    "    \n",
    "    def sum1(self):\n",
    "        return self.a1 + self.b1 + self.c1\n",
    "\n",
    "        \n",
    "p=prac1(2,6,5)\n",
    "p.sum1()"
   ]
  },
  {
   "cell_type": "code",
   "execution_count": 65,
   "id": "140dc158",
   "metadata": {},
   "outputs": [
    {
     "name": "stdout",
     "output_type": "stream",
     "text": [
      "use of super\n"
     ]
    }
   ],
   "source": [
    "'''Note:-Let A,B,C be classes. A is parent of B, B is parent of C\n",
    "             or\n",
    "            A(B(C))\n",
    "        then, super of C is B\n",
    "              super of B is A\n",
    "        \n",
    "        This is what super keyword does'''\n",
    "\n",
    "\n",
    "print('use of super')"
   ]
  },
  {
   "cell_type": "code",
   "execution_count": null,
   "id": "4112a6fc",
   "metadata": {},
   "outputs": [],
   "source": []
  },
  {
   "cell_type": "markdown",
   "id": "7a5cb6e4",
   "metadata": {},
   "source": [
    "### 2) multiple inheritance"
   ]
  },
  {
   "cell_type": "markdown",
   "id": "ae8e286e",
   "metadata": {},
   "source": [
    "A is a class                                 \n",
    "B is another class                                      \n",
    "& C is a child of class A and class B"
   ]
  },
  {
   "cell_type": "code",
   "execution_count": 8,
   "id": "73b13a9d",
   "metadata": {},
   "outputs": [
    {
     "name": "stdout",
     "output_type": "stream",
     "text": [
      "(4, 4)\n"
     ]
    }
   ],
   "source": [
    "class test:\n",
    "    def __init__(self, a,b):\n",
    "        self.a = a\n",
    "        self.b = b\n",
    "\n",
    "class test1:\n",
    "    \n",
    "    def __init__(self,c,d):\n",
    "        self.c = c\n",
    "        self.d = d\n",
    "        \n",
    "\n",
    "class child(test, test1):\n",
    "    def __init__(self, *args):\n",
    "        test.__init__(self, *args)     #here we can also use super, as shown above,\n",
    "        test1.__init__(self, *args)    # but we'll get error, because compiler will not be able to understand which \n",
    "                                       # 'super' we are trying to reffer test or test1\n",
    "        \n",
    "    def fun_child(self):\n",
    "        print(self.a, self.c)  \n",
    "        \n",
    "################################################################################\n",
    "obj = child(4,5)\n",
    "print(obj.fun_child()) # 1)Although we have 4 variables(a,b,c,d) but even after entering 2 values we are not getting error\n",
    "                       # 2)Moreover we are getting output as 4 4 \n",
    "                       # because:-\n",
    "                       # 'args' is nothing but the variable which was copping same object in both the classes\n",
    "                       # therefore in class 'test'=> a=4 and b=5\n",
    "                       #           in class'test1'=> c=4 and d=5"
   ]
  },
  {
   "cell_type": "markdown",
   "id": "3f1de448",
   "metadata": {},
   "source": [
    "# Why we are getting NONE  above\n",
    "#### to solve this issue above line no. 20 write :- return self.a, self.c"
   ]
  },
  {
   "cell_type": "code",
   "execution_count": 4,
   "id": "1e375c66",
   "metadata": {},
   "outputs": [
    {
     "name": "stdout",
     "output_type": "stream",
     "text": [
      "4 6\n",
      "None\n"
     ]
    }
   ],
   "source": [
    "#other case of above program\n",
    "class test:\n",
    "    def __init__(self, a,b):\n",
    "        self.a = a\n",
    "        self.b = b\n",
    "\n",
    "class test1:\n",
    "    \n",
    "    def __init__(self,c,d):\n",
    "        self.c = c\n",
    "        self.d = d\n",
    "        \n",
    "\n",
    "class child(test, test1):\n",
    "    def __init__(self, a,b,c,d):\n",
    "        test.__init__(self, a,b)     #here we can also use super, as shown above\n",
    "        test1.__init__(self, c,d)\n",
    "        \n",
    "    def fun_child(self):\n",
    "        print(self.a, self.c)  \n",
    "        \n",
    "#####################################################\n",
    "obj = child(4,5 , 6,7)            #here we need to mention values of a,b,c,d\n",
    "obj.fun_child()                 # if we don't enter we get error, see below"
   ]
  },
  {
   "cell_type": "code",
   "execution_count": 68,
   "id": "a59d4d6c",
   "metadata": {},
   "outputs": [
    {
     "ename": "TypeError",
     "evalue": "__init__() missing 2 required positional arguments: 'c' and 'd'",
     "output_type": "error",
     "traceback": [
      "\u001b[1;31m---------------------------------------------------------------------------\u001b[0m",
      "\u001b[1;31mTypeError\u001b[0m                                 Traceback (most recent call last)",
      "\u001b[1;32m<ipython-input-68-53ae60576082>\u001b[0m in \u001b[0;36m<module>\u001b[1;34m\u001b[0m\n\u001b[1;32m----> 1\u001b[1;33m \u001b[0mobj\u001b[0m \u001b[1;33m=\u001b[0m \u001b[0mchild\u001b[0m\u001b[1;33m(\u001b[0m\u001b[1;36m4\u001b[0m\u001b[1;33m,\u001b[0m\u001b[1;36m5\u001b[0m\u001b[1;33m)\u001b[0m      \u001b[1;31m#error, Since no 'args' therefore we need to enter values of a,b,c,d\u001b[0m\u001b[1;33m\u001b[0m\u001b[1;33m\u001b[0m\u001b[0m\n\u001b[0m",
      "\u001b[1;31mTypeError\u001b[0m: __init__() missing 2 required positional arguments: 'c' and 'd'"
     ]
    }
   ],
   "source": [
    "obj = child(4,5)      #error, Since no 'args' therefore we need to enter values of a,b,c,d"
   ]
  },
  {
   "cell_type": "code",
   "execution_count": null,
   "id": "af918b07",
   "metadata": {},
   "outputs": [],
   "source": []
  },
  {
   "cell_type": "markdown",
   "id": "3e784dac",
   "metadata": {},
   "source": [
    "### 3) Multi-lable Inheretance"
   ]
  },
  {
   "cell_type": "markdown",
   "id": "a234e005",
   "metadata": {},
   "source": [
    "A is a class\n",
    "B is child of A\n",
    "C is child of B"
   ]
  },
  {
   "cell_type": "code",
   "execution_count": 9,
   "id": "7fa60096",
   "metadata": {},
   "outputs": [
    {
     "name": "stdout",
     "output_type": "stream",
     "text": [
      "1 2 3\n",
      "3 2 1\n",
      "3 2 1\n"
     ]
    }
   ],
   "source": [
    "#----------------------------------------------------------(Normal refference)\n",
    "class A:\n",
    "    def __init__(self,a):\n",
    "        self.a1 = a\n",
    "class B(A):\n",
    "    def __init__(self,a,b):\n",
    "        self.b1 = b\n",
    "        A.__init__(self,a) \n",
    "class C(B):\n",
    "    def __init__(self,a,b,c):\n",
    "        self.c1 = c\n",
    "        B.__init__(self,a,b)\n",
    "#######################################       \n",
    "obj = C(1,2,3)\n",
    "print(obj.a1, obj.b1, obj.c1)\n",
    "\n",
    "#-------------------------------------------------------------(normal reference + *args)\n",
    "class A:\n",
    "    def __init__(self,a):\n",
    "        self.a1 = a\n",
    "class B(A):\n",
    "    def __init__(self,b,*args):\n",
    "        self.b1 = b\n",
    "        A.__init__(self,*args)\n",
    "class C(B):\n",
    "    def __init__(self,c,*args):\n",
    "        self.c1 = c\n",
    "        B.__init__(self,*args)\n",
    "########################################   \n",
    "obj1 = C(1,2,3)\n",
    "print(obj1.a1, obj1.b1, obj1.c1)\n",
    "\n",
    "#---------------------------------------------------------------(super keyword + *args)\n",
    "class A:\n",
    "    def __init__(self,a):\n",
    "        self.a1 = a\n",
    "class B(A):\n",
    "    def __init__(self,b,*args):\n",
    "        super(B,self).__init__(*args)\n",
    "        self.b1 = b\n",
    "class C(B):\n",
    "    def __init__(self,c,*args):\n",
    "        super(C,self).__init__(*args)\n",
    "        self.c1 = c\n",
    "#########################################        \n",
    "obj2 = C(1,2,3)\n",
    "print(obj2.a1 , obj2.b1, obj2.c1)"
   ]
  },
  {
   "cell_type": "code",
   "execution_count": 70,
   "id": "7d89f7b0",
   "metadata": {},
   "outputs": [
    {
     "name": "stdout",
     "output_type": "stream",
     "text": [
      "This is my FIRST class\n",
      "This is my SECOND class\n",
      "This is my THIRD class\n"
     ]
    }
   ],
   "source": [
    "class one():\n",
    "    def first(self):\n",
    "        return \"This is my FIRST class\"\n",
    "class two(one):\n",
    "    def second(self,*args):\n",
    "        return \"This is my SECOND class\"\n",
    "class three(two):\n",
    "    def third(self, *args):\n",
    "        return \"This is my THIRD class\"\n",
    "########################################################\n",
    "obj = three()\n",
    "print(obj.first() )\n",
    "print(obj.second() )\n",
    "print(obj.third() )\n",
    "\n",
    "# NOTE :- We need not need to write __init__ if we are not expecting any input"
   ]
  },
  {
   "cell_type": "code",
   "execution_count": 71,
   "id": "b6238676",
   "metadata": {},
   "outputs": [
    {
     "name": "stdout",
     "output_type": "stream",
     "text": [
      "this is a return from child class\n",
      "this is a return from child class\n"
     ]
    }
   ],
   "source": [
    "class p1:\n",
    "    def __init__(self, a,b):\n",
    "        self.a = a\n",
    "        self.b = b\n",
    "    def dun_p1(self):\n",
    "        return \"this is my return from P1 method\"\n",
    "\n",
    "class p2(p1):\n",
    "    def __init__(self, *args):\n",
    "        pass\n",
    "    def fun_p2(self):\n",
    "        return \"Thi sis a return from p2 method\"\n",
    "    \n",
    "class c(p2):\n",
    "    def __init__(self):                            #we have not used *args because we dont need variable of parent class\n",
    "        pass\n",
    "    def fun(self):\n",
    "        return \"this is a return from child class\"\n",
    "####################################################\n",
    "child_obj = c()\n",
    "print( child_obj.fun() )\n",
    "\n",
    "#    We need not need to write __init__ if we are not expecting any input,because __init__ act as a constructor\n",
    "#-----------------------------------------------------------------------------------------------------\n",
    "class p1:    \n",
    "    def dun_p1(self):\n",
    "        return \"this is my return from P1 method\"    \n",
    "class p2(p1):    \n",
    "    def fun_p2(self):\n",
    "        return \"Thi sis a return from p2 method\"    \n",
    "class c(p2):    \n",
    "    def fun(self):\n",
    "        return \"this is a return from child class\"\n",
    "########################################################    \n",
    "child_obj = c()\n",
    "print( child_obj.fun() )"
   ]
  },
  {
   "cell_type": "markdown",
   "id": "77353bd8",
   "metadata": {},
   "source": [
    "# Method overriding"
   ]
  },
  {
   "cell_type": "markdown",
   "id": "d539ac6e",
   "metadata": {},
   "source": [
    "writing addinal information on a method"
   ]
  },
  {
   "cell_type": "code",
   "execution_count": 1,
   "id": "45aa52df",
   "metadata": {},
   "outputs": [
    {
     "name": "stdout",
     "output_type": "stream",
     "text": [
      "Aln\n"
     ]
    }
   ],
   "source": [
    "#Since we know-\n",
    "#             whenever we call object of a class, then STRING is returned by default\n",
    "class person:\n",
    "    def __init__(self, name, surname, year_of_birth):\n",
    "        self.name = name\n",
    "        self.surname = surname\n",
    "        self.year_of_birth= year_of_birth\n",
    "    \n",
    "    def age(self, current_year):\n",
    "        return current_year - self.year_of_birth\n",
    "    \n",
    "    def __str__(self):        # __str__ inbuild method used print string\n",
    "        return self.name\n",
    "#############################################################\n",
    "per = person(\"Aln\", \"shamrma\", 2000)\n",
    "print(per)        # Therefor whenever we call object of a class, then STRING is returned by default"
   ]
  },
  {
   "cell_type": "code",
   "execution_count": 2,
   "id": "29c8fd2b",
   "metadata": {},
   "outputs": [
    {
     "name": "stdout",
     "output_type": "stream",
     "text": [
      "Alan121443\n"
     ]
    }
   ],
   "source": [
    "# 1st way:-\n",
    "class person:\n",
    "    def __init__(self, name, surname, year_of_birth):\n",
    "        self.name = name\n",
    "        self.surname = surname\n",
    "        self.year_of_birth= year_of_birth\n",
    "    \n",
    "    def age(self, current_year):\n",
    "        return current_year - self.year_of_birth\n",
    "    \n",
    "    def __str__(self):        # __str__ inbuild method used print string\n",
    "        return self.name\n",
    "\n",
    "class student(person):\n",
    "    def __init__(self, student_id, *args):\n",
    "        super(student, self).__init__(*args)\n",
    "        self.student_id = student_id\n",
    "        \n",
    "    def __str__(self):\n",
    "        return self.name + str(self.student_id)\n",
    "    \n",
    "#####################################################################################    \n",
    "stud = student(121443,\"Alan\", \"sh\", 12222)\n",
    "print(stud)      "
   ]
  },
  {
   "cell_type": "code",
   "execution_count": 74,
   "id": "e830575e",
   "metadata": {},
   "outputs": [
    {
     "name": "stdout",
     "output_type": "stream",
     "text": [
      "Alan121443\n"
     ]
    }
   ],
   "source": [
    "#2nd way-(method overiding)\n",
    "\n",
    "class person:\n",
    "    def __init__(self, name, surname, year_of_birth):\n",
    "        self.name = name\n",
    "        self.surname = surname\n",
    "        self.year_of_birth= year_of_birth\n",
    "    \n",
    "    def age(self, current_year):\n",
    "        return current_year - self.year_of_birth\n",
    "    \n",
    "    def __str__(self):        \n",
    "        return self.name\n",
    "\n",
    "class student(person):\n",
    "    def __init__(self, student_id, *args):\n",
    "        super(student, self).__init__(*args)\n",
    "        self.student_id = student_id\n",
    "        \n",
    "    def __str__(self):\n",
    "        return super(student , self).__str__() + str(self.student_id)\n",
    "        # or \n",
    "        #return person.__str__(self) + str(self.student_id)\n",
    "    \n",
    "#########################################################################################    \n",
    "stud = student(121443,\"Alan\", \"sh\", 12222)\n",
    "print(stud)      "
   ]
  },
  {
   "cell_type": "code",
   "execution_count": 75,
   "id": "8db8fc4c",
   "metadata": {},
   "outputs": [
    {
     "name": "stdout",
     "output_type": "stream",
     "text": [
      "Alan\n"
     ]
    }
   ],
   "source": [
    "#Experiment 1\n",
    "class person:\n",
    "    def __init__(self, name, surname, year_of_birth):\n",
    "        self.name = name\n",
    "        self.surname = surname\n",
    "        self.year_of_birth= year_of_birth\n",
    "    \n",
    "    def age(self, current_year):\n",
    "        return current_year - self.year_of_birth\n",
    "    \n",
    "    def __str__(self):        \n",
    "        return self.name\n",
    "\n",
    "class student(person):\n",
    "    def __init__(self, student_id, *args):\n",
    "        super(student, self).__init__(*args)\n",
    "        self.student_id = student_id\n",
    "        \n",
    "   # def __str__(self):\n",
    "    #    return super(student , self).__str__() + str(self.student_id)\n",
    "    \n",
    "#########################################################################################    \n",
    "stud = student(121443,\"Alan\", \"sh\", 12222)\n",
    "print(stud)      #'stud' is object of 'Student' class\n",
    "                 # and an object trys to call STRING method, \n",
    "                 # Since no string in 'Student' class,so 'stud' willsee if parent class of 'student' contains string or not\n",
    "                 # Since there is String method in Parent class(Person)\n",
    "                 # Therefor string method of parent class is printed"
   ]
  },
  {
   "cell_type": "code",
   "execution_count": 76,
   "id": "bb7f079d",
   "metadata": {},
   "outputs": [
    {
     "name": "stdout",
     "output_type": "stream",
     "text": [
      "35815602719\n"
     ]
    }
   ],
   "source": [
    "#Experiment 2\n",
    "\n",
    "class person:\n",
    "    def __init__(self, name, surname, year_of_birth):\n",
    "        self.name = name\n",
    "        self.surname = surname\n",
    "        self.year_of_birth= year_of_birth\n",
    "    def age(self, current_year):\n",
    "        return current_year - self.year_of_birth\n",
    "    def __str__(self):        \n",
    "        return self.name\n",
    "class student(person):\n",
    "    def __init__(self, student_id, *args):\n",
    "        super(student, self).__init__(*args)\n",
    "        self.student_id = student_id\n",
    "        \n",
    "    def __str__(self):\n",
    "        return str(self.student_id)\n",
    "    \n",
    "#########################################################################################    \n",
    "stud = student(35815602719,\"Alan\", \"sh\", 12222)\n",
    "print(stud)      # Since 'stud' is object of class 'student'\n",
    "                 # & String method(__str__) is executed by default of class 'student'\n",
    "                 # and in string method student_id is returned"
   ]
  },
  {
   "cell_type": "code",
   "execution_count": null,
   "id": "930e4fd2",
   "metadata": {},
   "outputs": [],
   "source": []
  },
  {
   "cell_type": "markdown",
   "id": "3a38d69d",
   "metadata": {},
   "source": [
    "# Encapsulation"
   ]
  },
  {
   "cell_type": "markdown",
   "id": "468a7496",
   "metadata": {},
   "source": [
    "Hinding an implimentation"
   ]
  },
  {
   "cell_type": "code",
   "execution_count": 3,
   "id": "9aaff439",
   "metadata": {},
   "outputs": [
    {
     "name": "stdout",
     "output_type": "stream",
     "text": [
      "branchbelted biasopt_pressure\n",
      "fuel typeengin noise\n",
      "size\n",
      "a b c \n"
     ]
    }
   ],
   "source": [
    "class tyre:\n",
    "    def __init__(self, branch , belted_bais , opt_pressure) :\n",
    "        self.branch = branch\n",
    "        self.belted_bais = belted_bais\n",
    "        self.opt_pressure= opt_pressure\n",
    "    def __str__(self):\n",
    "        return self.branch + self.belted_bais + self.opt_pressure\n",
    "    \n",
    "class engin :\n",
    "    def __init__(self, fuel_type , noise_level) : \n",
    "        self.fuel_type = fuel_type\n",
    "        self.noise_level = noise_level\n",
    "    def __str__(self) : \n",
    "        return self.fuel_type + self.noise_level\n",
    "    \n",
    "class body:\n",
    "    def __init__(self, size) : \n",
    "        self.size = size \n",
    "        \n",
    "    def __str__(self) :\n",
    "        return self.size\n",
    "class car:\n",
    "    def __init__(self,a,b,c):\n",
    "        self.a = a\n",
    "        self.b = b\n",
    "        self.c = c\n",
    "        \n",
    "    def __str__(self):\n",
    "        return self.a + self.b + self.c    \n",
    "##############################################################\n",
    "t = tyre(\"branch\", \"belted bias\", \"opt_pressure\")    #object of tyre\n",
    "e = engin(\"fuel type\", \"engin noise\")                #object of engin  \n",
    "b = body(\"size\")                                     #object of body\n",
    "print(t)          #by default __str__ or string method of class 'tyre' is printed \n",
    "print(e)          #by default __str__ or string method of class 'engin' is printed\n",
    "print(b)          #by default __str__ or string method of class 'body' is printed\n",
    "\n",
    "#passing string in class 'car'\n",
    "c= car(\"a \", \"b \", \"c \")\n",
    "print(c)    #by default __str__ or string method of class 'car' is printed"
   ]
  },
  {
   "cell_type": "code",
   "execution_count": 4,
   "id": "1908e963",
   "metadata": {},
   "outputs": [
    {
     "ename": "TypeError",
     "evalue": "unsupported operand type(s) for +: 'tyre' and 'engin'",
     "output_type": "error",
     "traceback": [
      "\u001b[1;31m---------------------------------------------------------------------------\u001b[0m",
      "\u001b[1;31mTypeError\u001b[0m                                 Traceback (most recent call last)",
      "\u001b[1;32m<ipython-input-4-ea287c647fb7>\u001b[0m in \u001b[0;36m<module>\u001b[1;34m\u001b[0m\n\u001b[0;32m      1\u001b[0m \u001b[1;31m#passing objects in class 'car'\u001b[0m\u001b[1;33m\u001b[0m\u001b[1;33m\u001b[0m\u001b[1;33m\u001b[0m\u001b[0m\n\u001b[0;32m      2\u001b[0m \u001b[0mc1\u001b[0m \u001b[1;33m=\u001b[0m \u001b[0mcar\u001b[0m\u001b[1;33m(\u001b[0m\u001b[0mt\u001b[0m\u001b[1;33m,\u001b[0m\u001b[0me\u001b[0m\u001b[1;33m,\u001b[0m\u001b[0mb\u001b[0m\u001b[1;33m)\u001b[0m\u001b[1;33m\u001b[0m\u001b[1;33m\u001b[0m\u001b[0m\n\u001b[1;32m----> 3\u001b[1;33m \u001b[0mprint\u001b[0m\u001b[1;33m(\u001b[0m \u001b[0mc1\u001b[0m  \u001b[1;33m)\u001b[0m              \u001b[1;31m#error see below\u001b[0m\u001b[1;33m\u001b[0m\u001b[1;33m\u001b[0m\u001b[0m\n\u001b[0m",
      "\u001b[1;32m<ipython-input-3-f8733ebedc1b>\u001b[0m in \u001b[0;36m__str__\u001b[1;34m(self)\u001b[0m\n\u001b[0;32m     27\u001b[0m \u001b[1;33m\u001b[0m\u001b[0m\n\u001b[0;32m     28\u001b[0m     \u001b[1;32mdef\u001b[0m \u001b[0m__str__\u001b[0m\u001b[1;33m(\u001b[0m\u001b[0mself\u001b[0m\u001b[1;33m)\u001b[0m\u001b[1;33m:\u001b[0m\u001b[1;33m\u001b[0m\u001b[1;33m\u001b[0m\u001b[0m\n\u001b[1;32m---> 29\u001b[1;33m         \u001b[1;32mreturn\u001b[0m \u001b[0mself\u001b[0m\u001b[1;33m.\u001b[0m\u001b[0ma\u001b[0m \u001b[1;33m+\u001b[0m \u001b[0mself\u001b[0m\u001b[1;33m.\u001b[0m\u001b[0mb\u001b[0m \u001b[1;33m+\u001b[0m \u001b[0mself\u001b[0m\u001b[1;33m.\u001b[0m\u001b[0mc\u001b[0m\u001b[1;33m\u001b[0m\u001b[1;33m\u001b[0m\u001b[0m\n\u001b[0m\u001b[0;32m     30\u001b[0m \u001b[1;31m##############################################################\u001b[0m\u001b[1;33m\u001b[0m\u001b[1;33m\u001b[0m\u001b[1;33m\u001b[0m\u001b[0m\n\u001b[0;32m     31\u001b[0m \u001b[0mt\u001b[0m \u001b[1;33m=\u001b[0m \u001b[0mtyre\u001b[0m\u001b[1;33m(\u001b[0m\u001b[1;34m\"branch\"\u001b[0m\u001b[1;33m,\u001b[0m \u001b[1;34m\"belted bias\"\u001b[0m\u001b[1;33m,\u001b[0m \u001b[1;34m\"opt_pressure\"\u001b[0m\u001b[1;33m)\u001b[0m    \u001b[1;31m#object of tyre\u001b[0m\u001b[1;33m\u001b[0m\u001b[1;33m\u001b[0m\u001b[0m\n",
      "\u001b[1;31mTypeError\u001b[0m: unsupported operand type(s) for +: 'tyre' and 'engin'"
     ]
    }
   ],
   "source": [
    "#passing objects in class 'car'\n",
    "c1 = car(t,e,b)\n",
    "print( c1  )              #solution of error see below"
   ]
  },
  {
   "cell_type": "markdown",
   "id": "c0646dbb",
   "metadata": {},
   "source": [
    "Error resolved below=>"
   ]
  },
  {
   "cell_type": "code",
   "execution_count": 7,
   "id": "a75fde27",
   "metadata": {},
   "outputs": [
    {
     "name": "stdout",
     "output_type": "stream",
     "text": [
      "branchbelted biasopt_pressure  fuel typeengin noise  size\n"
     ]
    }
   ],
   "source": [
    "class tyre:\n",
    "    def __init__(self, branch , belted_bais , opt_pressure) :\n",
    "        self.branch = branch\n",
    "        self.belted_bais = belted_bais\n",
    "        self.opt_pressure= opt_pressure\n",
    "    def __str__(self):\n",
    "        return self.branch + self.belted_bais + self.opt_pressure\n",
    "    \n",
    "class engin :\n",
    "    def __init__(self, fuel_type , noise_level) : \n",
    "        self.fuel_type = fuel_type\n",
    "        self.noise_level = noise_level\n",
    "    def __str__(self) : \n",
    "        return self.fuel_type + self.noise_level\n",
    "    \n",
    "class body:\n",
    "    def __init__(self, size) : \n",
    "        self.size = size \n",
    "        \n",
    "    def __str__(self) :\n",
    "        return self.size\n",
    "class car:\n",
    "    def __init__(self,a,b,c):\n",
    "        self.a = a\n",
    "        self.b = b\n",
    "        self.c = c\n",
    "        \n",
    "    def __str__(self):\n",
    "        return str(self.a) +\"  \"+ str(self.b) +\"  \"+ str(self.c)    #to resolve the error typecast into string\n",
    "    \n",
    "t = tyre(\"branch\", \"belted bias\", \"opt_pressure\")    #object of tyre\n",
    "e = engin(\"fuel type\", \"engin noise\")                #object of engin  \n",
    "b = body(\"size\")                                     #object of body    \n",
    "    \n",
    "c1 = car(t,e,b)   #objects(t,e and b) are passed in object of 'car' \n",
    "print(c1)  "
   ]
  },
  {
   "cell_type": "code",
   "execution_count": null,
   "id": "a1c03cd9",
   "metadata": {},
   "outputs": [],
   "source": []
  },
  {
   "cell_type": "code",
   "execution_count": 21,
   "id": "1c34cbb6",
   "metadata": {},
   "outputs": [
    {
     "name": "stdout",
     "output_type": "stream",
     "text": [
      "value of b-> 5\n",
      "value of b after overiding-> sudh\n",
      "value of protected variable __a-> 4\n"
     ]
    },
    {
     "data": {
      "text/plain": [
       "'sudh'"
      ]
     },
     "execution_count": 21,
     "metadata": {},
     "output_type": "execute_result"
    }
   ],
   "source": [
    "class test :\n",
    "    def __init__(self,a,b):\n",
    "        self.__a = a\n",
    "        self.b = b\n",
    "        \n",
    "class test1(test):\n",
    "    def __init__(self, *args):\n",
    "        test.__init__(self, *args)\n",
    "        print('value of b->',self.b)\n",
    "        self.b=\"sudh\"\n",
    "        print('value of b after overiding->',self.b)\n",
    "        print('value of protected variable __a->',self._test__a)  \n",
    "        \n",
    "obj = test1(4,5)\n",
    "obj.b #to show that changed value of b remains same"
   ]
  },
  {
   "cell_type": "markdown",
   "id": "a601f950",
   "metadata": {},
   "source": [
    "Since above                     \n",
    "we won't be able to access __a & b in same way, as to access                  \n",
    "__a  ->  self._<parent class>__a        because a is private variable                                \n",
    "b-   ->  self.b                         and b is global variable                       \n",
    "Thus,                                   \n",
    "    we are hinding how we are implementing to access private variable"
   ]
  },
  {
   "cell_type": "code",
   "execution_count": null,
   "id": "964ed8d7",
   "metadata": {},
   "outputs": [],
   "source": []
  },
  {
   "cell_type": "markdown",
   "id": "36176d13",
   "metadata": {},
   "source": [
    "# method overloading"
   ]
  },
  {
   "cell_type": "code",
   "execution_count": 28,
   "id": "d87611ee",
   "metadata": {},
   "outputs": [
    {
     "name": "stdout",
     "output_type": "stream",
     "text": [
      "20\n",
      "9\n"
     ]
    }
   ],
   "source": [
    "#case-1=>\n",
    "class multiplynum():\n",
    "    def __init__(self,a):\n",
    "        self.a =a\n",
    "        \n",
    "    def __mul__(self, other):      #pre define function\n",
    "        return self.a * other.a\n",
    "###########################################################    \n",
    "a1=multiplynum(4)\n",
    "a2=multiplynum(5)\n",
    "print(a1*a2)\n",
    "#-----------------------------------------------------------------\n",
    "#case-2=>\n",
    "class multiplynum():\n",
    "    def __init__(self,a):\n",
    "        self.a =a\n",
    "        \n",
    "    def __mul__(self, other):\n",
    "        return self.a + other.a          #this time we add\n",
    "##########################################################    \n",
    "a1=multiplynum(4)\n",
    "a2=multiplynum(5)\n",
    "print(a1*a2)"
   ]
  },
  {
   "cell_type": "markdown",
   "id": "63155abc",
   "metadata": {},
   "source": [
    " in above case we have over-written __mul__ function or mul function is overloaded"
   ]
  },
  {
   "cell_type": "code",
   "execution_count": 29,
   "id": "d1f8adea",
   "metadata": {},
   "outputs": [
    {
     "ename": "TypeError",
     "evalue": "unsupported operand type(s) for +: 'multiplynum' and 'multiplynum'",
     "output_type": "error",
     "traceback": [
      "\u001b[1;31m---------------------------------------------------------------------------\u001b[0m",
      "\u001b[1;31mTypeError\u001b[0m                                 Traceback (most recent call last)",
      "\u001b[1;32m<ipython-input-29-c8fb39b677b1>\u001b[0m in \u001b[0;36m<module>\u001b[1;34m\u001b[0m\n\u001b[0;32m      1\u001b[0m \u001b[1;31m# so if we try to do\u001b[0m\u001b[1;33m\u001b[0m\u001b[1;33m\u001b[0m\u001b[1;33m\u001b[0m\u001b[0m\n\u001b[1;32m----> 2\u001b[1;33m \u001b[0ma1\u001b[0m\u001b[1;33m+\u001b[0m\u001b[0ma2\u001b[0m        \u001b[1;31m# we'll get error, because in __mul__ a1*a2 is valid;\u001b[0m\u001b[1;33m\u001b[0m\u001b[1;33m\u001b[0m\u001b[0m\n\u001b[0m\u001b[0;32m      3\u001b[0m              \u001b[1;31m#although a1*a2 should multiply but now as because of case 2 a1*a2 will add\u001b[0m\u001b[1;33m\u001b[0m\u001b[1;33m\u001b[0m\u001b[1;33m\u001b[0m\u001b[0m\n",
      "\u001b[1;31mTypeError\u001b[0m: unsupported operand type(s) for +: 'multiplynum' and 'multiplynum'"
     ]
    }
   ],
   "source": [
    "# so if we try to do \n",
    "a1+a2        # we'll get error, because in __mul__ a1*a2 is valid; \n",
    "             #although a1*a2 should multiply but now as because of case 2 a1*a2 will add"
   ]
  },
  {
   "cell_type": "code",
   "execution_count": 30,
   "id": "75912c81",
   "metadata": {},
   "outputs": [
    {
     "data": {
      "text/plain": [
       "10"
      ]
     },
     "execution_count": 30,
     "metadata": {},
     "output_type": "execute_result"
    }
   ],
   "source": [
    "a1=2\n",
    "a1.__mul__(5)"
   ]
  },
  {
   "cell_type": "code",
   "execution_count": null,
   "id": "f766a849",
   "metadata": {},
   "outputs": [],
   "source": []
  },
  {
   "cell_type": "markdown",
   "id": "fff229ad",
   "metadata": {},
   "source": [
    "# polymorphism"
   ]
  },
  {
   "cell_type": "markdown",
   "id": "1b47ac58",
   "metadata": {},
   "source": [
    " Acting multiple or different -different roles"
   ]
  },
  {
   "cell_type": "code",
   "execution_count": 34,
   "id": "01188410",
   "metadata": {},
   "outputs": [
    {
     "name": "stdout",
     "output_type": "stream",
     "text": [
      "5\n",
      "Alankar\n"
     ]
    }
   ],
   "source": [
    "# here function is used to add numbers as well as strings\n",
    "# Therefore is an example of Polymorphism\n",
    "def test(a,b):\n",
    "    return a+b\n",
    "print(test(2,3) )\n",
    "print(test('Alan','kar') )"
   ]
  },
  {
   "cell_type": "code",
   "execution_count": 11,
   "id": "955213c8",
   "metadata": {},
   "outputs": [
    {
     "name": "stdout",
     "output_type": "stream",
     "text": [
      "None\n",
      "print your stories on facebook\n",
      "None\n",
      "print your stories on instagram\n"
     ]
    }
   ],
   "source": [
    "#here function sharestories is used to print for class ista & facebook\n",
    "class insta:\n",
    "    def shared_stories(self):\n",
    "        return 'print your stories on instagram' #write return instead of print to remove NONE in output\n",
    "        \n",
    "class facebook:\n",
    "    def shared_stories(self):\n",
    "        print('print your stories on facebook')  #write return instead of print to remove NONE in output\n",
    "    \n",
    "def sharestories(app):\n",
    "    app.shared_stories()\n",
    "    \n",
    "############################################\n",
    "ins = insta()\n",
    "fb = facebook()\n",
    "\n",
    "print(sharestories(ins))\n",
    "print(sharestories(fb))\n",
    "print(ins.shared_stories())"
   ]
  },
  {
   "cell_type": "code",
   "execution_count": null,
   "id": "e9b11c55",
   "metadata": {},
   "outputs": [],
   "source": []
  },
  {
   "cell_type": "code",
   "execution_count": null,
   "id": "80d204a8",
   "metadata": {},
   "outputs": [],
   "source": []
  },
  {
   "cell_type": "code",
   "execution_count": 62,
   "id": "017c1c1d",
   "metadata": {},
   "outputs": [
    {
     "name": "stdout",
     "output_type": "stream",
     "text": [
      "ineuron ineuron.ai 2019\n"
     ]
    }
   ],
   "source": [
    "#example of inheretance\n",
    "class ineuron:\n",
    "    company_website = \"ineuron.ai\"  #this is global variable\n",
    "    name = 'ineuron'\n",
    "    \n",
    "    def contact_deatails(self):\n",
    "        print('contact us at', self.company_website)\n",
    "\n",
    "class MLclass(ineuron):\n",
    "    def __init__(self):     #if remove 'self' then we'll get error; because if we have to access any variable inside the class then we must have pointer like 'self'\n",
    "        self.year_of_establishment = 2019\n",
    "        \n",
    "    def est_details(self):\n",
    "        print(self.name, self.company_website, self.year_of_establishment)\n",
    "        \n",
    "        \n",
    "##########################################################################################\n",
    "ml = MLclass()\n",
    "ml.est_details()"
   ]
  },
  {
   "cell_type": "code",
   "execution_count": null,
   "id": "8c00e857",
   "metadata": {},
   "outputs": [],
   "source": []
  },
  {
   "cell_type": "code",
   "execution_count": null,
   "id": "25bb65e2",
   "metadata": {},
   "outputs": [],
   "source": []
  },
  {
   "cell_type": "code",
   "execution_count": null,
   "id": "10a8d423",
   "metadata": {},
   "outputs": [],
   "source": []
  },
  {
   "cell_type": "code",
   "execution_count": null,
   "id": "a9fb977c",
   "metadata": {},
   "outputs": [],
   "source": []
  },
  {
   "cell_type": "code",
   "execution_count": null,
   "id": "3576b823",
   "metadata": {},
   "outputs": [],
   "source": []
  },
  {
   "cell_type": "markdown",
   "id": "d834d395",
   "metadata": {},
   "source": [
    "# NOTE:-\n",
    "## If we have to use Global variables present in parent class, then we can access directly            \n",
    "## BUT                                                                      \n",
    "## If we have to use variable inside constructor in parent class, then we have to use SUPER keyword or call parent class(as we did in Inheritance above) "
   ]
  },
  {
   "cell_type": "markdown",
   "id": "0906dcf6",
   "metadata": {},
   "source": [
    "#### In 1st:-\n",
    "we are not using global varible, rather we are using variable inside '--init--' constructor                        \n",
    "Therefore inoder to run, we should use super keyword or call parent class"
   ]
  },
  {
   "cell_type": "code",
   "execution_count": 49,
   "id": "74efbb98",
   "metadata": {},
   "outputs": [
    {
     "ename": "AttributeError",
     "evalue": "'MLclass' object has no attribute 'company_website'",
     "output_type": "error",
     "traceback": [
      "\u001b[1;31m---------------------------------------------------------------------------\u001b[0m",
      "\u001b[1;31mAttributeError\u001b[0m                            Traceback (most recent call last)",
      "\u001b[1;32m<ipython-input-49-8b2a4c5c3f1c>\u001b[0m in \u001b[0;36m<module>\u001b[1;34m\u001b[0m\n\u001b[0;32m     20\u001b[0m \u001b[1;31m##########################################################################################\u001b[0m\u001b[1;33m\u001b[0m\u001b[1;33m\u001b[0m\u001b[1;33m\u001b[0m\u001b[0m\n\u001b[0;32m     21\u001b[0m \u001b[0mml\u001b[0m \u001b[1;33m=\u001b[0m \u001b[0mMLclass\u001b[0m\u001b[1;33m(\u001b[0m\u001b[1;33m)\u001b[0m\u001b[1;33m\u001b[0m\u001b[1;33m\u001b[0m\u001b[0m\n\u001b[1;32m---> 22\u001b[1;33m \u001b[0mml\u001b[0m\u001b[1;33m.\u001b[0m\u001b[0mest_details\u001b[0m\u001b[1;33m(\u001b[0m\u001b[1;33m)\u001b[0m\u001b[1;33m\u001b[0m\u001b[1;33m\u001b[0m\u001b[0m\n\u001b[0m",
      "\u001b[1;32m<ipython-input-49-8b2a4c5c3f1c>\u001b[0m in \u001b[0;36mest_details\u001b[1;34m(self)\u001b[0m\n\u001b[0;32m     15\u001b[0m \u001b[1;33m\u001b[0m\u001b[0m\n\u001b[0;32m     16\u001b[0m     \u001b[1;32mdef\u001b[0m \u001b[0mest_details\u001b[0m\u001b[1;33m(\u001b[0m\u001b[0mself\u001b[0m\u001b[1;33m)\u001b[0m\u001b[1;33m:\u001b[0m\u001b[1;33m\u001b[0m\u001b[1;33m\u001b[0m\u001b[0m\n\u001b[1;32m---> 17\u001b[1;33m         \u001b[0mprint\u001b[0m\u001b[1;33m(\u001b[0m\u001b[0mself\u001b[0m\u001b[1;33m.\u001b[0m\u001b[0mname\u001b[0m\u001b[1;33m,\u001b[0m \u001b[0mself\u001b[0m\u001b[1;33m.\u001b[0m\u001b[0mcompany_website\u001b[0m\u001b[1;33m,\u001b[0m \u001b[0mself\u001b[0m\u001b[1;33m.\u001b[0m\u001b[0myear_of_establishment\u001b[0m\u001b[1;33m)\u001b[0m\u001b[1;33m\u001b[0m\u001b[1;33m\u001b[0m\u001b[0m\n\u001b[0m\u001b[0;32m     18\u001b[0m \u001b[1;33m\u001b[0m\u001b[0m\n\u001b[0;32m     19\u001b[0m \u001b[1;33m\u001b[0m\u001b[0m\n",
      "\u001b[1;31mAttributeError\u001b[0m: 'MLclass' object has no attribute 'company_website'"
     ]
    }
   ],
   "source": [
    "# 1st\n",
    "#Error, see explanation above, solution below\n",
    "class ineuron:\n",
    "   # company_website= \"ineuron.ai\"          #this is global variable\n",
    "    name = 'ineuron'                       \n",
    "    def __init__(self):\n",
    "        self.company_website = \"ineuron.ai\"\n",
    "        \n",
    "    def contact_deatails(self):\n",
    "        print('contact us at', self.company_website)\n",
    "\n",
    "class MLclass(ineuron):\n",
    "    def __init__(self):                                  \n",
    "        self.year_of_establishment = 2019\n",
    "        \n",
    "    def est_details(self):\n",
    "        print(self.name, self.company_website, self.year_of_establishment)\n",
    "        \n",
    "        \n",
    "##########################################################################################\n",
    "ml = MLclass()\n",
    "ml.est_details()"
   ]
  },
  {
   "cell_type": "code",
   "execution_count": 56,
   "id": "aae88cad",
   "metadata": {},
   "outputs": [
    {
     "name": "stdout",
     "output_type": "stream",
     "text": [
      "ineuron ineuron.ai 2019\n"
     ]
    }
   ],
   "source": [
    "# 1st\n",
    "class ineuron:\n",
    "   # company_website= \"ineuron.ai\"          #this is global variable\n",
    "    name = 'ineuron'                       \n",
    "    def __init__(self):\n",
    "        self.company_website = \"ineuron.ai\"\n",
    "        \n",
    "    def contact_deatails(self):\n",
    "        print('contact us at', self.company_website)\n",
    "\n",
    "class MLclass(ineuron):\n",
    "    def __init__(self, *args ): \n",
    "        self.year_of_establishment = 2019\n",
    "        super(MLclass, self).__init__(*args)\n",
    "        \n",
    "    def est_details(self,*args):\n",
    "        print(self.name, self.company_website, self.year_of_establishment)\n",
    "        \n",
    "        \n",
    "##########################################################################################\n",
    "ml = MLclass()\n",
    "ml.est_details()"
   ]
  },
  {
   "cell_type": "markdown",
   "id": "50205997",
   "metadata": {},
   "source": [
    "in 2nd since we are declaring variable globally therefore we need not need to use super keyword keyword or call parent class"
   ]
  },
  {
   "cell_type": "code",
   "execution_count": 2,
   "id": "17ef71db",
   "metadata": {},
   "outputs": [
    {
     "name": "stdout",
     "output_type": "stream",
     "text": [
      "ineuron ineuron.ai 2019\n",
      "None\n"
     ]
    }
   ],
   "source": [
    "# 2nd\n",
    "#why this is not working                    to understand see the video for explanation\n",
    "class ineuron:\n",
    "    company_website= \"ineuron.ai\"\n",
    "    name = 'ineuron'\n",
    "        \n",
    "    def contact_deatails(self):\n",
    "        print('contact us at', self.company_website)\n",
    "\n",
    "class MLclass(ineuron):\n",
    "    def __init__(self,*args):                                  \n",
    "        self.year_of_establishment = 2019\n",
    "        super(MLclass,self).__init__(*args)\n",
    "        \n",
    "    def est_details(self):\n",
    "        print(self.name, self.company_website, self.year_of_establishment)\n",
    "        \n",
    "        \n",
    "##########################################################################################\n",
    "ml = MLclass()\n",
    "ml.est_details()"
   ]
  },
  {
   "cell_type": "code",
   "execution_count": null,
   "id": "9f6fdb04",
   "metadata": {},
   "outputs": [],
   "source": []
  },
  {
   "cell_type": "markdown",
   "id": "42794a3a",
   "metadata": {},
   "source": [
    "so basically using super keyword or calling parent class, says, give me all your variables"
   ]
  },
  {
   "cell_type": "code",
   "execution_count": null,
   "id": "5883bcde",
   "metadata": {},
   "outputs": [],
   "source": []
  }
 ],
 "metadata": {
  "kernelspec": {
   "display_name": "Python 3",
   "language": "python",
   "name": "python3"
  },
  "language_info": {
   "codemirror_mode": {
    "name": "ipython",
    "version": 3
   },
   "file_extension": ".py",
   "mimetype": "text/x-python",
   "name": "python",
   "nbconvert_exporter": "python",
   "pygments_lexer": "ipython3",
   "version": "3.8.8"
  }
 },
 "nbformat": 4,
 "nbformat_minor": 5
}
