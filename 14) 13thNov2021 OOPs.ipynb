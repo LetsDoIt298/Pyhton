{
 "cells": [
  {
   "cell_type": "markdown",
   "id": "b555c799",
   "metadata": {},
   "source": [
    "# OOPS extended"
   ]
  },
  {
   "cell_type": "code",
   "execution_count": 186,
   "id": "122691d1",
   "metadata": {},
   "outputs": [
    {
     "ename": "SyntaxError",
     "evalue": "unexpected EOF while parsing (<ipython-input-186-347886c4d357>, line 3)",
     "output_type": "error",
     "traceback": [
      "\u001b[1;36m  File \u001b[1;32m\"<ipython-input-186-347886c4d357>\"\u001b[1;36m, line \u001b[1;32m3\u001b[0m\n\u001b[1;33m    #this will give error\u001b[0m\n\u001b[1;37m                         ^\u001b[0m\n\u001b[1;31mSyntaxError\u001b[0m\u001b[1;31m:\u001b[0m unexpected EOF while parsing\n"
     ]
    }
   ],
   "source": [
    "class test:\n",
    "                      #supposingingly I need a dummmy class     \n",
    "                      #this will give error"
   ]
  },
  {
   "cell_type": "code",
   "execution_count": 187,
   "id": "dfa0e594",
   "metadata": {},
   "outputs": [],
   "source": [
    "class test:\n",
    "     pass"
   ]
  },
  {
   "cell_type": "markdown",
   "id": "3ef61abe",
   "metadata": {},
   "source": [
    "### 1st way of creating class and its objects=>"
   ]
  },
  {
   "cell_type": "code",
   "execution_count": 188,
   "id": "12614096",
   "metadata": {},
   "outputs": [],
   "source": [
    "a = test()  #a is the object of class 'test'\n",
    "\n",
    "#try to attach these 3 things (class) with object 'a'\n",
    "a.name='Alankar'    \n",
    "a.ph_no=123445\n",
    "a.surname='sharma'"
   ]
  },
  {
   "cell_type": "code",
   "execution_count": 189,
   "id": "deadc13f",
   "metadata": {},
   "outputs": [],
   "source": [
    "b=test()\n",
    "b.name='aryan'\n",
    "b.ph_no=[123456,354,3642,247]\n",
    "b.surname='sharma'"
   ]
  },
  {
   "cell_type": "code",
   "execution_count": 190,
   "id": "b76730e1",
   "metadata": {},
   "outputs": [
    {
     "data": {
      "text/plain": [
       "'aryan'"
      ]
     },
     "execution_count": 190,
     "metadata": {},
     "output_type": "execute_result"
    }
   ],
   "source": [
    "b.name"
   ]
  },
  {
   "cell_type": "code",
   "execution_count": 191,
   "id": "f606772a",
   "metadata": {},
   "outputs": [
    {
     "data": {
      "text/plain": [
       "'Alankar'"
      ]
     },
     "execution_count": 191,
     "metadata": {},
     "output_type": "execute_result"
    }
   ],
   "source": [
    "a.name"
   ]
  },
  {
   "cell_type": "code",
   "execution_count": 192,
   "id": "9949f64a",
   "metadata": {},
   "outputs": [
    {
     "data": {
      "text/plain": [
       "[123456, 354, 3642, 247]"
      ]
     },
     "execution_count": 192,
     "metadata": {},
     "output_type": "execute_result"
    }
   ],
   "source": [
    "b.ph_no"
   ]
  },
  {
   "cell_type": "code",
   "execution_count": null,
   "id": "2de5bfaa",
   "metadata": {},
   "outputs": [],
   "source": []
  },
  {
   "cell_type": "code",
   "execution_count": null,
   "id": "703fc05b",
   "metadata": {},
   "outputs": [],
   "source": []
  },
  {
   "cell_type": "markdown",
   "id": "bff2ed10",
   "metadata": {},
   "source": [
    "### 2nd way of creating class and its objects=>"
   ]
  },
  {
   "cell_type": "code",
   "execution_count": 193,
   "id": "abbcddcb",
   "metadata": {},
   "outputs": [],
   "source": [
    "class test1():\n",
    "    def __init__(ptr1, name, ph_no, surname):     # init behaves as a constructor, and constructor is responsible for provide data of different different data\n",
    "        ptr1.name1   = name                      #inint is inbuild function\n",
    "        ptr1.ph_no1  = ph_no\n",
    "        ptr1.surname1= surname"
   ]
  },
  {
   "cell_type": "code",
   "execution_count": 194,
   "id": "be3036e6",
   "metadata": {},
   "outputs": [
    {
     "ename": "TypeError",
     "evalue": "__init__() missing 3 required positional arguments: 'name', 'ph_no', and 'surname'",
     "output_type": "error",
     "traceback": [
      "\u001b[1;31m---------------------------------------------------------------------------\u001b[0m",
      "\u001b[1;31mTypeError\u001b[0m                                 Traceback (most recent call last)",
      "\u001b[1;32m<ipython-input-194-d8e004c3ad37>\u001b[0m in \u001b[0;36m<module>\u001b[1;34m\u001b[0m\n\u001b[1;32m----> 1\u001b[1;33m \u001b[0mr\u001b[0m \u001b[1;33m=\u001b[0m \u001b[0mtest1\u001b[0m\u001b[1;33m(\u001b[0m\u001b[1;33m)\u001b[0m     \u001b[1;31m#this won't work\u001b[0m\u001b[1;33m\u001b[0m\u001b[1;33m\u001b[0m\u001b[0m\n\u001b[0m\u001b[0;32m      2\u001b[0m '''Since,\n\u001b[0;32m      3\u001b[0m \u001b[0mwe\u001b[0m \u001b[0mare\u001b[0m \u001b[0msuppose\u001b[0m \u001b[0mto\u001b[0m \u001b[0mprovide\u001b[0m \u001b[0mdata\u001b[0m \u001b[1;32mfor\u001b[0m \u001b[0mclasses\u001b[0m\u001b[1;33m(\u001b[0m\u001b[1;32mfor\u001b[0m \u001b[0mthis\u001b[0m \u001b[0mcase\u001b[0m \u001b[1;34m'name'\u001b[0m\u001b[1;33m,\u001b[0m \u001b[1;34m'ph_no'\u001b[0m\u001b[1;33m,\u001b[0m \u001b[1;34m'surname'\u001b[0m\u001b[1;33m)\u001b[0m\u001b[1;33m\u001b[0m\u001b[1;33m\u001b[0m\u001b[0m\n\u001b[0;32m      4\u001b[0m '''\n",
      "\u001b[1;31mTypeError\u001b[0m: __init__() missing 3 required positional arguments: 'name', 'ph_no', and 'surname'"
     ]
    }
   ],
   "source": [
    "r = test1()     #this won't work\n",
    "'''Since,\n",
    "we are suppose to provide data for classes(for this case 'name', 'ph_no', 'surname')\n",
    "'''"
   ]
  },
  {
   "cell_type": "code",
   "execution_count": 195,
   "id": "536fea0f",
   "metadata": {},
   "outputs": [
    {
     "data": {
      "text/plain": [
       "1236784"
      ]
     },
     "execution_count": 195,
     "metadata": {},
     "output_type": "execute_result"
    }
   ],
   "source": [
    "r = test1('Alan', 1236784 , 'Sharma')\n",
    "r.ph_no1"
   ]
  },
  {
   "cell_type": "code",
   "execution_count": 196,
   "id": "e254ff2c",
   "metadata": {},
   "outputs": [
    {
     "data": {
      "text/plain": [
       "'1234'"
      ]
     },
     "execution_count": 196,
     "metadata": {},
     "output_type": "execute_result"
    }
   ],
   "source": [
    "r = test1('Alan', '1234' , 'Sharma')\n",
    "r.ph_no1"
   ]
  },
  {
   "cell_type": "code",
   "execution_count": 197,
   "id": "068b97c8",
   "metadata": {},
   "outputs": [
    {
     "data": {
      "text/plain": [
       "'aryan'"
      ]
     },
     "execution_count": 197,
     "metadata": {},
     "output_type": "execute_result"
    }
   ],
   "source": [
    "t =test1('aryan',1345676543,'naok')\n",
    "t.name1"
   ]
  },
  {
   "cell_type": "code",
   "execution_count": null,
   "id": "fdc87890",
   "metadata": {},
   "outputs": [],
   "source": []
  },
  {
   "cell_type": "code",
   "execution_count": null,
   "id": "cbc92bd0",
   "metadata": {},
   "outputs": [],
   "source": []
  },
  {
   "cell_type": "code",
   "execution_count": 198,
   "id": "809bd489",
   "metadata": {},
   "outputs": [],
   "source": [
    "class car:\n",
    "    def __init__(self, year, make, model, engin_type, tyre_type):\n",
    "        self.year     = year\n",
    "        self.make     = make\n",
    "        self.model    = model\n",
    "        self.engin_type =engin_type\n",
    "        self.tyre_type =tyre_type"
   ]
  },
  {
   "cell_type": "code",
   "execution_count": 199,
   "id": "d6ea35e6",
   "metadata": {},
   "outputs": [
    {
     "name": "stdout",
     "output_type": "stream",
     "text": [
      "2021\n",
      "23\n"
     ]
    }
   ],
   "source": [
    "audi = car(2021,'2334', '23', 'xyz', 'pqr')\n",
    "print(audi.year)\n",
    "print(audi.model)"
   ]
  },
  {
   "cell_type": "code",
   "execution_count": 200,
   "id": "980591da",
   "metadata": {},
   "outputs": [
    {
     "name": "stdout",
     "output_type": "stream",
     "text": [
      "2001\n",
      "4423\n"
     ]
    }
   ],
   "source": [
    "fortuner= car(2001,'23524334', '4423', 'gfnxyz', 'agr')\n",
    "print(fortuner.year)\n",
    "print(fortuner.model)\n"
   ]
  },
  {
   "cell_type": "code",
   "execution_count": null,
   "id": "88a3cfa5",
   "metadata": {},
   "outputs": [],
   "source": []
  },
  {
   "cell_type": "code",
   "execution_count": 202,
   "id": "34d70ad3",
   "metadata": {},
   "outputs": [],
   "source": [
    "#thus it can be seen It is esaier to maintain many objects(2nd way) than mainting manyvariable(1st way)"
   ]
  },
  {
   "cell_type": "code",
   "execution_count": null,
   "id": "c1361b3c",
   "metadata": {},
   "outputs": [],
   "source": []
  },
  {
   "cell_type": "markdown",
   "id": "32156d95",
   "metadata": {},
   "source": [
    "# Method inside a class"
   ]
  },
  {
   "cell_type": "code",
   "execution_count": 203,
   "id": "e3b68c53",
   "metadata": {},
   "outputs": [],
   "source": [
    "class car:\n",
    "    def __init__(self, year, make, model, engin_type, tyre_type):\n",
    "        self.year     = year\n",
    "        self.make     = make\n",
    "        self.model    = model\n",
    "        self.engin_type =engin_type\n",
    "        self.tyre_type =tyre_type\n",
    "        \n",
    "    def engin_type1(self):\n",
    "        return self.engin_type\n",
    "    \n",
    "    def __str__(self):\n",
    "        return 'This is my car class and an object for audi'"
   ]
  },
  {
   "cell_type": "code",
   "execution_count": 204,
   "id": "0e51604c",
   "metadata": {},
   "outputs": [
    {
     "name": "stdout",
     "output_type": "stream",
     "text": [
      "xyz\n",
      "xyz\n"
     ]
    }
   ],
   "source": [
    "audi = car(2021,'2334', '23', 'xyz', 'pqr')\n",
    "\n",
    "print( audi.engin_type    )   #accessed by def __init__\n",
    "\n",
    "print( audi.engin_type1() )  #accessed by engin_type1"
   ]
  },
  {
   "cell_type": "code",
   "execution_count": 205,
   "id": "d6601838",
   "metadata": {},
   "outputs": [
    {
     "name": "stdout",
     "output_type": "stream",
     "text": [
      "This is my car class and an object for audi\n"
     ]
    }
   ],
   "source": [
    "print(audi) #this tells this is object of a car            accessed by __self__"
   ]
  },
  {
   "cell_type": "code",
   "execution_count": null,
   "id": "32530713",
   "metadata": {},
   "outputs": [],
   "source": []
  },
  {
   "cell_type": "markdown",
   "id": "08382556",
   "metadata": {},
   "source": [
    "# Task"
   ]
  },
  {
   "cell_type": "code",
   "execution_count": 206,
   "id": "17b4f261",
   "metadata": {},
   "outputs": [],
   "source": [
    "class datamanupulation:\n",
    "    def __init__(self, read_csv, read_excel, read_db):\n",
    "        self.read_csv = read_csv\n",
    "        self.read_excel =read_excel\n",
    "        self.read_db = read_db\n",
    "        \n",
    "    def read_csv1(self):\n",
    "        return 'return from csv file'\n",
    "    \n",
    "    def read_excel1(self):\n",
    "        return 'return from excel file'\n",
    "    \n",
    "    def read_db1(self):\n",
    "        return 'return from db file'"
   ]
  },
  {
   "cell_type": "code",
   "execution_count": 207,
   "id": "9bc06880",
   "metadata": {},
   "outputs": [],
   "source": [
    "read_data = datamanupulation(a,b,'c')"
   ]
  },
  {
   "cell_type": "code",
   "execution_count": 208,
   "id": "4c800cad",
   "metadata": {},
   "outputs": [
    {
     "data": {
      "text/plain": [
       "'return from db file'"
      ]
     },
     "execution_count": 208,
     "metadata": {},
     "output_type": "execute_result"
    }
   ],
   "source": [
    "read_data.read_csv1()\n",
    "read_data.read_excel1()\n",
    "read_data.read_db1()"
   ]
  },
  {
   "cell_type": "code",
   "execution_count": null,
   "id": "eb2369b8",
   "metadata": {},
   "outputs": [],
   "source": []
  },
  {
   "cell_type": "code",
   "execution_count": 3,
   "id": "c8a02e02",
   "metadata": {},
   "outputs": [],
   "source": [
    "import pandas as pd\n",
    "#see what all files we have in the folder\n",
    "# then see last 3 elements of file by :-   [:3:-1]\n",
    "#if csv then vsc file\n",
    "#if "
   ]
  },
  {
   "cell_type": "code",
   "execution_count": 13,
   "id": "c6d5213d",
   "metadata": {},
   "outputs": [
    {
     "data": {
      "text/plain": [
       "'rak'"
      ]
     },
     "execution_count": 13,
     "metadata": {},
     "output_type": "execute_result"
    }
   ],
   "source": [
    "a='Alankar'\n",
    "a[:3:-1]"
   ]
  },
  {
   "cell_type": "code",
   "execution_count": 7,
   "id": "f77557e4",
   "metadata": {},
   "outputs": [],
   "source": [
    "df = pd.read_csv('C:/Users/91995/jupyter/iNeuron/Live_class/13thNov/csvfile.csv')"
   ]
  },
  {
   "cell_type": "code",
   "execution_count": 9,
   "id": "778f9cdd",
   "metadata": {},
   "outputs": [
    {
     "data": {
      "text/html": [
       "<div>\n",
       "<style scoped>\n",
       "    .dataframe tbody tr th:only-of-type {\n",
       "        vertical-align: middle;\n",
       "    }\n",
       "\n",
       "    .dataframe tbody tr th {\n",
       "        vertical-align: top;\n",
       "    }\n",
       "\n",
       "    .dataframe thead th {\n",
       "        text-align: right;\n",
       "    }\n",
       "</style>\n",
       "<table border=\"1\" class=\"dataframe\">\n",
       "  <thead>\n",
       "    <tr style=\"text-align: right;\">\n",
       "      <th></th>\n",
       "      <th>1</th>\n",
       "      <th>Eldon Base for stackable storage shelf, platinum</th>\n",
       "      <th>Muhammed MacIntyre</th>\n",
       "      <th>3</th>\n",
       "      <th>-213.25</th>\n",
       "      <th>38.94</th>\n",
       "      <th>35</th>\n",
       "      <th>Nunavut</th>\n",
       "      <th>Storage &amp; Organization</th>\n",
       "      <th>0.8</th>\n",
       "    </tr>\n",
       "  </thead>\n",
       "  <tbody>\n",
       "    <tr>\n",
       "      <th>0</th>\n",
       "      <td>2</td>\n",
       "      <td>1.7 Cubic Foot Compact \"Cube\" Office Refrigera...</td>\n",
       "      <td>Barry French</td>\n",
       "      <td>293</td>\n",
       "      <td>457.81</td>\n",
       "      <td>208.16</td>\n",
       "      <td>68.02</td>\n",
       "      <td>Nunavut</td>\n",
       "      <td>Appliances</td>\n",
       "      <td>0.58</td>\n",
       "    </tr>\n",
       "  </tbody>\n",
       "</table>\n",
       "</div>"
      ],
      "text/plain": [
       "   1   Eldon Base for stackable storage shelf, platinum Muhammed MacIntyre  \\\n",
       "0  2  1.7 Cubic Foot Compact \"Cube\" Office Refrigera...       Barry French   \n",
       "\n",
       "     3  -213.25   38.94     35  Nunavut Storage & Organization   0.8  \n",
       "0  293   457.81  208.16  68.02  Nunavut             Appliances  0.58  "
      ]
     },
     "execution_count": 9,
     "metadata": {},
     "output_type": "execute_result"
    }
   ],
   "source": [
    "df.head(1)"
   ]
  },
  {
   "cell_type": "code",
   "execution_count": 11,
   "id": "917c96f3",
   "metadata": {},
   "outputs": [
    {
     "data": {
      "text/plain": [
       "<pandas._config.config.CallableDynamicDoc at 0x1711733e700>"
      ]
     },
     "execution_count": 11,
     "metadata": {},
     "output_type": "execute_result"
    }
   ],
   "source": [
    "pd.describe_option"
   ]
  },
  {
   "cell_type": "code",
   "execution_count": null,
   "id": "4b3cb0bd",
   "metadata": {},
   "outputs": [],
   "source": []
  },
  {
   "cell_type": "code",
   "execution_count": null,
   "id": "01f007eb",
   "metadata": {},
   "outputs": [],
   "source": []
  },
  {
   "cell_type": "code",
   "execution_count": null,
   "id": "648df9a8",
   "metadata": {},
   "outputs": [],
   "source": []
  },
  {
   "cell_type": "code",
   "execution_count": null,
   "id": "e3ddce7c",
   "metadata": {},
   "outputs": [],
   "source": []
  },
  {
   "cell_type": "code",
   "execution_count": null,
   "id": "fe030ed2",
   "metadata": {},
   "outputs": [],
   "source": []
  },
  {
   "cell_type": "code",
   "execution_count": null,
   "id": "9f22fe65",
   "metadata": {},
   "outputs": [],
   "source": []
  },
  {
   "cell_type": "code",
   "execution_count": null,
   "id": "66a54838",
   "metadata": {},
   "outputs": [],
   "source": []
  },
  {
   "cell_type": "markdown",
   "id": "ece2d54c",
   "metadata": {},
   "source": [
    "# Access Specifier "
   ]
  },
  {
   "cell_type": "code",
   "execution_count": 209,
   "id": "5f0417ef",
   "metadata": {},
   "outputs": [],
   "source": [
    "# private , public, protected"
   ]
  },
  {
   "cell_type": "code",
   "execution_count": 210,
   "id": "9836af14",
   "metadata": {},
   "outputs": [],
   "source": [
    "class test2:\n",
    "    def __init__(self, a, b, c):\n",
    "        self._a = a           #in case of single under score its working\n",
    "        self.__b = b          # BUT in case of double under score its NOT working\n",
    "        self.c = c\n",
    "        "
   ]
  },
  {
   "cell_type": "code",
   "execution_count": 214,
   "id": "2dc535f9",
   "metadata": {},
   "outputs": [
    {
     "ename": "AttributeError",
     "evalue": "'test2' object has no attribute '__b'",
     "output_type": "error",
     "traceback": [
      "\u001b[1;31m---------------------------------------------------------------------------\u001b[0m",
      "\u001b[1;31mAttributeError\u001b[0m                            Traceback (most recent call last)",
      "\u001b[1;32m<ipython-input-214-86af6ca1fe4c>\u001b[0m in \u001b[0;36m<module>\u001b[1;34m\u001b[0m\n\u001b[0;32m      1\u001b[0m \u001b[0mr\u001b[0m\u001b[1;33m=\u001b[0m\u001b[0mtest2\u001b[0m\u001b[1;33m(\u001b[0m\u001b[1;34m'alankar'\u001b[0m\u001b[1;33m,\u001b[0m\u001b[1;34m\"Sharma\"\u001b[0m\u001b[1;33m,\u001b[0m\u001b[1;36m13432\u001b[0m\u001b[1;33m)\u001b[0m\u001b[1;33m\u001b[0m\u001b[1;33m\u001b[0m\u001b[0m\n\u001b[0;32m      2\u001b[0m \u001b[0mr\u001b[0m\u001b[1;33m.\u001b[0m\u001b[0m_a\u001b[0m   \u001b[1;31m#in case of single under score its working\u001b[0m\u001b[1;33m\u001b[0m\u001b[1;33m\u001b[0m\u001b[0m\n\u001b[1;32m----> 3\u001b[1;33m \u001b[0mr\u001b[0m\u001b[1;33m.\u001b[0m\u001b[0m__b\u001b[0m  \u001b[1;31m# BUT in case of double under score its NOT working; access like this  r._test2__b\u001b[0m\u001b[1;33m\u001b[0m\u001b[1;33m\u001b[0m\u001b[0m\n\u001b[0m\u001b[0;32m      4\u001b[0m ''' Error,\n\u001b[0;32m      5\u001b[0m This happens because of Access Specifier, see below '''\n",
      "\u001b[1;31mAttributeError\u001b[0m: 'test2' object has no attribute '__b'"
     ]
    }
   ],
   "source": [
    "r=test2('alankar',\"Sharma\",13432)\n",
    "r._a   #in case of single under score its working\n",
    "r.__b  # BUT in case of double under score its NOT working; access like this  r._test2__b\n",
    "''' Error,\n",
    "This happens because of Access Specifier, see below '''"
   ]
  },
  {
   "cell_type": "code",
   "execution_count": 215,
   "id": "9f18666a",
   "metadata": {},
   "outputs": [],
   "source": [
    "# private , public, protected \n",
    "\n",
    "\n",
    "\n",
    "\n",
    "\n",
    "\n",
    "\n",
    "# see vedio here"
   ]
  },
  {
   "cell_type": "code",
   "execution_count": 216,
   "id": "8063bb51",
   "metadata": {},
   "outputs": [
    {
     "data": {
      "text/plain": [
       "'In python we dont have keywors for private, protected, public like in other languages like c++, java\\nin python\\n\\n_a  => Protected\\n__b => Private\\nc   => Public'"
      ]
     },
     "execution_count": 216,
     "metadata": {},
     "output_type": "execute_result"
    }
   ],
   "source": [
    "'''In python we dont have keywors for private, protected, public like in other languages like c++, java\n",
    "\n",
    "in python -\n",
    "\n",
    "_a  => Protected\n",
    "__b => Private\n",
    "c   => Public'''"
   ]
  },
  {
   "cell_type": "code",
   "execution_count": 217,
   "id": "4f5d4fa5",
   "metadata": {},
   "outputs": [
    {
     "data": {
      "text/plain": [
       "'Sharma'"
      ]
     },
     "execution_count": 217,
     "metadata": {},
     "output_type": "execute_result"
    }
   ],
   "source": [
    "#therefore access like this\n",
    "r._test2__b"
   ]
  },
  {
   "cell_type": "code",
   "execution_count": null,
   "id": "bcd82c6b",
   "metadata": {},
   "outputs": [],
   "source": []
  },
  {
   "cell_type": "code",
   "execution_count": null,
   "id": "0369c2ea",
   "metadata": {},
   "outputs": [],
   "source": []
  },
  {
   "cell_type": "markdown",
   "id": "484c5d26",
   "metadata": {},
   "source": [
    "# Inheritance "
   ]
  },
  {
   "cell_type": "code",
   "execution_count": 218,
   "id": "11740917",
   "metadata": {},
   "outputs": [
    {
     "data": {
      "text/plain": [
       "11"
      ]
     },
     "execution_count": 218,
     "metadata": {},
     "output_type": "execute_result"
    }
   ],
   "source": [
    "#1st way:-\n",
    "class test3:\n",
    "    def __init__(self,a,b,c,d):\n",
    "        self.a=a\n",
    "        self.b=b\n",
    "        self.c=c\n",
    "        self.d=d\n",
    "\n",
    "\n",
    "class test4:\n",
    "    def __init__(self,a,b,c,d):\n",
    "        self.a=a\n",
    "        self.b=b\n",
    "        self.c=c\n",
    "        self.d=d\n",
    "        \n",
    "######################################################    \n",
    "r= test4(11,3,345,345)\n",
    "r.a   "
   ]
  },
  {
   "cell_type": "code",
   "execution_count": 219,
   "id": "4e103f7a",
   "metadata": {},
   "outputs": [
    {
     "data": {
      "text/plain": [
       "11"
      ]
     },
     "execution_count": 219,
     "metadata": {},
     "output_type": "execute_result"
    }
   ],
   "source": [
    "#2nd way:-\n",
    "class test3:\n",
    "    def __init__(self,a,b,c,d):\n",
    "        self.a=a\n",
    "        self.b=b\n",
    "        self.c=c\n",
    "        self.d=d\n",
    "    \n",
    "class test4(test3):\n",
    "    def __init__(self,a,b,c,d):\n",
    "        test3.__init__(self,a,b,c,d)       #herealso __init__ is predefine\n",
    "\n",
    "###############################################################################\n",
    "r= test4(11,3,345,345)\n",
    "r.a"
   ]
  },
  {
   "cell_type": "code",
   "execution_count": 220,
   "id": "a99fcec3",
   "metadata": {},
   "outputs": [
    {
     "data": {
      "text/plain": [
       "11"
      ]
     },
     "execution_count": 220,
     "metadata": {},
     "output_type": "execute_result"
    }
   ],
   "source": [
    "# or=>\n",
    "class test3:\n",
    "    def __init__(self,a,b,c,d):\n",
    "        self.a=a\n",
    "        self.b=b\n",
    "        self.c=c\n",
    "        self.d=d\n",
    "    \n",
    "    def test_in(self):                             #this could be here ; Either her\n",
    "        return self.a\n",
    "    \n",
    "    \n",
    "class test4(test3):\n",
    "    def __init__(self,a,b,c,d):\n",
    "        test3.__init__(self,a,b,c,d)  \n",
    "        \n",
    "    def test_in(self):                             #this as well as could be here ; or here;   or both places\n",
    "        return self.a\n",
    "        \n",
    "########################################################\n",
    "r= test4(11,3,345,345)\n",
    "r.test_in()"
   ]
  },
  {
   "cell_type": "code",
   "execution_count": 221,
   "id": "71ea69fa",
   "metadata": {},
   "outputs": [
    {
     "data": {
      "text/plain": [
       "<__main__.test4 at 0x19b422ba070>"
      ]
     },
     "execution_count": 221,
     "metadata": {},
     "output_type": "execute_result"
    }
   ],
   "source": [
    "r   #this tells r is the object of class 'test4'"
   ]
  },
  {
   "cell_type": "markdown",
   "id": "ff7818dc",
   "metadata": {},
   "source": [
    "### Now lets understand use of :-"
   ]
  },
  {
   "cell_type": "code",
   "execution_count": 222,
   "id": "154c9d7c",
   "metadata": {},
   "outputs": [],
   "source": [
    "# def __init__(self,a,b,c,d):\n",
    "#        test3.__init__(self,a,b,c,d)"
   ]
  },
  {
   "cell_type": "code",
   "execution_count": 223,
   "id": "c55980f6",
   "metadata": {},
   "outputs": [
    {
     "data": {
      "text/plain": [
       "11"
      ]
     },
     "execution_count": 223,
     "metadata": {},
     "output_type": "execute_result"
    }
   ],
   "source": [
    "class test3:\n",
    "    def __init__(self,a,b,c,d):\n",
    "        self.a=a\n",
    "        self.b=b\n",
    "        self.c=c\n",
    "        self.d=d\n",
    "        \n",
    "    def test_in(self):\n",
    "        return self.a\n",
    "    \n",
    "    def test_test(self):\n",
    "        return \"This is my second method in my class\"\n",
    "    \n",
    "    \n",
    "    def test_test5(self):\n",
    "        return \"This is my 3rd method in my class\"\n",
    "    \n",
    "    \n",
    "    def test_test6(self):\n",
    "        return \"This is my again a new method in my class\"\n",
    "    \n",
    "class test4(test3):\n",
    "    pass\n",
    "    #def __init__(self,a,b,c,d):\n",
    "    #    test3.__init__(self,a,b,c,d)       \n",
    "    \n",
    "\n",
    "r= test4(11,3,345,345)\n",
    "r.test_in()               # This still works, as test4 is directly calling test3 & doing nothing  "
   ]
  },
  {
   "cell_type": "code",
   "execution_count": 224,
   "id": "a3393c20",
   "metadata": {},
   "outputs": [
    {
     "name": "stdout",
     "output_type": "stream",
     "text": [
      "34\n",
      "54\n"
     ]
    },
    {
     "ename": "AttributeError",
     "evalue": "'test4' object has no attribute 'a'",
     "output_type": "error",
     "traceback": [
      "\u001b[1;31m---------------------------------------------------------------------------\u001b[0m",
      "\u001b[1;31mAttributeError\u001b[0m                            Traceback (most recent call last)",
      "\u001b[1;32m<ipython-input-224-e2445b9529e9>\u001b[0m in \u001b[0;36m<module>\u001b[1;34m\u001b[0m\n\u001b[0;32m     36\u001b[0m \u001b[0mprint\u001b[0m\u001b[1;33m(\u001b[0m\u001b[0mr\u001b[0m\u001b[1;33m.\u001b[0m\u001b[0mp\u001b[0m\u001b[1;33m)\u001b[0m\u001b[1;33m\u001b[0m\u001b[1;33m\u001b[0m\u001b[0m\n\u001b[0;32m     37\u001b[0m \u001b[0mprint\u001b[0m\u001b[1;33m(\u001b[0m\u001b[0mr\u001b[0m\u001b[1;33m.\u001b[0m\u001b[0mq\u001b[0m\u001b[1;33m)\u001b[0m\u001b[1;33m\u001b[0m\u001b[1;33m\u001b[0m\u001b[0m\n\u001b[1;32m---> 38\u001b[1;33m \u001b[0mr\u001b[0m\u001b[1;33m.\u001b[0m\u001b[0ma\u001b[0m   \u001b[1;31m# error because ' test3.__init__(self,a,b,c,d)'   not excuted\u001b[0m\u001b[1;33m\u001b[0m\u001b[1;33m\u001b[0m\u001b[0m\n\u001b[0m\u001b[0;32m     39\u001b[0m      \u001b[1;31m# aslso we can see by pressing 'r. and tab' that we don't get option for r.a or r.b or r.c or r.d\u001b[0m\u001b[1;33m\u001b[0m\u001b[1;33m\u001b[0m\u001b[1;33m\u001b[0m\u001b[0m\n",
      "\u001b[1;31mAttributeError\u001b[0m: 'test4' object has no attribute 'a'"
     ]
    }
   ],
   "source": [
    "class test3:\n",
    "    def __init__(self,a,b,c,d):\n",
    "        self.a=a\n",
    "        self.b=b\n",
    "        self.c=c\n",
    "        self.d=d\n",
    "        \n",
    "    def test_in(self):\n",
    "        return self.a\n",
    "    \n",
    "    def test_test(self):\n",
    "        return \"This is my second method in my class\"\n",
    "    \n",
    "    \n",
    "    def test_test5(self):\n",
    "        return \"This is my second method in my class\"\n",
    "    \n",
    "    \n",
    "    def test_test6(self):\n",
    "        return \"This is my second method in my class\"\n",
    "\n",
    "#here we want test4 to take 2 more arguments apart from arguments taken by test3    \n",
    "class test4(test3):\n",
    "    def __init__(self,a,b,c,d,p,q):\n",
    "        self.p=p\n",
    "        self.q=q\n",
    "        # test3.__init__(self,a,b,c,d)       #if we don't use this then we'll not be able to access Aruguments \n",
    "                                            # of test3 a,b,c,d\n",
    "                                          # But we'll be able to access p and q\n",
    "    \n",
    "\n",
    "\n",
    "    \n",
    "    \n",
    "r= test4(11,3,345,345,34,54)\n",
    "print(r.p)\n",
    "print(r.q)\n",
    "r.a   # error because ' test3.__init__(self,a,b,c,d)'   not excuted\n",
    "     # aslso we can see by pressing 'r. and tab' that we don't get option for r.a or r.b or r.c or r.d"
   ]
  },
  {
   "cell_type": "code",
   "execution_count": 225,
   "id": "8dfed1ed",
   "metadata": {},
   "outputs": [
    {
     "name": "stdout",
     "output_type": "stream",
     "text": [
      "34\n",
      "54\n"
     ]
    },
    {
     "data": {
      "text/plain": [
       "11"
      ]
     },
     "execution_count": 225,
     "metadata": {},
     "output_type": "execute_result"
    }
   ],
   "source": [
    "#1st way:-\n",
    "class test3:\n",
    "    def __init__(self,a,b,c,d):\n",
    "        self.a=a\n",
    "        self.b=b\n",
    "        self.c=c\n",
    "        self.d=d\n",
    "        \n",
    "    def test_in(self):\n",
    "        return self.a\n",
    "    \n",
    "    def test_test(self):\n",
    "        return \"This is my second method in my class\"\n",
    "    \n",
    "    \n",
    "    def test_test5(self):\n",
    "        return \"This is my second method in my class\"\n",
    "    \n",
    "    \n",
    "    def test_test6(self):\n",
    "        return \"This is my second method in my class\"\n",
    "    \n",
    "class test4(test3):\n",
    "    def __init__(self,a,b,c,d,p,q):\n",
    "        self.p=p\n",
    "        self.q=q\n",
    "        test3.__init__(self,a,b,c,d)       #herealso __init__ is predefine\n",
    "    \n",
    "\n",
    "r= test4(11,3,345,345,34,54)\n",
    "print(r.p)\n",
    "print(r.q)\n",
    "r.a"
   ]
  },
  {
   "cell_type": "code",
   "execution_count": null,
   "id": "e22cfa15",
   "metadata": {},
   "outputs": [],
   "source": []
  },
  {
   "cell_type": "code",
   "execution_count": null,
   "id": "abaf0ca2",
   "metadata": {},
   "outputs": [],
   "source": []
  }
 ],
 "metadata": {
  "kernelspec": {
   "display_name": "Python 3",
   "language": "python",
   "name": "python3"
  },
  "language_info": {
   "codemirror_mode": {
    "name": "ipython",
    "version": 3
   },
   "file_extension": ".py",
   "mimetype": "text/x-python",
   "name": "python",
   "nbconvert_exporter": "python",
   "pygments_lexer": "ipython3",
   "version": "3.8.8"
  }
 },
 "nbformat": 4,
 "nbformat_minor": 5
}
