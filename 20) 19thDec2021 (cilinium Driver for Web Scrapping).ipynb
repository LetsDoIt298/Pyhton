{
 "cells": [
  {
   "cell_type": "code",
   "execution_count": null,
   "id": "2c0c1dab",
   "metadata": {},
   "outputs": [],
   "source": [
    "cilinium chromium driver is used instrad of buitiful soap."
   ]
  },
  {
   "cell_type": "code",
   "execution_count": null,
   "id": "66743e46",
   "metadata": {},
   "outputs": [],
   "source": [
    "'''\n",
    "Earlier we used Beautiful soap for web scrapping on 5th dec 2021\n",
    "but this time we are using cilinium chromium driver for web scrapping'''"
   ]
  }
 ],
 "metadata": {
  "kernelspec": {
   "display_name": "Python 3",
   "language": "python",
   "name": "python3"
  },
  "language_info": {
   "codemirror_mode": {
    "name": "ipython",
    "version": 3
   },
   "file_extension": ".py",
   "mimetype": "text/x-python",
   "name": "python",
   "nbconvert_exporter": "python",
   "pygments_lexer": "ipython3",
   "version": "3.8.8"
  }
 },
 "nbformat": 4,
 "nbformat_minor": 5
}
