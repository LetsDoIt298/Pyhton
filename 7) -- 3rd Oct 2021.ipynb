{
 "cells": [
  {
   "cell_type": "markdown",
   "id": "d7f7fc46",
   "metadata": {},
   "source": [
    "# Exception Handling"
   ]
  },
  {
   "cell_type": "markdown",
   "id": "9d9e18fe",
   "metadata": {},
   "source": [
    "### runs in run time"
   ]
  },
  {
   "cell_type": "code",
   "execution_count": 13,
   "id": "89d74796",
   "metadata": {},
   "outputs": [
    {
     "name": "stdout",
     "output_type": "stream",
     "text": [
      "1.0\n",
      "division by zero Error\n"
     ]
    }
   ],
   "source": [
    "try:\n",
    "    print(2/2)\n",
    "    2/0\n",
    "except Exception as e :       #Exception -> super class   and  e-> Alias (we can write any thing instaed of e)\n",
    "    print(e,end=' ')\n",
    "    print(\"Error\")"
   ]
  },
  {
   "cell_type": "code",
   "execution_count": 15,
   "id": "fe69d75a",
   "metadata": {},
   "outputs": [
    {
     "ename": "SyntaxError",
     "evalue": "unexpected EOF while parsing (<ipython-input-15-df813bf68e65>, line 2)",
     "output_type": "error",
     "traceback": [
      "\u001b[1;36m  File \u001b[1;32m\"<ipython-input-15-df813bf68e65>\"\u001b[1;36m, line \u001b[1;32m2\u001b[0m\n\u001b[1;33m    print(2/2)\u001b[0m\n\u001b[1;37m              ^\u001b[0m\n\u001b[1;31mSyntaxError\u001b[0m\u001b[1;31m:\u001b[0m unexpected EOF while parsing\n"
     ]
    }
   ],
   "source": [
    "try:                     #we need to write except too\n",
    "    print(2/2)"
   ]
  },
  {
   "cell_type": "markdown",
   "id": "85973118",
   "metadata": {},
   "source": [
    "##### Multiple try statements"
   ]
  },
  {
   "cell_type": "code",
   "execution_count": 20,
   "id": "7b19f2e0",
   "metadata": {},
   "outputs": [
    {
     "name": "stdout",
     "output_type": "stream",
     "text": [
      "1st 1.0\n",
      "1st division by zero 1st Error\n",
      "2nd_FIRST\n",
      "2nd_LAST_STATEMENT\n"
     ]
    }
   ],
   "source": [
    "try:\n",
    "    print('1st',2/2)\n",
    "    2/0\n",
    "except Exception as e :       #Exception -> super class   and  e-> Alias (we can write any thing instaed of e)\n",
    "    print('1st',e,end=' ')\n",
    "    print(\"1st Error\")\n",
    "\n",
    "try:\n",
    "    print('2nd_FIRST')\n",
    "    print(1/0)\n",
    "except:\n",
    "    print('2nd_LAST_STATEMENT')"
   ]
  },
  {
   "cell_type": "code",
   "execution_count": null,
   "id": "f8d2aa1c",
   "metadata": {},
   "outputs": [],
   "source": []
  }
 ],
 "metadata": {
  "kernelspec": {
   "display_name": "Python 3",
   "language": "python",
   "name": "python3"
  },
  "language_info": {
   "codemirror_mode": {
    "name": "ipython",
    "version": 3
   },
   "file_extension": ".py",
   "mimetype": "text/x-python",
   "name": "python",
   "nbconvert_exporter": "python",
   "pygments_lexer": "ipython3",
   "version": "3.8.8"
  }
 },
 "nbformat": 4,
 "nbformat_minor": 5
}
