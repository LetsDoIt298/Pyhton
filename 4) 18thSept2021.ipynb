{
 "cells": [
  {
   "cell_type": "code",
   "execution_count": 1,
   "id": "24c98a49",
   "metadata": {},
   "outputs": [
    {
     "data": {
      "text/plain": [
       "[1, 3, 5]"
      ]
     },
     "execution_count": 1,
     "metadata": {},
     "output_type": "execute_result"
    }
   ],
   "source": [
    "l=[1,2,3,4,5,6]\n",
    "l[::2]"
   ]
  },
  {
   "cell_type": "code",
   "execution_count": 2,
   "id": "9a50f20a",
   "metadata": {},
   "outputs": [
    {
     "name": "stdout",
     "output_type": "stream",
     "text": [
      "Alankar\n"
     ]
    }
   ],
   "source": [
    "l=[1,2,3,4,'Alankar']\n",
    "for i in l:\n",
    "    if type(i)== str:\n",
    "        print(i)"
   ]
  },
  {
   "cell_type": "markdown",
   "id": "afdb0994",
   "metadata": {},
   "source": [
    "# While Loop"
   ]
  },
  {
   "cell_type": "code",
   "execution_count": 3,
   "id": "0663460d",
   "metadata": {},
   "outputs": [
    {
     "name": "stdout",
     "output_type": "stream",
     "text": [
      "1\n",
      "2\n",
      "3\n",
      "4\n",
      "SUCCESS\n"
     ]
    }
   ],
   "source": [
    "i=1\n",
    "n=5\n",
    "while i<n:\n",
    "    print(i)                   #this will get into infinite loop\n",
    "    i =i+1 #ori +=1\n",
    "else:\n",
    "    print('SUCCESS')"
   ]
  },
  {
   "cell_type": "code",
   "execution_count": 4,
   "id": "ffd8da35",
   "metadata": {},
   "outputs": [
    {
     "name": "stdout",
     "output_type": "stream",
     "text": [
      "1\n"
     ]
    }
   ],
   "source": [
    "a=1\n",
    "while a<2:\n",
    "    print(a)\n",
    "    if(a==1):\n",
    "        break"
   ]
  },
  {
   "cell_type": "code",
   "execution_count": 5,
   "id": "d27c9f28",
   "metadata": {},
   "outputs": [
    {
     "name": "stdout",
     "output_type": "stream",
     "text": [
      "1\n",
      "2\n",
      "3\n",
      "4\n",
      "5\n",
      "6\n",
      "7\n",
      "8\n",
      "since a is 9 therefore break\n"
     ]
    }
   ],
   "source": [
    "a=1\n",
    "while a<20:\n",
    "    print(a)\n",
    "    a +=1\n",
    "    if(a==9):\n",
    "        print('since a is 9 therefore break')\n",
    "        break"
   ]
  },
  {
   "cell_type": "code",
   "execution_count": 6,
   "id": "90a75a62",
   "metadata": {},
   "outputs": [
    {
     "name": "stdout",
     "output_type": "stream",
     "text": [
      "1\n",
      "2\n",
      "3\n",
      "4\n",
      "6\n",
      "\n",
      "\n",
      "1\n",
      "2\n",
      "3\n",
      "4\n",
      "5\n"
     ]
    }
   ],
   "source": [
    "#case1\n",
    "a=1\n",
    "while a<10:\n",
    "    print(a)\n",
    "    a +=1\n",
    "    if(a==5):\n",
    "        print(a+1)\n",
    "        break\n",
    "\n",
    "print('\\n')\n",
    "#case2\n",
    "a=1\n",
    "while a<10:\n",
    "    print(a)\n",
    "    if(a==5):\n",
    "        break\n",
    "    a = a+1"
   ]
  },
  {
   "cell_type": "code",
   "execution_count": 7,
   "id": "84217408",
   "metadata": {},
   "outputs": [
    {
     "name": "stdout",
     "output_type": "stream",
     "text": [
      "Alan"
     ]
    }
   ],
   "source": [
    "c= 'Alanmkar'\n",
    "for i in c:\n",
    "    if(i=='m'): break\n",
    "    else: print(i,end='')"
   ]
  },
  {
   "cell_type": "code",
   "execution_count": 8,
   "id": "4b431822",
   "metadata": {},
   "outputs": [
    {
     "name": "stdout",
     "output_type": "stream",
     "text": [
      "Alankar"
     ]
    }
   ],
   "source": [
    "c= 'Alanmkar'\n",
    "for i in c:\n",
    "    if(i=='m'): continue\n",
    "    else: print(i,end='')"
   ]
  },
  {
   "cell_type": "code",
   "execution_count": 9,
   "id": "c0b6784a",
   "metadata": {},
   "outputs": [
    {
     "name": "stdout",
     "output_type": "stream",
     "text": [
      "Alankar"
     ]
    }
   ],
   "source": [
    "c= 'Alanmkar'\n",
    "for i in c:\n",
    "    if(i=='m'): pass\n",
    "    else: print(i,end='')"
   ]
  },
  {
   "cell_type": "markdown",
   "id": "388a6880",
   "metadata": {},
   "source": [
    "#### Diff b/w pass and continue "
   ]
  },
  {
   "cell_type": "code",
   "execution_count": 10,
   "id": "b5a7c8d4",
   "metadata": {},
   "outputs": [
    {
     "name": "stdout",
     "output_type": "stream",
     "text": [
      "see the difference\n"
     ]
    }
   ],
   "source": [
    "'''Continue :- continue will continue the process, used in loops\n",
    "   pass :- Used when we have not written anything in the function(if function is blank, then we define PASS )'''\n",
    "print('see the difference')"
   ]
  },
  {
   "cell_type": "code",
   "execution_count": null,
   "id": "3c1064d5",
   "metadata": {},
   "outputs": [],
   "source": []
  },
  {
   "cell_type": "code",
   "execution_count": 11,
   "id": "082c53e9",
   "metadata": {},
   "outputs": [
    {
     "name": "stdout",
     "output_type": "stream",
     "text": [
      "alankar"
     ]
    }
   ],
   "source": [
    "l=['a','l','a','n','m','k','a','r']\n",
    "for i in l:\n",
    "    if(i=='m'): continue       #or if(i=='l[4]')\n",
    "    else: print(i,end='')"
   ]
  },
  {
   "cell_type": "code",
   "execution_count": null,
   "id": "6f46e9ff",
   "metadata": {},
   "outputs": [],
   "source": []
  },
  {
   "cell_type": "code",
   "execution_count": 12,
   "id": "1d1cfde8",
   "metadata": {},
   "outputs": [
    {
     "data": {
      "text/plain": [
       "9"
      ]
     },
     "execution_count": 12,
     "metadata": {},
     "output_type": "execute_result"
    }
   ],
   "source": [
    "a='ala     n'\n",
    "len(a)"
   ]
  },
  {
   "cell_type": "code",
   "execution_count": 13,
   "id": "77464090",
   "metadata": {},
   "outputs": [
    {
     "data": {
      "text/plain": [
       "'Ala     n'"
      ]
     },
     "execution_count": 13,
     "metadata": {},
     "output_type": "execute_result"
    }
   ],
   "source": [
    "a.capitalize()         # just wtrite a.    the press TAB then you'll get list of functions"
   ]
  },
  {
   "cell_type": "code",
   "execution_count": 14,
   "id": "f7312f72",
   "metadata": {},
   "outputs": [
    {
     "data": {
      "text/plain": [
       "'ALA     N'"
      ]
     },
     "execution_count": 14,
     "metadata": {},
     "output_type": "execute_result"
    }
   ],
   "source": [
    "a.upper()"
   ]
  },
  {
   "cell_type": "code",
   "execution_count": 15,
   "id": "8c1c5e57",
   "metadata": {},
   "outputs": [
    {
     "data": {
      "text/plain": [
       "'ala     n'"
      ]
     },
     "execution_count": 15,
     "metadata": {},
     "output_type": "execute_result"
    }
   ],
   "source": [
    "a.lower()"
   ]
  },
  {
   "cell_type": "code",
   "execution_count": 16,
   "id": "16262278",
   "metadata": {},
   "outputs": [
    {
     "name": "stdout",
     "output_type": "stream",
     "text": [
      "8\n",
      "0\n"
     ]
    }
   ],
   "source": [
    "print( a.find('n') )\n",
    "print( a.find('a') )"
   ]
  },
  {
   "cell_type": "code",
   "execution_count": 17,
   "id": "cc2ca496",
   "metadata": {},
   "outputs": [
    {
     "data": {
      "text/plain": [
       "['w', 'e', 'fasb']"
      ]
     },
     "execution_count": 17,
     "metadata": {},
     "output_type": "execute_result"
    }
   ],
   "source": [
    "e='wdedfasb'\n",
    "e.split('d')"
   ]
  },
  {
   "cell_type": "code",
   "execution_count": 18,
   "id": "5bf4ef80",
   "metadata": {},
   "outputs": [
    {
     "name": "stdout",
     "output_type": "stream",
     "text": [
      "['n', 'a', 'l', 'A']\n"
     ]
    },
    {
     "data": {
      "text/plain": [
       "'nalA'"
      ]
     },
     "execution_count": 18,
     "metadata": {},
     "output_type": "execute_result"
    }
   ],
   "source": [
    "s='Alan'\n",
    "print( list(reversed(s))  )             #this will provide in iterable object\n",
    "\n",
    "#or \n",
    "s[::-1]"
   ]
  },
  {
   "cell_type": "markdown",
   "id": "1b864ecf",
   "metadata": {},
   "source": [
    "### Strip "
   ]
  },
  {
   "cell_type": "code",
   "execution_count": 19,
   "id": "9e55f35b",
   "metadata": {},
   "outputs": [
    {
     "data": {
      "text/plain": [
       "'Alankar'"
      ]
     },
     "execution_count": 19,
     "metadata": {},
     "output_type": "execute_result"
    }
   ],
   "source": [
    "s='Alankar'\n",
    "s.strip()    #no changes\n",
    "\n",
    "#but see below"
   ]
  },
  {
   "cell_type": "code",
   "execution_count": 20,
   "id": "109dd62b",
   "metadata": {},
   "outputs": [
    {
     "data": {
      "text/plain": [
       "'Alankar'"
      ]
     },
     "execution_count": 20,
     "metadata": {},
     "output_type": "execute_result"
    }
   ],
   "source": [
    "s='               Alankar        '\n",
    "s.strip()"
   ]
  },
  {
   "cell_type": "code",
   "execution_count": 21,
   "id": "6d02bb86",
   "metadata": {},
   "outputs": [
    {
     "data": {
      "text/plain": [
       "'Alankar        '"
      ]
     },
     "execution_count": 21,
     "metadata": {},
     "output_type": "execute_result"
    }
   ],
   "source": [
    "s.lstrip()          #this will remove only left side space"
   ]
  },
  {
   "cell_type": "code",
   "execution_count": 22,
   "id": "4c9707bf",
   "metadata": {},
   "outputs": [
    {
     "data": {
      "text/plain": [
       "'               Alankar'"
      ]
     },
     "execution_count": 22,
     "metadata": {},
     "output_type": "execute_result"
    }
   ],
   "source": [
    "s.rstrip()    ##this will remove only right side space"
   ]
  },
  {
   "cell_type": "code",
   "execution_count": null,
   "id": "5781a148",
   "metadata": {},
   "outputs": [],
   "source": []
  },
  {
   "cell_type": "markdown",
   "id": "ed84f15f",
   "metadata": {},
   "source": [
    "### join "
   ]
  },
  {
   "cell_type": "code",
   "execution_count": 23,
   "id": "febc10c2",
   "metadata": {},
   "outputs": [
    {
     "data": {
      "text/plain": [
       "'w_e_l_c_o_m_e_ _t_o_ _i_n_e_e_u_r_o_n'"
      ]
     },
     "execution_count": 23,
     "metadata": {},
     "output_type": "execute_result"
    }
   ],
   "source": [
    "\"_\".join(\"welcome to ineeuron\")     #here each charater is joined by '-'"
   ]
  },
  {
   "cell_type": "code",
   "execution_count": null,
   "id": "edee1c2b",
   "metadata": {},
   "outputs": [],
   "source": []
  },
  {
   "cell_type": "markdown",
   "id": "8c8ecb6f",
   "metadata": {},
   "source": [
    "### Replace "
   ]
  },
  {
   "cell_type": "code",
   "execution_count": 24,
   "id": "3497b155",
   "metadata": {},
   "outputs": [
    {
     "data": {
      "text/plain": [
       "'AlanAAAar'"
      ]
     },
     "execution_count": 24,
     "metadata": {},
     "output_type": "execute_result"
    }
   ],
   "source": [
    "s = 'Alankar'\n",
    "s.replace(\"k\",\"AAA\")        #this will replace k with AAA"
   ]
  },
  {
   "cell_type": "code",
   "execution_count": 25,
   "id": "fa7562c2",
   "metadata": {},
   "outputs": [
    {
     "name": "stdout",
     "output_type": "stream",
     "text": [
      "aryaNkar\n",
      "Alankar\n"
     ]
    }
   ],
   "source": [
    "# NOTE:- as string is immutable entity, so in 'replace' we create a new variable\n",
    "a = 'Alankar'\n",
    "print( a.replace('Alan','aryaN') )\n",
    "print(a) #thus a remains the same"
   ]
  },
  {
   "cell_type": "code",
   "execution_count": null,
   "id": "32b04723",
   "metadata": {},
   "outputs": [],
   "source": []
  },
  {
   "cell_type": "markdown",
   "id": "862de920",
   "metadata": {},
   "source": [
    "### Center "
   ]
  },
  {
   "cell_type": "code",
   "execution_count": 26,
   "id": "fd42a4cd",
   "metadata": {},
   "outputs": [],
   "source": [
    "# NOTE:- only one charater can be used"
   ]
  },
  {
   "cell_type": "code",
   "execution_count": 27,
   "id": "0b7a6389",
   "metadata": {},
   "outputs": [
    {
     "data": {
      "text/plain": [
       "'cccAlancc'"
      ]
     },
     "execution_count": 27,
     "metadata": {},
     "output_type": "execute_result"
    }
   ],
   "source": [
    "e = 'Alan'\n",
    "e.center(9,'c')     #here Alan is printed between 9 c's\n",
    "                     #if we try to include 2 charaters instead of 'c', we'll get an error"
   ]
  },
  {
   "cell_type": "code",
   "execution_count": 28,
   "id": "c21a6def",
   "metadata": {},
   "outputs": [
    {
     "ename": "TypeError",
     "evalue": "The fill character must be exactly one character long",
     "output_type": "error",
     "traceback": [
      "\u001b[1;31m---------------------------------------------------------------------------\u001b[0m",
      "\u001b[1;31mTypeError\u001b[0m                                 Traceback (most recent call last)",
      "\u001b[1;32m<ipython-input-28-b3c57b482522>\u001b[0m in \u001b[0;36m<module>\u001b[1;34m\u001b[0m\n\u001b[1;32m----> 1\u001b[1;33m \u001b[0me\u001b[0m\u001b[1;33m.\u001b[0m\u001b[0mcenter\u001b[0m\u001b[1;33m(\u001b[0m\u001b[1;36m9\u001b[0m\u001b[1;33m,\u001b[0m\u001b[1;34m''\u001b[0m\u001b[1;33m)\u001b[0m    \u001b[1;31m#or if we dont write instead of c we'll still be getting an error\u001b[0m\u001b[1;33m\u001b[0m\u001b[1;33m\u001b[0m\u001b[0m\n\u001b[0m",
      "\u001b[1;31mTypeError\u001b[0m: The fill character must be exactly one character long"
     ]
    }
   ],
   "source": [
    "e.center(9,'')    #or if we dont write instead of c we'll still be getting an error"
   ]
  },
  {
   "cell_type": "code",
   "execution_count": 29,
   "id": "f23acb91",
   "metadata": {},
   "outputs": [
    {
     "data": {
      "text/plain": [
       "'   Alan   '"
      ]
     },
     "execution_count": 29,
     "metadata": {},
     "output_type": "execute_result"
    }
   ],
   "source": [
    "e.center(10,' ')"
   ]
  },
  {
   "cell_type": "code",
   "execution_count": null,
   "id": "97dcc933",
   "metadata": {},
   "outputs": [],
   "source": []
  },
  {
   "cell_type": "markdown",
   "id": "dec9e44d",
   "metadata": {},
   "source": [
    "### Expand "
   ]
  },
  {
   "cell_type": "code",
   "execution_count": 30,
   "id": "1bc19dd2",
   "metadata": {},
   "outputs": [
    {
     "data": {
      "text/plain": [
       "'Alan\\tkar'"
      ]
     },
     "execution_count": 30,
     "metadata": {},
     "output_type": "execute_result"
    }
   ],
   "source": [
    "'Alan\\tkar'"
   ]
  },
  {
   "cell_type": "code",
   "execution_count": 31,
   "id": "c762d921",
   "metadata": {},
   "outputs": [
    {
     "data": {
      "text/plain": [
       "'Alan    kar'"
      ]
     },
     "execution_count": 31,
     "metadata": {},
     "output_type": "execute_result"
    }
   ],
   "source": [
    "'Alan\\tkar'.expandtabs()"
   ]
  },
  {
   "cell_type": "code",
   "execution_count": null,
   "id": "6d279c0e",
   "metadata": {},
   "outputs": [],
   "source": []
  },
  {
   "cell_type": "markdown",
   "id": "5bd449d4",
   "metadata": {},
   "source": [
    "### is"
   ]
  },
  {
   "cell_type": "code",
   "execution_count": 32,
   "id": "3465b8cf",
   "metadata": {},
   "outputs": [],
   "source": [
    "#what function start with 'is' will always return Boolean(either True or False) value"
   ]
  },
  {
   "cell_type": "code",
   "execution_count": 42,
   "id": "330df7dc",
   "metadata": {},
   "outputs": [
    {
     "name": "stdout",
     "output_type": "stream",
     "text": [
      "False\n",
      "True\n",
      "\n",
      "False\n",
      "False\n",
      "\n",
      "True\n",
      "False\n",
      "\n"
     ]
    }
   ],
   "source": [
    "s='alan'\n",
    "print( s.isupper() )       \n",
    "print( s.islower(), end='\\n\\n')  #when all are in lower, then True for -> .islower()\n",
    "\n",
    "s='Alan'\n",
    "print( s.isupper() )\n",
    "print( s.islower(), end='\\n\\n' )\n",
    "\n",
    "s='ALAN'\n",
    "print( s.isupper() )    #when all are in upper, then True for -> .isupper()\n",
    "print( s.islower(), end='\\n\\n' )"
   ]
  },
  {
   "cell_type": "code",
   "execution_count": 46,
   "id": "cbfa3901",
   "metadata": {},
   "outputs": [
    {
     "name": "stdout",
     "output_type": "stream",
     "text": [
      "False\n",
      "False\n",
      "False\n",
      "False\n",
      "True\n"
     ]
    }
   ],
   "source": [
    "s='Alan'\n",
    "print( s.isspace() )\n",
    "\n",
    "s='Alan kar'\n",
    "print( s.isspace() )\n",
    "\n",
    "s='   Alan'\n",
    "print( s.isspace() )\n",
    "\n",
    "s='Alan     '\n",
    "print( s.isspace() )\n",
    "\n",
    "s=' '\n",
    "print( s.isspace() )  #only checks for space"
   ]
  },
  {
   "cell_type": "code",
   "execution_count": 51,
   "id": "393c9aa4",
   "metadata": {},
   "outputs": [
    {
     "name": "stdout",
     "output_type": "stream",
     "text": [
      "False\n",
      "False\n",
      "False\n",
      "True\n"
     ]
    }
   ],
   "source": [
    "s='Alan'\n",
    "print( s.isdigit() )\n",
    "\n",
    "s='Alan123'\n",
    "print( s.isdigit() )\n",
    "\n",
    "s='123Alan'\n",
    "print( s.isdigit() )\n",
    "\n",
    "s='123'\n",
    "print( s.isdigit() )"
   ]
  },
  {
   "cell_type": "code",
   "execution_count": 55,
   "id": "67d76df7",
   "metadata": {},
   "outputs": [
    {
     "name": "stdout",
     "output_type": "stream",
     "text": [
      "True\n",
      "True\n"
     ]
    }
   ],
   "source": [
    "s='Alan'\n",
    "print( s.endswith('n') )\n",
    "\n",
    "print( s.startswith('A') )"
   ]
  },
  {
   "cell_type": "code",
   "execution_count": 57,
   "id": "ebf5ce39",
   "metadata": {},
   "outputs": [
    {
     "name": "stdout",
     "output_type": "stream",
     "text": [
      "True\n"
     ]
    }
   ],
   "source": [
    "s='Alan'\n",
    "print( s.isalpha() )"
   ]
  },
  {
   "cell_type": "code",
   "execution_count": 65,
   "id": "a51911d8",
   "metadata": {},
   "outputs": [
    {
     "name": "stdout",
     "output_type": "stream",
     "text": [
      "True\n",
      "True\n",
      "True\n",
      "True\n",
      "False\n"
     ]
    }
   ],
   "source": [
    "s='Alan'\n",
    "print( s.isalnum() )\n",
    "\n",
    "s='Alan123'\n",
    "print( s.isalnum() )\n",
    "\n",
    "s='123Alan'\n",
    "print( s.isalnum() )\n",
    "\n",
    "s='123'\n",
    "print( s.isalnum() )\n",
    "\n",
    "s='Al  an'\n",
    "print( s.isalnum() )"
   ]
  },
  {
   "cell_type": "code",
   "execution_count": 88,
   "id": "bb135353",
   "metadata": {},
   "outputs": [
    {
     "name": "stdout",
     "output_type": "stream",
     "text": [
      "raknalA si siht olleH\n",
      "raknalA si siht olle\n",
      "\n",
      "raknalA si siht olleH"
     ]
    }
   ],
   "source": [
    "# Reverse a string\n",
    "str1 = \"Hello this is Alankar\"\n",
    "\n",
    "print( str1[::-1] )\n",
    "\n",
    "for i in range(len(str),1,-1):\n",
    "    print(str1[i-1],end=\"\")\n",
    "print('\\n')\n",
    "#or                                                          imp one!\n",
    "for i in reversed(str1):\n",
    "    print(i,end='')"
   ]
  },
  {
   "cell_type": "code",
   "execution_count": 91,
   "id": "10aa1ab3",
   "metadata": {},
   "outputs": [
    {
     "name": "stdout",
     "output_type": "stream",
     "text": [
      "raknalA si siht olleHr"
     ]
    }
   ],
   "source": [
    "i= len(str1)\n",
    "while i >= 0:\n",
    "    print(str1[i-1],end=\"\")\n",
    "    i -=1"
   ]
  },
  {
   "cell_type": "code",
   "execution_count": null,
   "id": "de244991",
   "metadata": {},
   "outputs": [],
   "source": []
  },
  {
   "cell_type": "markdown",
   "id": "14f9b22b",
   "metadata": {},
   "source": [
    "## Format"
   ]
  },
  {
   "cell_type": "code",
   "execution_count": 92,
   "id": "b72a64e8",
   "metadata": {},
   "outputs": [
    {
     "data": {
      "text/plain": [
       "'My name is Alankar'"
      ]
     },
     "execution_count": 92,
     "metadata": {},
     "output_type": "execute_result"
    }
   ],
   "source": [
    "\"My name is {}\".format('Alankar')"
   ]
  },
  {
   "cell_type": "code",
   "execution_count": 94,
   "id": "eacb8071",
   "metadata": {},
   "outputs": [
    {
     "name": "stdout",
     "output_type": "stream",
     "text": [
      "Entyer your nameAlankar\n",
      "My name is Alankar\n"
     ]
    }
   ],
   "source": [
    "inp= input(\"Entyer your name\")\n",
    "print('My name is {}'.format(inp))"
   ]
  },
  {
   "cell_type": "code",
   "execution_count": 100,
   "id": "6caf692a",
   "metadata": {},
   "outputs": [
    {
     "name": "stdout",
     "output_type": "stream",
     "text": [
      "Entyer your name->Aryan\n",
      "Enter your age->11\n",
      "enter class name->first\n",
      "Enter section->A\n",
      "My name is Aryan and my age is 11 yers. I study in first class and my section is A\n"
     ]
    }
   ],
   "source": [
    "inp= input(\"Entyer your name->\")\n",
    "inp1= int(input(\"Enter your age->\"))\n",
    "inp2=input(\"enter class name->\")\n",
    "inp3 = input('Enter section->')\n",
    "\n",
    "print('My name is {}'.format(inp),\n",
    "      'and my age is {} yers.'.format(inp1),\n",
    "     'I study in {} class and my section is {}'.format(inp2,inp3))"
   ]
  },
  {
   "cell_type": "code",
   "execution_count": null,
   "id": "d2afa32b",
   "metadata": {},
   "outputs": [],
   "source": []
  },
  {
   "cell_type": "markdown",
   "id": "fee54850",
   "metadata": {},
   "source": [
    "## Some inbuild functions of list"
   ]
  },
  {
   "cell_type": "code",
   "execution_count": 159,
   "id": "1f3ecb54",
   "metadata": {},
   "outputs": [
    {
     "data": {
      "text/plain": [
       "10"
      ]
     },
     "execution_count": 159,
     "metadata": {},
     "output_type": "execute_result"
    }
   ],
   "source": [
    "l=[5,1,2,3,4,5,5,\"Alankar\",\"Sharma\", 'ineuron']\n",
    "len(l)"
   ]
  },
  {
   "cell_type": "code",
   "execution_count": 160,
   "id": "9ed1b500",
   "metadata": {},
   "outputs": [
    {
     "data": {
      "text/plain": [
       "True"
      ]
     },
     "execution_count": 160,
     "metadata": {},
     "output_type": "execute_result"
    }
   ],
   "source": [
    "'Alankar' in l            #check if Alankar present in l or not"
   ]
  },
  {
   "cell_type": "code",
   "execution_count": 161,
   "id": "f09d6016",
   "metadata": {},
   "outputs": [
    {
     "data": {
      "text/plain": [
       "False"
      ]
     },
     "execution_count": 161,
     "metadata": {},
     "output_type": "execute_result"
    }
   ],
   "source": [
    "'alankar' in l"
   ]
  },
  {
   "cell_type": "code",
   "execution_count": 162,
   "id": "a4f4e188",
   "metadata": {},
   "outputs": [
    {
     "data": {
      "text/plain": [
       "[5, 1, 2, 3, 4, 5, 5, 'Alankar', 'Sharma', 'ineuron', 'MLDL']"
      ]
     },
     "execution_count": 162,
     "metadata": {},
     "output_type": "execute_result"
    }
   ],
   "source": [
    "l.append('MLDL')\n",
    "l"
   ]
  },
  {
   "cell_type": "code",
   "execution_count": 163,
   "id": "8d9ba99f",
   "metadata": {},
   "outputs": [
    {
     "data": {
      "text/plain": [
       "'MLDL'"
      ]
     },
     "execution_count": 163,
     "metadata": {},
     "output_type": "execute_result"
    }
   ],
   "source": [
    "l.pop() #MLDl is removed, by default it takes last element of list"
   ]
  },
  {
   "cell_type": "code",
   "execution_count": 164,
   "id": "d16ea797",
   "metadata": {},
   "outputs": [
    {
     "data": {
      "text/plain": [
       "[5, 1, 2, 3, 5, 5, 'Alankar', 'Sharma', 'ineuron']"
      ]
     },
     "execution_count": 164,
     "metadata": {},
     "output_type": "execute_result"
    }
   ],
   "source": [
    "l.pop(4)        # 4th element is poped\n",
    "l"
   ]
  },
  {
   "cell_type": "code",
   "execution_count": 165,
   "id": "bfd440bc",
   "metadata": {},
   "outputs": [
    {
     "data": {
      "text/plain": [
       "['ineuron', 'Sharma', 'Alankar', 5, 5, 3, 2, 1, 5]"
      ]
     },
     "execution_count": 165,
     "metadata": {},
     "output_type": "execute_result"
    }
   ],
   "source": [
    "l.reverse()\n",
    "l"
   ]
  },
  {
   "cell_type": "code",
   "execution_count": 166,
   "id": "f4e7c096",
   "metadata": {},
   "outputs": [
    {
     "data": {
      "text/plain": [
       "['ineuron', 'Sharma', '2nd element', 'Alankar', 5, 5, 3, 2, 1, 5]"
      ]
     },
     "execution_count": 166,
     "metadata": {},
     "output_type": "execute_result"
    }
   ],
   "source": [
    "l.insert(2,'2nd element')\n",
    "l"
   ]
  },
  {
   "cell_type": "code",
   "execution_count": 167,
   "id": "ce581e4a",
   "metadata": {},
   "outputs": [
    {
     "data": {
      "text/plain": [
       "['ineuron',\n",
       " 'Sharma',\n",
       " '2nd element',\n",
       " 'Alankar',\n",
       " 5,\n",
       " 5,\n",
       " 3,\n",
       " 2,\n",
       " 1,\n",
       " 5,\n",
       " '20nd element']"
      ]
     },
     "execution_count": 167,
     "metadata": {},
     "output_type": "execute_result"
    }
   ],
   "source": [
    "l.insert(20,'20nd element')      #note\n",
    "l"
   ]
  },
  {
   "cell_type": "code",
   "execution_count": 168,
   "id": "07857762",
   "metadata": {},
   "outputs": [
    {
     "data": {
      "text/plain": [
       "['ineuron', 'Sharma', '2nd element', 'Alankar', 5, 3, 2, 1, 5, '20nd element']"
      ]
     },
     "execution_count": 168,
     "metadata": {},
     "output_type": "execute_result"
    }
   ],
   "source": [
    "l.remove(5) #this will remove value first '5'\n",
    "l"
   ]
  },
  {
   "cell_type": "code",
   "execution_count": null,
   "id": "af0ec1d2",
   "metadata": {},
   "outputs": [],
   "source": []
  },
  {
   "cell_type": "code",
   "execution_count": 169,
   "id": "5e09d8c4",
   "metadata": {},
   "outputs": [
    {
     "data": {
      "text/plain": [
       "[1, 2, 3, 4, 5, 6, 7, 8]"
      ]
     },
     "execution_count": 169,
     "metadata": {},
     "output_type": "execute_result"
    }
   ],
   "source": [
    "l=[1,2,3,4]\n",
    "l1=[5,6,7,8]\n",
    "l+l1"
   ]
  },
  {
   "cell_type": "code",
   "execution_count": 170,
   "id": "2be4fdd1",
   "metadata": {},
   "outputs": [
    {
     "data": {
      "text/plain": [
       "[1, 2, 3, 4, [5, 6, 7, 8]]"
      ]
     },
     "execution_count": 170,
     "metadata": {},
     "output_type": "execute_result"
    }
   ],
   "source": [
    "l.append(l1)\n",
    "l"
   ]
  },
  {
   "cell_type": "code",
   "execution_count": 171,
   "id": "eaa51f14",
   "metadata": {},
   "outputs": [
    {
     "data": {
      "text/plain": [
       "[1, 2, 3, 4, [5, 6, 7, 8], [5, 6, 7, 8]]"
      ]
     },
     "execution_count": 171,
     "metadata": {},
     "output_type": "execute_result"
    }
   ],
   "source": [
    "l.insert(-1,l1)\n",
    "l"
   ]
  },
  {
   "cell_type": "code",
   "execution_count": 172,
   "id": "717f8c86",
   "metadata": {},
   "outputs": [
    {
     "data": {
      "text/plain": [
       "[1, 2, 3, 4, [5, 6, 7, 8], [5, 6, 7, 8], 5, 6, 7, 8]"
      ]
     },
     "execution_count": 172,
     "metadata": {},
     "output_type": "execute_result"
    }
   ],
   "source": [
    "l.extend(l1)       # inserting elemnets of list rather than inserting list together, as done above\n",
    "l"
   ]
  },
  {
   "cell_type": "code",
   "execution_count": null,
   "id": "22454ab5",
   "metadata": {},
   "outputs": [],
   "source": []
  },
  {
   "cell_type": "markdown",
   "id": "d280da53",
   "metadata": {},
   "source": [
    "## comprehension operation"
   ]
  },
  {
   "cell_type": "code",
   "execution_count": 2,
   "id": "032bcdc1",
   "metadata": {},
   "outputs": [
    {
     "data": {
      "text/plain": [
       "['my', 'name', 'is', 'sudh']"
      ]
     },
     "execution_count": 2,
     "metadata": {},
     "output_type": "execute_result"
    }
   ],
   "source": [
    "s ='my name is sudh'\n",
    "s.split(' ')"
   ]
  },
  {
   "cell_type": "code",
   "execution_count": 7,
   "id": "e4a6e3ed",
   "metadata": {},
   "outputs": [
    {
     "name": "stdout",
     "output_type": "stream",
     "text": [
      "[1, 4, 9, 16, 3136]\n"
     ]
    },
    {
     "data": {
      "text/plain": [
       "[1, 4, 9, 16, 3136]"
      ]
     },
     "execution_count": 7,
     "metadata": {},
     "output_type": "execute_result"
    }
   ],
   "source": [
    "#print square of each element in the list\n",
    "l =[1,2,3,4,56]\n",
    "\n",
    "#Method 1\n",
    "l1=[]\n",
    "for i in l:\n",
    "    l1.append(i*i)   #or we can write i**2\n",
    "print(l1)\n",
    "\n",
    "#Metgod 2=>\n",
    "[i**2 for i in l]        ############# This approch is called comprehension operation"
   ]
  },
  {
   "cell_type": "code",
   "execution_count": 12,
   "id": "ae835194",
   "metadata": {},
   "outputs": [
    {
     "name": "stdout",
     "output_type": "stream",
     "text": [
      "['s', 'u', 'd', 'h']\n"
     ]
    },
    {
     "data": {
      "text/plain": [
       "['s', 'u', 'd', 'h']"
      ]
     },
     "execution_count": 12,
     "metadata": {},
     "output_type": "execute_result"
    }
   ],
   "source": [
    "# Return me list of all characters\n",
    "s = \"sudh\"\n",
    "\n",
    "#method 1\n",
    "l=[]\n",
    "for i in s:\n",
    "    l.append(i)\n",
    "print(l)\n",
    "\n",
    "#Method 2=>\n",
    "[i for i in l]"
   ]
  },
  {
   "cell_type": "code",
   "execution_count": 30,
   "id": "73918cfe",
   "metadata": {},
   "outputs": [
    {
     "name": "stdout",
     "output_type": "stream",
     "text": [
      "Even list-> [2, 4, 6, 8, 10, 12, 14, 16, 18, 20]\n",
      "Odd list -> [1, 3, 5, 7, 9, 11, 13, 15, 17, 19]\n",
      "Sum-------> [3, 7, 11, 15, 19, 23, 27, 31, 35, 39]\n",
      "\n",
      "\n",
      "Even list-> [2, 4, 6, 8, 10, 12, 14, 16, 18]\n",
      "Odd list -> [1, 3, 5, 7, 9, 11, 13, 15, 17, 19]\n",
      "Sum-------> [3, 7, 11, 15, 19, 23, 27, 31, 35]\n"
     ]
    }
   ],
   "source": [
    "#Create a separate list with even & odd numbers of size 10 , and perform element wise addition operation\n",
    "\n",
    "##Method 1=>\n",
    "l1=[]\n",
    "l2=[]\n",
    "l3=[]\n",
    "for i in range(1,21):\n",
    "    if i%2 == 0: l1.append(i)\n",
    "    else: l2.append(i)\n",
    "print(\"Even list->\",l1)\n",
    "print(\"Odd list ->\",l2)\n",
    "\n",
    "for i in range(len(l1)):\n",
    "    l3.append(l1[i] + l2[i])\n",
    "print(\"Sum------->\",l3)\n",
    "\n",
    "print('\\n')\n",
    "#Method 2=>\n",
    "l3=[i for i in range(2,20,2)]                   #better method\n",
    "l4=[i for i in range(1,20,2)]\n",
    "sum=[l3[i]+l4[i] for i in range(len(l3))]\n",
    "print(\"Even list->\",l3)\n",
    "print(\"Odd list ->\",l4)\n",
    "print(\"Sum------->\",sum)"
   ]
  },
  {
   "cell_type": "markdown",
   "id": "793304ae",
   "metadata": {},
   "source": [
    "# Q1 Write a list comprehension operation for gnerating all the list of apphabatical character in upper case and lower case.\n"
   ]
  },
  {
   "cell_type": "code",
   "execution_count": 58,
   "id": "badc7ba3",
   "metadata": {},
   "outputs": [
    {
     "name": "stdout",
     "output_type": "stream",
     "text": [
      "0 -> \u0000\n",
      "1 -> \u0001\n",
      "2 -> \u0002\n",
      "3 -> \u0003\n",
      "4 -> \u0004\n",
      "5 -> \u0005\n",
      "6 -> \u0006\n",
      "7 -> \u0007\n",
      "8 -> \b\n",
      "9 -> \t\n",
      "10 -> \n",
      "\n",
      "11 -> \u000b",
      "\n",
      "12 -> \f",
      "\n",
      "13 -> \r\n",
      "14 -> \u000e\n",
      "15 -> \u000f\n",
      "16 -> \u0010\n",
      "17 -> \u0011\n",
      "18 -> \u0012\n",
      "19 -> \u0013\n",
      "20 -> \u0014\n",
      "21 -> \u0015\n",
      "22 -> \u0016\n",
      "23 -> \u0017\n",
      "24 -> \u0018\n",
      "25 -> \u0019\n",
      "26 -> \u001a\n",
      "27 -> \u001b\n",
      "28 -> \u001c",
      "\n",
      "29 -> \u001d",
      "\n",
      "30 -> \u001e",
      "\n",
      "31 -> \u001f\n",
      "32 ->  \n",
      "33 -> !\n",
      "34 -> \"\n",
      "35 -> #\n",
      "36 -> $\n",
      "37 -> %\n",
      "38 -> &\n",
      "39 -> '\n",
      "40 -> (\n",
      "41 -> )\n",
      "42 -> *\n",
      "43 -> +\n",
      "44 -> ,\n",
      "45 -> -\n",
      "46 -> .\n",
      "47 -> /\n",
      "48 -> 0\n",
      "49 -> 1\n",
      "50 -> 2\n",
      "51 -> 3\n",
      "52 -> 4\n",
      "53 -> 5\n",
      "54 -> 6\n",
      "55 -> 7\n",
      "56 -> 8\n",
      "57 -> 9\n",
      "58 -> :\n",
      "59 -> ;\n",
      "60 -> <\n",
      "61 -> =\n",
      "62 -> >\n",
      "63 -> ?\n",
      "64 -> @\n",
      "65 -> A\n",
      "66 -> B\n",
      "67 -> C\n",
      "68 -> D\n",
      "69 -> E\n",
      "70 -> F\n",
      "71 -> G\n",
      "72 -> H\n",
      "73 -> I\n",
      "74 -> J\n",
      "75 -> K\n",
      "76 -> L\n",
      "77 -> M\n",
      "78 -> N\n",
      "79 -> O\n",
      "80 -> P\n",
      "81 -> Q\n",
      "82 -> R\n",
      "83 -> S\n",
      "84 -> T\n",
      "85 -> U\n",
      "86 -> V\n",
      "87 -> W\n",
      "88 -> X\n",
      "89 -> Y\n",
      "90 -> Z\n",
      "91 -> [\n",
      "92 -> \\\n",
      "93 -> ]\n",
      "94 -> ^\n",
      "95 -> _\n",
      "96 -> `\n",
      "97 -> a\n",
      "98 -> b\n",
      "99 -> c\n",
      "100 -> d\n",
      "101 -> e\n",
      "102 -> f\n",
      "103 -> g\n",
      "104 -> h\n",
      "105 -> i\n",
      "106 -> j\n",
      "107 -> k\n",
      "108 -> l\n",
      "109 -> m\n",
      "110 -> n\n",
      "111 -> o\n",
      "112 -> p\n",
      "113 -> q\n",
      "114 -> r\n",
      "115 -> s\n",
      "116 -> t\n",
      "117 -> u\n",
      "118 -> v\n",
      "119 -> w\n",
      "120 -> x\n",
      "121 -> y\n",
      "122 -> z\n",
      "123 -> {\n",
      "124 -> |\n",
      "125 -> }\n",
      "126 -> ~\n",
      "127 -> \n",
      "128 -> \n",
      "129 -> \n",
      "130 -> \n",
      "131 -> \n",
      "132 -> \n",
      "133 -> ",
      "\n",
      "134 -> \n",
      "135 -> \n",
      "136 -> \n",
      "137 -> \n",
      "138 -> \n",
      "139 -> \n",
      "140 -> \n",
      "141 -> \n",
      "142 -> \n",
      "143 -> \n",
      "144 -> \n",
      "145 -> \n",
      "146 -> \n",
      "147 -> \n",
      "148 -> \n",
      "149 -> \n",
      "150 -> \n",
      "151 -> \n",
      "152 -> \n",
      "153 -> \n",
      "154 -> \n",
      "155 -> \n",
      "156 -> \n",
      "157 -> \n",
      "158 -> \n",
      "159 -> \n",
      "160 ->  \n",
      "161 -> ¡\n",
      "162 -> ¢\n",
      "163 -> £\n",
      "164 -> ¤\n",
      "165 -> ¥\n",
      "166 -> ¦\n",
      "167 -> §\n",
      "168 -> ¨\n",
      "169 -> ©\n",
      "170 -> ª\n",
      "171 -> «\n",
      "172 -> ¬\n",
      "173 -> ­\n",
      "174 -> ®\n",
      "175 -> ¯\n",
      "176 -> °\n",
      "177 -> ±\n",
      "178 -> ²\n",
      "179 -> ³\n",
      "180 -> ´\n",
      "181 -> µ\n",
      "182 -> ¶\n",
      "183 -> ·\n",
      "184 -> ¸\n",
      "185 -> ¹\n",
      "186 -> º\n",
      "187 -> »\n",
      "188 -> ¼\n",
      "189 -> ½\n",
      "190 -> ¾\n",
      "191 -> ¿\n",
      "192 -> À\n",
      "193 -> Á\n",
      "194 -> Â\n",
      "195 -> Ã\n",
      "196 -> Ä\n",
      "197 -> Å\n",
      "198 -> Æ\n",
      "199 -> Ç\n",
      "200 -> È\n",
      "201 -> É\n",
      "202 -> Ê\n",
      "203 -> Ë\n",
      "204 -> Ì\n",
      "205 -> Í\n",
      "206 -> Î\n",
      "207 -> Ï\n",
      "208 -> Ð\n",
      "209 -> Ñ\n",
      "210 -> Ò\n",
      "211 -> Ó\n",
      "212 -> Ô\n",
      "213 -> Õ\n",
      "214 -> Ö\n",
      "215 -> ×\n",
      "216 -> Ø\n",
      "217 -> Ù\n",
      "218 -> Ú\n",
      "219 -> Û\n",
      "220 -> Ü\n",
      "221 -> Ý\n",
      "222 -> Þ\n",
      "223 -> ß\n",
      "224 -> à\n",
      "225 -> á\n",
      "226 -> â\n",
      "227 -> ã\n",
      "228 -> ä\n",
      "229 -> å\n",
      "230 -> æ\n",
      "231 -> ç\n",
      "232 -> è\n",
      "233 -> é\n",
      "234 -> ê\n",
      "235 -> ë\n",
      "236 -> ì\n",
      "237 -> í\n",
      "238 -> î\n",
      "239 -> ï\n",
      "240 -> ð\n",
      "241 -> ñ\n",
      "242 -> ò\n",
      "243 -> ó\n",
      "244 -> ô\n",
      "245 -> õ\n",
      "246 -> ö\n",
      "247 -> ÷\n",
      "248 -> ø\n",
      "249 -> ù\n",
      "250 -> ú\n",
      "251 -> û\n",
      "252 -> ü\n",
      "253 -> ý\n",
      "254 -> þ\n",
      "255 -> ÿ\n",
      "256 -> Ā\n",
      "257 -> ā\n",
      "258 -> Ă\n",
      "259 -> ă\n",
      "260 -> Ą\n",
      "261 -> ą\n",
      "262 -> Ć\n",
      "263 -> ć\n",
      "264 -> Ĉ\n",
      "265 -> ĉ\n",
      "266 -> Ċ\n",
      "267 -> ċ\n",
      "268 -> Č\n",
      "269 -> č\n",
      "270 -> Ď\n",
      "271 -> ď\n",
      "272 -> Đ\n",
      "273 -> đ\n",
      "274 -> Ē\n",
      "275 -> ē\n",
      "276 -> Ĕ\n",
      "277 -> ĕ\n",
      "278 -> Ė\n",
      "279 -> ė\n",
      "280 -> Ę\n",
      "281 -> ę\n",
      "282 -> Ě\n",
      "283 -> ě\n",
      "284 -> Ĝ\n",
      "285 -> ĝ\n",
      "286 -> Ğ\n",
      "287 -> ğ\n",
      "288 -> Ġ\n",
      "289 -> ġ\n",
      "290 -> Ģ\n",
      "291 -> ģ\n",
      "292 -> Ĥ\n",
      "293 -> ĥ\n",
      "294 -> Ħ\n",
      "295 -> ħ\n",
      "296 -> Ĩ\n",
      "297 -> ĩ\n",
      "298 -> Ī\n",
      "299 -> ī\n",
      "300 -> Ĭ\n",
      "301 -> ĭ\n",
      "302 -> Į\n",
      "303 -> į\n",
      "304 -> İ\n",
      "305 -> ı\n",
      "306 -> Ĳ\n",
      "307 -> ĳ\n",
      "308 -> Ĵ\n",
      "309 -> ĵ\n",
      "310 -> Ķ\n",
      "311 -> ķ\n",
      "312 -> ĸ\n",
      "313 -> Ĺ\n",
      "314 -> ĺ\n",
      "315 -> Ļ\n",
      "316 -> ļ\n",
      "317 -> Ľ\n",
      "318 -> ľ\n",
      "319 -> Ŀ\n",
      "320 -> ŀ\n",
      "321 -> Ł\n",
      "322 -> ł\n",
      "323 -> Ń\n",
      "324 -> ń\n",
      "325 -> Ņ\n",
      "326 -> ņ\n",
      "327 -> Ň\n",
      "328 -> ň\n",
      "329 -> ŉ\n",
      "330 -> Ŋ\n",
      "331 -> ŋ\n",
      "332 -> Ō\n",
      "333 -> ō\n",
      "334 -> Ŏ\n",
      "335 -> ŏ\n",
      "336 -> Ő\n",
      "337 -> ő\n",
      "338 -> Œ\n",
      "339 -> œ\n",
      "340 -> Ŕ\n",
      "341 -> ŕ\n",
      "342 -> Ŗ\n",
      "343 -> ŗ\n",
      "344 -> Ř\n",
      "345 -> ř\n",
      "346 -> Ś\n",
      "347 -> ś\n",
      "348 -> Ŝ\n",
      "349 -> ŝ\n",
      "350 -> Ş\n",
      "351 -> ş\n",
      "352 -> Š\n",
      "353 -> š\n",
      "354 -> Ţ\n",
      "355 -> ţ\n",
      "356 -> Ť\n",
      "357 -> ť\n",
      "358 -> Ŧ\n",
      "359 -> ŧ\n",
      "360 -> Ũ\n",
      "361 -> ũ\n",
      "362 -> Ū\n",
      "363 -> ū\n",
      "364 -> Ŭ\n",
      "365 -> ŭ\n",
      "366 -> Ů\n",
      "367 -> ů\n",
      "368 -> Ű\n",
      "369 -> ű\n",
      "370 -> Ų\n",
      "371 -> ų\n",
      "372 -> Ŵ\n",
      "373 -> ŵ\n",
      "374 -> Ŷ\n",
      "375 -> ŷ\n",
      "376 -> Ÿ\n",
      "377 -> Ź\n",
      "378 -> ź\n",
      "379 -> Ż\n",
      "380 -> ż\n",
      "381 -> Ž\n",
      "382 -> ž\n",
      "383 -> ſ\n",
      "384 -> ƀ\n",
      "385 -> Ɓ\n",
      "386 -> Ƃ\n",
      "387 -> ƃ\n",
      "388 -> Ƅ\n",
      "389 -> ƅ\n",
      "390 -> Ɔ\n",
      "391 -> Ƈ\n",
      "392 -> ƈ\n",
      "393 -> Ɖ\n",
      "394 -> Ɗ\n",
      "395 -> Ƌ\n",
      "396 -> ƌ\n",
      "397 -> ƍ\n",
      "398 -> Ǝ\n",
      "399 -> Ə\n"
     ]
    }
   ],
   "source": [
    "# ASCII Numbers\n",
    "for i in range(0,400):\n",
    "    print(i,\"->\",chr(i))"
   ]
  },
  {
   "cell_type": "code",
   "execution_count": 57,
   "id": "c93fa60b",
   "metadata": {},
   "outputs": [
    {
     "name": "stdout",
     "output_type": "stream",
     "text": [
      "Capital alphabets-> ['a', 'b', 'c', 'd', 'e', 'f', 'g', 'h', 'i', 'j', 'k', 'l', 'm', 'n', 'o', 'p', 'q', 'r', 's', 't', 'u', 'v', 'w', 'x', 'y', 'z']\n",
      "\n",
      "\n",
      "Small alphabets  -> ['A', 'B', 'C', 'D', 'E', 'F', 'G', 'H', 'I', 'J', 'K', 'L', 'M', 'N', 'O', 'P', 'Q', 'R', 'S', 'T', 'U', 'V', 'W', 'X', 'Y', 'Z']\n"
     ]
    }
   ],
   "source": [
    "#sol\n",
    "l=[chr(i) for i in range(97,123) ]\n",
    "l1=[chr(i) for i in range(65,91)]\n",
    "print(\"Capital alphabets->\",l)\n",
    "print('\\n')\n",
    "print(\"Small alphabets  ->\",l1)"
   ]
  },
  {
   "cell_type": "code",
   "execution_count": null,
   "id": "c820eaea",
   "metadata": {},
   "outputs": [],
   "source": []
  },
  {
   "cell_type": "markdown",
   "id": "0f951c96",
   "metadata": {},
   "source": [
    "# Q2 write a code for pelindrom by using while loop"
   ]
  },
  {
   "cell_type": "code",
   "execution_count": 83,
   "id": "312d8f83",
   "metadata": {},
   "outputs": [
    {
     "name": "stdout",
     "output_type": "stream",
     "text": [
      "Enter anything->ethw46h\n",
      "Palindrome-> ethw46hh64whte\n"
     ]
    }
   ],
   "source": [
    "#sol\n",
    "s=input(\"Enter anything->\")\n",
    "i=len(s)\n",
    "new_s = s\n",
    "while i > 0:\n",
    "    new_s = new_s + s[i-1] \n",
    "    #print(new_s)\n",
    "    i -=1\n",
    "print(\"Palindrome->\",new_s)"
   ]
  },
  {
   "cell_type": "code",
   "execution_count": 84,
   "id": "c19e2fca",
   "metadata": {},
   "outputs": [
    {
     "data": {
      "text/plain": [
       "'abca'"
      ]
     },
     "execution_count": 84,
     "metadata": {},
     "output_type": "execute_result"
    }
   ],
   "source": [
    "# if without while loop was possible\n",
    "s='abc'\n",
    "s+'a'"
   ]
  },
  {
   "cell_type": "code",
   "execution_count": null,
   "id": "bdaddbfa",
   "metadata": {},
   "outputs": [],
   "source": []
  },
  {
   "cell_type": "markdown",
   "id": "8b1f784e",
   "metadata": {},
   "source": [
    "# Q3 Write a code to sort string in alphabatical order. // Don't use sort function..."
   ]
  },
  {
   "cell_type": "code",
   "execution_count": 99,
   "id": "4a156acb",
   "metadata": {},
   "outputs": [
    {
     "data": {
      "text/plain": [
       "97"
      ]
     },
     "execution_count": 99,
     "metadata": {},
     "output_type": "execute_result"
    }
   ],
   "source": [
    "ord('a')  # to convert char into ascii"
   ]
  },
  {
   "cell_type": "code",
   "execution_count": 149,
   "id": "063ca598",
   "metadata": {},
   "outputs": [
    {
     "name": "stdout",
     "output_type": "stream",
     "text": [
      "AAABCDFRSS\n"
     ]
    }
   ],
   "source": [
    "#sol\n",
    "s='badcfrASSA'\n",
    "s1 = s.upper()   #this will make all elements in upper case\n",
    "l= [ord(i) for i in s1]   #this will convert ascii alphabets into numerical values\n",
    "\n",
    "for i in range(len(l)):\n",
    "    for i in range(0,len(l)):\n",
    "        if(i==len(l)-1):\n",
    "            continue\n",
    "        if(l[i]>l[i+1]):\n",
    "            var = l[i]\n",
    "            l[i] = l[i+1]\n",
    "            l[i+1] = var\n",
    "\n",
    "l=[chr(i) for i in l]         #this will convert ascii numerical values into alphabets\n",
    "s2=''.join([str(i) for i in l])\n",
    "print(s2)"
   ]
  },
  {
   "cell_type": "code",
   "execution_count": 11,
   "id": "68ec5e05",
   "metadata": {},
   "outputs": [
    {
     "data": {
      "text/plain": [
       "{'A', 'S', 'a', 'b', 'c', 'd', 'f', 'r'}"
      ]
     },
     "execution_count": 11,
     "metadata": {},
     "output_type": "execute_result"
    }
   ],
   "source": [
    "#another sol \n",
    "s='badcfrASSA'\n",
    "l=[]\n",
    "[l.append(s[i]) for i in range(len(s))]\n",
    "l\n",
    "set(l)\n"
   ]
  },
  {
   "cell_type": "code",
   "execution_count": 150,
   "id": "18fb77aa",
   "metadata": {},
   "outputs": [
    {
     "data": {
      "text/plain": [
       "'BADCASFR'"
      ]
     },
     "execution_count": 150,
     "metadata": {},
     "output_type": "execute_result"
    }
   ],
   "source": [
    "s='badcASfr'\n",
    "s.upper() "
   ]
  },
  {
   "cell_type": "code",
   "execution_count": 151,
   "id": "c8c2a314",
   "metadata": {},
   "outputs": [
    {
     "name": "stdout",
     "output_type": "stream",
     "text": [
      "hi\n",
      "hi\n",
      "hi\n",
      "hi\n"
     ]
    }
   ],
   "source": [
    "l=[3,1,7,1]\n",
    "\n",
    "for i in range(len(l)):\n",
    "    for i in range(0,len(l)):\n",
    "        if(i==len(l)-1):\n",
    "            print('hi')\n",
    "            continue\n",
    "        if(l[i]>l[i+1]):\n",
    "            var = l[i]\n",
    "            l[i] = l[i+1]\n",
    "            l[i+1] = var"
   ]
  },
  {
   "cell_type": "code",
   "execution_count": 152,
   "id": "453f0dfd",
   "metadata": {},
   "outputs": [
    {
     "data": {
      "text/plain": [
       "[98, 97, 100, 99]"
      ]
     },
     "execution_count": 152,
     "metadata": {},
     "output_type": "execute_result"
    }
   ],
   "source": [
    "s='badc'\n",
    "s.upper()\n",
    "l= [ord(i) for i in s]\n",
    "l"
   ]
  },
  {
   "cell_type": "code",
   "execution_count": 153,
   "id": "e8a6259a",
   "metadata": {},
   "outputs": [
    {
     "data": {
      "text/plain": [
       "['b', 'a', 'd', 'c']"
      ]
     },
     "execution_count": 153,
     "metadata": {},
     "output_type": "execute_result"
    }
   ],
   "source": [
    "[chr(i) for i in l]"
   ]
  },
  {
   "cell_type": "code",
   "execution_count": 154,
   "id": "4c0a9fa7",
   "metadata": {},
   "outputs": [
    {
     "data": {
      "text/plain": [
       "['a', 'b', 'c', 'd']"
      ]
     },
     "execution_count": 154,
     "metadata": {},
     "output_type": "execute_result"
    }
   ],
   "source": [
    "s='badc'\n",
    "l= [i for i in s]\n",
    "\n",
    "l.sort()\n",
    "l"
   ]
  },
  {
   "cell_type": "code",
   "execution_count": null,
   "id": "1b4d099b",
   "metadata": {},
   "outputs": [],
   "source": []
  }
 ],
 "metadata": {
  "kernelspec": {
   "display_name": "Python 3",
   "language": "python",
   "name": "python3"
  },
  "language_info": {
   "codemirror_mode": {
    "name": "ipython",
    "version": 3
   },
   "file_extension": ".py",
   "mimetype": "text/x-python",
   "name": "python",
   "nbconvert_exporter": "python",
   "pygments_lexer": "ipython3",
   "version": "3.8.8"
  }
 },
 "nbformat": 4,
 "nbformat_minor": 5
}
