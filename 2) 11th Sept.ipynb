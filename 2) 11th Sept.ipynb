{
 "cells": [
  {
   "cell_type": "code",
   "execution_count": 3,
   "id": "7b4b1ddd",
   "metadata": {},
   "outputs": [
    {
     "data": {
      "text/plain": [
       "'Bolean, complex, string, list, int, float are primitive datatype'"
      ]
     },
     "execution_count": 3,
     "metadata": {},
     "output_type": "execute_result"
    }
   ],
   "source": [
    "'''Bolean, complex, string, list, int, float are primitive datatype'''"
   ]
  },
  {
   "cell_type": "code",
   "execution_count": 4,
   "id": "1f55fd73",
   "metadata": {},
   "outputs": [
    {
     "name": "stdout",
     "output_type": "stream",
     "text": [
      "Hello Alnakr\n"
     ]
    }
   ],
   "source": [
    "print(\"Hello Alnakr\")"
   ]
  },
  {
   "cell_type": "code",
   "execution_count": 5,
   "id": "764eef5d",
   "metadata": {},
   "outputs": [
    {
     "name": "stdout",
     "output_type": "stream",
     "text": [
      "10\n",
      "<class 'int'>\n"
     ]
    }
   ],
   "source": [
    "a=10\n",
    "print(a)\n",
    "print(type(a))"
   ]
  },
  {
   "cell_type": "code",
   "execution_count": 6,
   "id": "f9772053",
   "metadata": {},
   "outputs": [
    {
     "name": "stdout",
     "output_type": "stream",
     "text": [
      "Alankar\n",
      "<class 'str'>\n",
      "Alankar\n",
      "<class 'str'>\n",
      "Alankar\n",
      "<class 'str'>\n"
     ]
    }
   ],
   "source": [
    "a='Alankar'\n",
    "print(a)\n",
    "print(type(a))                   #as python supports dynamic typecasting, it detects automaticlly type of data \n",
    "a=\"Alankar\"\n",
    "print(a)\n",
    "print(type(a))\n",
    "a='''Alankar'''\n",
    "print(a)\n",
    "print(type(a))"
   ]
  },
  {
   "cell_type": "code",
   "execution_count": 7,
   "id": "0d0df07e",
   "metadata": {},
   "outputs": [
    {
     "name": "stdout",
     "output_type": "stream",
     "text": [
      "4.2\n",
      "(5+3j)\n"
     ]
    }
   ],
   "source": [
    "b=4.2\n",
    "print(b)\n",
    "b=5+3j\n",
    "print(b)                            #NOTE for complex number we can only use 'j'\n"
   ]
  },
  {
   "cell_type": "markdown",
   "id": "bfb32b12",
   "metadata": {},
   "source": [
    "## For auto complition use . + tab\n",
    "## e.g:- s.         provides all the features that could be done with string"
   ]
  },
  {
   "cell_type": "code",
   "execution_count": null,
   "id": "333e789a",
   "metadata": {},
   "outputs": [],
   "source": []
  },
  {
   "cell_type": "code",
   "execution_count": 9,
   "id": "9c53f41b",
   "metadata": {},
   "outputs": [
    {
     "data": {
      "text/plain": [
       "'1Alankar'"
      ]
     },
     "execution_count": 9,
     "metadata": {},
     "output_type": "execute_result"
    }
   ],
   "source": [
    "a=1\n",
    "b='Alankar'\n",
    "str(a)+b"
   ]
  },
  {
   "cell_type": "markdown",
   "id": "9aa9f495",
   "metadata": {},
   "source": [
    "# String"
   ]
  },
  {
   "cell_type": "code",
   "execution_count": 10,
   "id": "e48e3518",
   "metadata": {},
   "outputs": [],
   "source": [
    "# strings are immutable"
   ]
  },
  {
   "cell_type": "code",
   "execution_count": 44,
   "id": "2e00d1e4",
   "metadata": {},
   "outputs": [],
   "source": [
    "s= 'Alankar'"
   ]
  },
  {
   "cell_type": "code",
   "execution_count": 50,
   "id": "9487f940",
   "metadata": {},
   "outputs": [
    {
     "name": "stdout",
     "output_type": "stream",
     "text": [
      "1) r\n",
      "2) Alankar\n",
      "3) lan\n",
      "4) ar\n",
      "5) Alankar\n",
      "6) raknalA\n",
      "7) Aakr\n",
      "8) rkaA\n",
      "9) raknalA\n",
      "9) raknal\n"
     ]
    }
   ],
   "source": [
    "'''forward index:-\n",
    "                    A-> 0\n",
    "                    l-> 1\n",
    "                    a-> 2\n",
    "                    n-> 3\n",
    "                    k-> 4\n",
    "                    a-> 5\n",
    "                    r-> 6 \n",
    "    Reverse index:-\n",
    "                    A-> -7\n",
    "                    l-> -6\n",
    "                    a-> -5\n",
    "                    n-> -4\n",
    "                    k-> -3\n",
    "                    a-> -2\n",
    "                    r-> -1'''\n",
    "print('1)',s[-1])\n",
    "print('2)',s[ : ])\n",
    "print('3)',s[ 1: 4])\n",
    "print('4)',s[5:90])            #NOTE  although there is no index after 6 but in string sclicing this will work    \n",
    "\n",
    "'''JUMP 1 ,'''\n",
    "print('5)',s[ : : 1])\n",
    "\n",
    "'''Jump1 in revserse or printing reverse string'''\n",
    "print('6)',s[::-1])\n",
    "\n",
    "'''this will give alternating data,or jumping 2'''\n",
    "print('7)',s[ : : 2])   \n",
    "\n",
    "\n",
    "'''Reverse alternate'''\n",
    "print('8)',s[ : : -2])   \n",
    "\n",
    "print('9)',s[ : : -1])     "
   ]
  },
  {
   "cell_type": "code",
   "execution_count": 47,
   "id": "19da8a1b",
   "metadata": {},
   "outputs": [
    {
     "data": {
      "text/plain": [
       "'A'"
      ]
     },
     "execution_count": 47,
     "metadata": {},
     "output_type": "execute_result"
    }
   ],
   "source": [
    "s= 'Alankar'\n",
    "s[0::-1]                 # since nothing is behind 'A' therefore only A"
   ]
  },
  {
   "cell_type": "code",
   "execution_count": 49,
   "id": "0bad1052",
   "metadata": {},
   "outputs": [
    {
     "data": {
      "text/plain": [
       "''"
      ]
     },
     "execution_count": 49,
     "metadata": {},
     "output_type": "execute_result"
    }
   ],
   "source": [
    "s[0:5:-1]         "
   ]
  },
  {
   "cell_type": "code",
   "execution_count": 15,
   "id": "6b361a32",
   "metadata": {},
   "outputs": [
    {
     "data": {
      "text/plain": [
       "''"
      ]
     },
     "execution_count": 15,
     "metadata": {},
     "output_type": "execute_result"
    }
   ],
   "source": [
    "s[5:2:1]            #here it will try to move 5 then 6 then 7... but we want to move towards 2"
   ]
  },
  {
   "cell_type": "code",
   "execution_count": 16,
   "id": "6c1851cf",
   "metadata": {},
   "outputs": [
    {
     "data": {
      "text/plain": [
       "''"
      ]
     },
     "execution_count": 16,
     "metadata": {},
     "output_type": "execute_result"
    }
   ],
   "source": [
    "s[5:-1:-1]    # NOTE:- index 5 is a and -1 is r"
   ]
  },
  {
   "cell_type": "code",
   "execution_count": 17,
   "id": "66c21eb4",
   "metadata": {},
   "outputs": [
    {
     "data": {
      "text/plain": [
       "7"
      ]
     },
     "execution_count": 17,
     "metadata": {},
     "output_type": "execute_result"
    }
   ],
   "source": [
    "len(s)         # this includes from 1 then 2 ..... and includes space"
   ]
  },
  {
   "cell_type": "code",
   "execution_count": 18,
   "id": "2fec91c5",
   "metadata": {},
   "outputs": [
    {
     "data": {
      "text/plain": [
       "'Sharma Sharma Sharma Sharma Sharma Sharma Sharma Sharma Sharma Sharma '"
      ]
     },
     "execution_count": 18,
     "metadata": {},
     "output_type": "execute_result"
    }
   ],
   "source": [
    "'''********************NOTE***********************************************************'''\n",
    "'Sharma ' * 10"
   ]
  },
  {
   "cell_type": "code",
   "execution_count": 19,
   "id": "9e58ee38",
   "metadata": {},
   "outputs": [
    {
     "ename": "TypeError",
     "evalue": "unsupported operand type(s) for /: 'str' and 'int'",
     "output_type": "error",
     "traceback": [
      "\u001b[1;31m---------------------------------------------------------------------------\u001b[0m",
      "\u001b[1;31mTypeError\u001b[0m                                 Traceback (most recent call last)",
      "\u001b[1;32m<ipython-input-19-0ac4e0c40355>\u001b[0m in \u001b[0;36m<module>\u001b[1;34m\u001b[0m\n\u001b[1;32m----> 1\u001b[1;33m \u001b[1;34m'Sharma'\u001b[0m\u001b[1;33m/\u001b[0m \u001b[1;36m6\u001b[0m         \u001b[1;31m#this won't work\u001b[0m\u001b[1;33m\u001b[0m\u001b[1;33m\u001b[0m\u001b[0m\n\u001b[0m",
      "\u001b[1;31mTypeError\u001b[0m: unsupported operand type(s) for /: 'str' and 'int'"
     ]
    }
   ],
   "source": [
    "'Sharma'/ 6         #this won't work"
   ]
  },
  {
   "cell_type": "code",
   "execution_count": null,
   "id": "d93d7023",
   "metadata": {},
   "outputs": [],
   "source": []
  },
  {
   "cell_type": "code",
   "execution_count": null,
   "id": "04e09ed0",
   "metadata": {},
   "outputs": [],
   "source": []
  },
  {
   "cell_type": "code",
   "execution_count": null,
   "id": "21c1cf70",
   "metadata": {},
   "outputs": [],
   "source": []
  },
  {
   "cell_type": "code",
   "execution_count": 20,
   "id": "d1c0e8e8",
   "metadata": {},
   "outputs": [
    {
     "data": {
      "text/plain": [
       "bool"
      ]
     },
     "execution_count": 20,
     "metadata": {},
     "output_type": "execute_result"
    }
   ],
   "source": [
    "v= True\n",
    "type(v)"
   ]
  },
  {
   "cell_type": "code",
   "execution_count": 21,
   "id": "b20d2c60",
   "metadata": {},
   "outputs": [
    {
     "name": "stdout",
     "output_type": "stream",
     "text": [
      "0\n",
      "-1\n",
      "1\n",
      "1.0\n"
     ]
    }
   ],
   "source": [
    "print(True - True)                  #since True interbnally =1 and False =0\n",
    "print(False - True)\n",
    "print(True- False)\n",
    "print(True/True)\n"
   ]
  },
  {
   "cell_type": "code",
   "execution_count": null,
   "id": "5b29acc8",
   "metadata": {},
   "outputs": [],
   "source": [
    "print(True/False)     #this shows error\n",
    "'''But in Numpy it is possible, it shows inf\n",
    " SEE BELOW'''"
   ]
  },
  {
   "cell_type": "code",
   "execution_count": 94,
   "id": "168253d9",
   "metadata": {},
   "outputs": [
    {
     "name": "stderr",
     "output_type": "stream",
     "text": [
      "<ipython-input-94-58b1fec1d2a2>:3: RuntimeWarning: divide by zero encountered in true_divide\n",
      "  np.asanyarray([1])/0\n"
     ]
    },
    {
     "data": {
      "text/plain": [
       "array([inf])"
      ]
     },
     "execution_count": 94,
     "metadata": {},
     "output_type": "execute_result"
    }
   ],
   "source": [
    "import numpy as np\n",
    "\n",
    "np.asanyarray([1])/0"
   ]
  },
  {
   "cell_type": "code",
   "execution_count": null,
   "id": "e5c9fbb5",
   "metadata": {},
   "outputs": [],
   "source": []
  },
  {
   "cell_type": "markdown",
   "id": "1783f62e",
   "metadata": {},
   "source": [
    "\n",
    "\n",
    "# List"
   ]
  },
  {
   "cell_type": "code",
   "execution_count": 7,
   "id": "9072ff59",
   "metadata": {},
   "outputs": [
    {
     "data": {
      "text/plain": [
       "8"
      ]
     },
     "execution_count": 7,
     "metadata": {},
     "output_type": "execute_result"
    }
   ],
   "source": [
    "l=[1,2,3,4,4,4,4,4]\n",
    "len(l)"
   ]
  },
  {
   "cell_type": "code",
   "execution_count": 95,
   "id": "e449add3",
   "metadata": {},
   "outputs": [
    {
     "data": {
      "text/plain": [
       "list"
      ]
     },
     "execution_count": 95,
     "metadata": {},
     "output_type": "execute_result"
    }
   ],
   "source": [
    "'''In list we can store different types of data or hetrogenous data'''\n",
    "L= ['A',2,5,7,'s']\n",
    "type(L)"
   ]
  },
  {
   "cell_type": "code",
   "execution_count": 105,
   "id": "ad58b13f",
   "metadata": {},
   "outputs": [],
   "source": [
    "#list inside list is possible\n",
    "l=[1,[3,6],3,5,7,2]\n",
    "l1=[1,[3,6],['Alankar','AAA'],3,5,7,2]"
   ]
  },
  {
   "cell_type": "code",
   "execution_count": 102,
   "id": "c331af57",
   "metadata": {},
   "outputs": [
    {
     "name": "stdout",
     "output_type": "stream",
     "text": [
      "2\n",
      "[2, 7, 5, 3, [3, 6], 1]\n",
      "[1, [3, 6], 3, 5, 7]\n",
      "[5, 7]\n",
      "[]\n",
      "[7, 5, 3]\n"
     ]
    }
   ],
   "source": [
    "#indexing is same as string\n",
    "print(l[-1])\n",
    "print(l[::-1])\n",
    "print(l[:-1])\n",
    "print(l[3:-1])\n",
    "print(l[-2:-5:1])\n",
    "print(l[-2:-5:-1])"
   ]
  },
  {
   "cell_type": "code",
   "execution_count": 109,
   "id": "4e4807b9",
   "metadata": {},
   "outputs": [
    {
     "name": "stdout",
     "output_type": "stream",
     "text": [
      "['Alankar', 'AAA']\n",
      "Alankar\n",
      "raknalA\n"
     ]
    }
   ],
   "source": [
    "#print reverse of Alankar in list l1= [1,[3,6],['Alankar','AAA'],3,5,7,2]\n",
    "print(l1[2])\n",
    "print(l1[2][0])\n",
    "print(l1[2][0][::-1])"
   ]
  },
  {
   "cell_type": "code",
   "execution_count": 112,
   "id": "08ffea5c",
   "metadata": {},
   "outputs": [
    {
     "data": {
      "text/plain": [
       "[1, [3, 6], 3, 5, 7, 2, 'S', 'h', 'a', 'r', 'm', 'a']"
      ]
     },
     "execution_count": 112,
     "metadata": {},
     "output_type": "execute_result"
    }
   ],
   "source": [
    "l+ list('Sharma')                                    ############################NOTE"
   ]
  },
  {
   "cell_type": "code",
   "execution_count": 113,
   "id": "5793b208",
   "metadata": {},
   "outputs": [
    {
     "data": {
      "text/plain": [
       "[1, 2, 3, 1, 2, 3, 1, 2, 3]"
      ]
     },
     "execution_count": 113,
     "metadata": {},
     "output_type": "execute_result"
    }
   ],
   "source": [
    "l2=[1,2,3]\n",
    "l2*3"
   ]
  },
  {
   "cell_type": "code",
   "execution_count": null,
   "id": "51555eaf",
   "metadata": {},
   "outputs": [],
   "source": []
  },
  {
   "cell_type": "code",
   "execution_count": 114,
   "id": "34b4d77b",
   "metadata": {},
   "outputs": [
    {
     "data": {
      "text/plain": [
       "range(0, 10)"
      ]
     },
     "execution_count": 114,
     "metadata": {},
     "output_type": "execute_result"
    }
   ],
   "source": [
    "range(10)                                    ############################NOTE"
   ]
  },
  {
   "cell_type": "code",
   "execution_count": 116,
   "id": "2d794ddd",
   "metadata": {},
   "outputs": [
    {
     "data": {
      "text/plain": [
       "[0, 1, 2, 3, 4, 5, 6, 7, 8, 9]"
      ]
     },
     "execution_count": 116,
     "metadata": {},
     "output_type": "execute_result"
    }
   ],
   "source": [
    "list(range(10))                   #start from 0 move till 10"
   ]
  },
  {
   "cell_type": "code",
   "execution_count": 118,
   "id": "ad1cc863",
   "metadata": {},
   "outputs": [
    {
     "data": {
      "text/plain": [
       "[4, 6, 8, 10, 12, 14, 16, 18]"
      ]
     },
     "execution_count": 118,
     "metadata": {},
     "output_type": "execute_result"
    }
   ],
   "source": [
    "list(range(4,20,2)) #start from 4 till 20 skipping 1 number"
   ]
  },
  {
   "cell_type": "code",
   "execution_count": 120,
   "id": "d7b7d749",
   "metadata": {},
   "outputs": [
    {
     "data": {
      "text/plain": [
       "[]"
      ]
     },
     "execution_count": 120,
     "metadata": {},
     "output_type": "execute_result"
    }
   ],
   "source": [
    "list(range(-4,-12,1))"
   ]
  },
  {
   "cell_type": "code",
   "execution_count": null,
   "id": "b9bc9c0f",
   "metadata": {},
   "outputs": [],
   "source": []
  },
  {
   "cell_type": "markdown",
   "id": "47933d51",
   "metadata": {},
   "source": [
    "#  Input"
   ]
  },
  {
   "cell_type": "code",
   "execution_count": 124,
   "id": "01187f83",
   "metadata": {},
   "outputs": [
    {
     "name": "stdout",
     "output_type": "stream",
     "text": [
      "Enter a number2\n",
      "type of input 2 = <class 'str'>\n"
     ]
    }
   ],
   "source": [
    "a = input('Enter a number')\n",
    "print('type of input',a,'=',type(a))       #string"
   ]
  },
  {
   "cell_type": "code",
   "execution_count": 125,
   "id": "b785eca8",
   "metadata": {},
   "outputs": [
    {
     "name": "stdout",
     "output_type": "stream",
     "text": [
      "Enter a number23\n",
      "type of input 23 = <class 'int'>\n"
     ]
    }
   ],
   "source": [
    "a = int(input('Enter a number'))\n",
    "print('type of input',a,'=',type(a))       #string"
   ]
  },
  {
   "cell_type": "code",
   "execution_count": 128,
   "id": "6973ca68",
   "metadata": {},
   "outputs": [
    {
     "name": "stdout",
     "output_type": "stream",
     "text": [
      "1 3 AS\n",
      "1 3 AS\n"
     ]
    }
   ],
   "source": [
    "a=1\n",
    "b=3\n",
    "c='AS'\n",
    "print(a,b,c)\n",
    "                # same as:-\n",
    "a,b,c = 1,3,'AS'\n",
    "print(a,b,c)"
   ]
  },
  {
   "cell_type": "code",
   "execution_count": null,
   "id": "f1ed9946",
   "metadata": {},
   "outputs": [],
   "source": []
  },
  {
   "cell_type": "markdown",
   "id": "8e06740e",
   "metadata": {},
   "source": [
    "# Tuple"
   ]
  },
  {
   "cell_type": "code",
   "execution_count": 134,
   "id": "12cf244d",
   "metadata": {},
   "outputs": [],
   "source": [
    "# Tuples are immutable, just like string and list are mutable.\n",
    "#meaning we can change value of list but not tuple"
   ]
  },
  {
   "cell_type": "code",
   "execution_count": 131,
   "id": "1dda9a22",
   "metadata": {},
   "outputs": [
    {
     "data": {
      "text/plain": [
       "tuple"
      ]
     },
     "execution_count": 131,
     "metadata": {},
     "output_type": "execute_result"
    }
   ],
   "source": [
    "a=(1,2,3,5)\n",
    "type(a)"
   ]
  },
  {
   "cell_type": "code",
   "execution_count": 130,
   "id": "59a6ee4b",
   "metadata": {},
   "outputs": [
    {
     "data": {
      "text/plain": [
       "2"
      ]
     },
     "execution_count": 130,
     "metadata": {},
     "output_type": "execute_result"
    }
   ],
   "source": [
    "a[1]"
   ]
  },
  {
   "cell_type": "code",
   "execution_count": 132,
   "id": "ce1aea1e",
   "metadata": {},
   "outputs": [],
   "source": [
    "#it can also store hetrogenous data"
   ]
  },
  {
   "cell_type": "code",
   "execution_count": 133,
   "id": "32d78a23",
   "metadata": {},
   "outputs": [
    {
     "name": "stdout",
     "output_type": "stream",
     "text": [
      "<class 'list'>\n",
      "<class 'tuple'>\n"
     ]
    }
   ],
   "source": [
    "a1=[1,2,5,6,7]\n",
    "a2=(1,2,5,6,7)\n",
    "\n",
    "print(type(a1))\n",
    "print(type(a2))"
   ]
  },
  {
   "cell_type": "code",
   "execution_count": 3,
   "id": "92d7cb26",
   "metadata": {},
   "outputs": [
    {
     "data": {
      "text/plain": [
       "'abnc'"
      ]
     },
     "execution_count": 3,
     "metadata": {},
     "output_type": "execute_result"
    }
   ],
   "source": [
    "a=('abnc',1,2,3)\n",
    "a[0]"
   ]
  },
  {
   "cell_type": "code",
   "execution_count": 139,
   "id": "af85180c",
   "metadata": {},
   "outputs": [
    {
     "name": "stdout",
     "output_type": "stream",
     "text": [
      "Alankar\n",
      "is\n",
      "a\n",
      "good boy\n",
      "['Alankar', 'is', 'a', 'good boy']\n"
     ]
    }
   ],
   "source": [
    "list=[]\n",
    "for i in range(4):\n",
    "    val=input()                     #we can also do val=input(i)\n",
    "    list.append(val)\n",
    "print(list)"
   ]
  },
  {
   "cell_type": "code",
   "execution_count": null,
   "id": "83ae46a9",
   "metadata": {},
   "outputs": [],
   "source": []
  },
  {
   "cell_type": "code",
   "execution_count": null,
   "id": "2925f2fa",
   "metadata": {},
   "outputs": [],
   "source": []
  },
  {
   "cell_type": "markdown",
   "id": "6746b283",
   "metadata": {},
   "source": [
    "# SET\n",
    "#### this removes dublicates from list and arreange in assending oder"
   ]
  },
  {
   "cell_type": "code",
   "execution_count": 3,
   "id": "e7a383c3",
   "metadata": {},
   "outputs": [
    {
     "data": {
      "text/plain": [
       "{1, 2, 3, 4, 5, 7, 8}"
      ]
     },
     "execution_count": 3,
     "metadata": {},
     "output_type": "execute_result"
    }
   ],
   "source": [
    "l=[3,4,3,3,2,1,5,7,8]\n",
    "set(l)"
   ]
  },
  {
   "cell_type": "code",
   "execution_count": 6,
   "id": "a4ad8e0b",
   "metadata": {},
   "outputs": [
    {
     "data": {
      "text/plain": [
       "{1, 2, 4, 6, 7, 9, 99}"
      ]
     },
     "execution_count": 6,
     "metadata": {},
     "output_type": "execute_result"
    }
   ],
   "source": [
    "l=(1,2,6,7,9,9,99,6,2,4,2,1,1,1)\n",
    "set(l)"
   ]
  },
  {
   "cell_type": "code",
   "execution_count": 9,
   "id": "1b164edf",
   "metadata": {},
   "outputs": [
    {
     "data": {
      "text/plain": [
       "[{1, 2, 4, 6, 7, 9, 99}, 1, 2, 3]"
      ]
     },
     "execution_count": 9,
     "metadata": {},
     "output_type": "execute_result"
    }
   ],
   "source": [
    "l=(1,2,6,7,9,9,99,6,2,4,2,1,1,1)\n",
    "L=[set(l),1,2,3]\n",
    "L"
   ]
  },
  {
   "cell_type": "code",
   "execution_count": null,
   "id": "370ddd6b",
   "metadata": {},
   "outputs": [],
   "source": []
  }
 ],
 "metadata": {
  "kernelspec": {
   "display_name": "Python 3",
   "language": "python",
   "name": "python3"
  },
  "language_info": {
   "codemirror_mode": {
    "name": "ipython",
    "version": 3
   },
   "file_extension": ".py",
   "mimetype": "text/x-python",
   "name": "python",
   "nbconvert_exporter": "python",
   "pygments_lexer": "ipython3",
   "version": "3.8.8"
  }
 },
 "nbformat": 4,
 "nbformat_minor": 5
}
