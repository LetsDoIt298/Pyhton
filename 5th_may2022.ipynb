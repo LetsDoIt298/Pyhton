{
 "cells": [
  {
   "cell_type": "code",
   "execution_count": null,
   "id": "1feaa860",
   "metadata": {},
   "outputs": [],
   "source": [
    "# creating an environment"
   ]
  },
  {
   "cell_type": "code",
   "execution_count": null,
   "id": "96056407",
   "metadata": {},
   "outputs": [],
   "source": [
    "import os\n",
    "\n",
    "\n",
    "dirs = [\n",
    "    os.path.join(\"data\", \"raw\"),\n",
    "    os.path.join(\"data\",\"processed\"),\n",
    "    \"notebooks\",\n",
    "    \"saved_models\",\n",
    "    \"src\"\n",
    "]\n",
    "\n",
    "for dir_ in dirs:\n",
    "    os.makedirs(dir_, exist_ok=True)\n",
    "    with open(os.path.join(dir_, \".gitkeep\"), \"w\") as f:\n",
    "        pass\n",
    "\n",
    "\n",
    "files = [\n",
    "    \"dvc.yaml\",\n",
    "    \"params.yaml\",\n",
    "    \".gitignore\",\n",
    "    os.path.join(\"src\",\"__init__.py\")\n",
    "]\n",
    "\n",
    "for file_ in files:\n",
    "    with open(file_, \"w\") as f:\n",
    "        pass"
   ]
  },
  {
   "cell_type": "code",
   "execution_count": null,
   "id": "5b28fb53",
   "metadata": {},
   "outputs": [],
   "source": []
  }
 ],
 "metadata": {
  "kernelspec": {
   "display_name": "Python 3",
   "language": "python",
   "name": "python3"
  },
  "language_info": {
   "codemirror_mode": {
    "name": "ipython",
    "version": 3
   },
   "file_extension": ".py",
   "mimetype": "text/x-python",
   "name": "python",
   "nbconvert_exporter": "python",
   "pygments_lexer": "ipython3",
   "version": "3.8.8"
  }
 },
 "nbformat": 4,
 "nbformat_minor": 5
}
