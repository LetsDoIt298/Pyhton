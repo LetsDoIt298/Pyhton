{
 "cells": [
  {
   "cell_type": "markdown",
   "id": "e96ff547",
   "metadata": {},
   "source": [
    "# Tuple"
   ]
  },
  {
   "cell_type": "code",
   "execution_count": 8,
   "id": "8ba60e6c",
   "metadata": {},
   "outputs": [],
   "source": [
    "t = (1,2,3,3,3,3,3,4,5,3,3,6,7,\"Akan\",\"ineuron\")"
   ]
  },
  {
   "cell_type": "code",
   "execution_count": 9,
   "id": "e88e5812",
   "metadata": {},
   "outputs": [
    {
     "name": "stdout",
     "output_type": "stream",
     "text": [
      "1\n",
      "(1, 2, 3, 3)\n"
     ]
    }
   ],
   "source": [
    "print( t[0])\n",
    "print( t[0:4])"
   ]
  },
  {
   "cell_type": "markdown",
   "id": "242241b3",
   "metadata": {},
   "source": [
    "#### inbuild functions of tuple"
   ]
  },
  {
   "cell_type": "code",
   "execution_count": 11,
   "id": "3e977b7e",
   "metadata": {},
   "outputs": [
    {
     "data": {
      "text/plain": [
       "7"
      ]
     },
     "execution_count": 11,
     "metadata": {},
     "output_type": "execute_result"
    }
   ],
   "source": [
    "t.count(3)"
   ]
  },
  {
   "cell_type": "code",
   "execution_count": 14,
   "id": "7943513f",
   "metadata": {},
   "outputs": [
    {
     "name": "stdout",
     "output_type": "stream",
     "text": [
      "0\n",
      "1\n",
      "2\n",
      "11\n"
     ]
    }
   ],
   "source": [
    "print(t.index(1) )    #provides first occerence of element\n",
    "print(t.index(2) )\n",
    "print(t.index(3) )\n",
    "print(t.index(6) )"
   ]
  },
  {
   "cell_type": "code",
   "execution_count": 15,
   "id": "7feee7d2",
   "metadata": {},
   "outputs": [],
   "source": [
    "del t #this will delete tuple t"
   ]
  },
  {
   "cell_type": "code",
   "execution_count": 16,
   "id": "1defbde5",
   "metadata": {},
   "outputs": [
    {
     "ename": "NameError",
     "evalue": "name 't' is not defined",
     "output_type": "error",
     "traceback": [
      "\u001b[1;31m---------------------------------------------------------------------------\u001b[0m",
      "\u001b[1;31mNameError\u001b[0m                                 Traceback (most recent call last)",
      "\u001b[1;32m<ipython-input-16-34fc7a11cb38>\u001b[0m in \u001b[0;36m<module>\u001b[1;34m\u001b[0m\n\u001b[1;32m----> 1\u001b[1;33m \u001b[0mt\u001b[0m\u001b[1;33m\u001b[0m\u001b[1;33m\u001b[0m\u001b[0m\n\u001b[0m",
      "\u001b[1;31mNameError\u001b[0m: name 't' is not defined"
     ]
    }
   ],
   "source": [
    "t"
   ]
  },
  {
   "cell_type": "code",
   "execution_count": null,
   "id": "86f38eb0",
   "metadata": {},
   "outputs": [],
   "source": []
  },
  {
   "cell_type": "markdown",
   "id": "fa784c60",
   "metadata": {},
   "source": [
    "# Set"
   ]
  },
  {
   "cell_type": "code",
   "execution_count": 25,
   "id": "cc21602c",
   "metadata": {},
   "outputs": [],
   "source": [
    "s = set()         #no repitation\n",
    "                  #elements insequence (for alphabets as well)"
   ]
  },
  {
   "cell_type": "code",
   "execution_count": 26,
   "id": "3ef2b0b2",
   "metadata": {},
   "outputs": [
    {
     "data": {
      "text/plain": [
       "{3, 5, 'Alan'}"
      ]
     },
     "execution_count": 26,
     "metadata": {},
     "output_type": "execute_result"
    }
   ],
   "source": [
    "s.add(3)\n",
    "s.add(5)\n",
    "s.add(\"Alan\")\n",
    "s.add(3)\n",
    "s"
   ]
  },
  {
   "cell_type": "code",
   "execution_count": 30,
   "id": "ce051d62",
   "metadata": {},
   "outputs": [
    {
     "ename": "TypeError",
     "evalue": "set expected at most 1 argument, got 3",
     "output_type": "error",
     "traceback": [
      "\u001b[1;31m---------------------------------------------------------------------------\u001b[0m",
      "\u001b[1;31mTypeError\u001b[0m                                 Traceback (most recent call last)",
      "\u001b[1;32m<ipython-input-30-b087a6fd53fa>\u001b[0m in \u001b[0;36m<module>\u001b[1;34m\u001b[0m\n\u001b[1;32m----> 1\u001b[1;33m \u001b[0ms\u001b[0m\u001b[1;33m=\u001b[0m \u001b[0mset\u001b[0m\u001b[1;33m(\u001b[0m\u001b[1;36m1\u001b[0m\u001b[1;33m,\u001b[0m\u001b[1;36m2\u001b[0m\u001b[1;33m,\u001b[0m\u001b[1;36m3\u001b[0m\u001b[1;33m)\u001b[0m \u001b[1;31m#this will give error  because we can pass only single variable in this case,see below\u001b[0m\u001b[1;33m\u001b[0m\u001b[1;33m\u001b[0m\u001b[0m\n\u001b[0m",
      "\u001b[1;31mTypeError\u001b[0m: set expected at most 1 argument, got 3"
     ]
    }
   ],
   "source": [
    "s= set(1,2,3) #this will give error  because we can pass only single variable in this case,see below"
   ]
  },
  {
   "cell_type": "code",
   "execution_count": 32,
   "id": "695e68c5",
   "metadata": {},
   "outputs": [
    {
     "data": {
      "text/plain": [
       "{1, 2, 3, 'Su', 'su'}"
      ]
     },
     "execution_count": 32,
     "metadata": {},
     "output_type": "execute_result"
    }
   ],
   "source": [
    "s = {1,2,3,2,3,2,3,2,3,'su','Su'}\n",
    "s"
   ]
  },
  {
   "cell_type": "code",
   "execution_count": 35,
   "id": "2af8c0b0",
   "metadata": {},
   "outputs": [
    {
     "name": "stdout",
     "output_type": "stream",
     "text": [
      "{'d', 'a', 'b'}\n",
      "{1, 2, 4, 5, 6, 7}\n"
     ]
    }
   ],
   "source": [
    "l = ['a','d','b']           \n",
    "print(set(s1))\n",
    "l=[1,4,2,6,5,7,7,7,1]\n",
    "print(set(l))"
   ]
  },
  {
   "cell_type": "code",
   "execution_count": 39,
   "id": "98d65742",
   "metadata": {},
   "outputs": [
    {
     "ename": "TypeError",
     "evalue": "unhashable type: 'list'",
     "output_type": "error",
     "traceback": [
      "\u001b[1;31m---------------------------------------------------------------------------\u001b[0m",
      "\u001b[1;31mTypeError\u001b[0m                                 Traceback (most recent call last)",
      "\u001b[1;32m<ipython-input-39-7329e85f3125>\u001b[0m in \u001b[0;36m<module>\u001b[1;34m\u001b[0m\n\u001b[0;32m      1\u001b[0m \u001b[0ml\u001b[0m\u001b[1;33m=\u001b[0m\u001b[1;33m[\u001b[0m\u001b[1;36m1\u001b[0m\u001b[1;33m,\u001b[0m\u001b[1;36m2\u001b[0m\u001b[1;33m,\u001b[0m\u001b[1;36m5\u001b[0m\u001b[1;33m,\u001b[0m\u001b[1;36m3\u001b[0m\u001b[1;33m,\u001b[0m\u001b[1;36m2\u001b[0m\u001b[1;33m,\u001b[0m\u001b[1;33m[\u001b[0m\u001b[1;36m1\u001b[0m\u001b[1;33m,\u001b[0m\u001b[1;36m1\u001b[0m\u001b[1;33m,\u001b[0m\u001b[1;36m2\u001b[0m\u001b[1;33m,\u001b[0m\u001b[1;36m3\u001b[0m\u001b[1;33m,\u001b[0m\u001b[1;36m7\u001b[0m\u001b[1;33m,\u001b[0m\u001b[1;36m11\u001b[0m\u001b[1;33m]\u001b[0m\u001b[1;33m]\u001b[0m\u001b[1;33m\u001b[0m\u001b[1;33m\u001b[0m\u001b[0m\n\u001b[1;32m----> 2\u001b[1;33m \u001b[0mset\u001b[0m\u001b[1;33m(\u001b[0m\u001b[0ml\u001b[0m\u001b[1;33m)\u001b[0m       \u001b[1;31m#list inside list can not be passed in set\u001b[0m\u001b[1;33m\u001b[0m\u001b[1;33m\u001b[0m\u001b[0m\n\u001b[0m\u001b[0;32m      3\u001b[0m           \u001b[1;31m#so for this case we can add one by one element in set & when list don't add\u001b[0m\u001b[1;33m\u001b[0m\u001b[1;33m\u001b[0m\u001b[1;33m\u001b[0m\u001b[0m\n",
      "\u001b[1;31mTypeError\u001b[0m: unhashable type: 'list'"
     ]
    }
   ],
   "source": [
    "l=[1,2,5,3,2,[1,1,2,3,7,11]]\n",
    "set(l)       #list inside list can not be passed in set\n",
    "          #so for this case we can add one by one element in set & when list don't add"
   ]
  },
  {
   "cell_type": "code",
   "execution_count": 45,
   "id": "a98ffe24",
   "metadata": {},
   "outputs": [
    {
     "data": {
      "text/plain": [
       "{1, 2, 3, 5}"
      ]
     },
     "execution_count": 45,
     "metadata": {},
     "output_type": "execute_result"
    }
   ],
   "source": [
    "l=[1,2,5,3,2,[1,1,2,3,7,11]]\n",
    "s = set()\n",
    "for i in l:\n",
    "    if(type(i) == list): continue\n",
    "    else: s.add(i) \n",
    "s"
   ]
  },
  {
   "cell_type": "code",
   "execution_count": 46,
   "id": "4bd6eba3",
   "metadata": {},
   "outputs": [
    {
     "data": {
      "text/plain": [
       "{1, 2, 3, 5, 7, 11}"
      ]
     },
     "execution_count": 46,
     "metadata": {},
     "output_type": "execute_result"
    }
   ],
   "source": [
    "# if we have list under list like this  l=[1,2,5,3,2,[1,1,2,3,7,11]]\n",
    "l=[1,2,5,3,2,[1,1,2,3,7,11]]\n",
    "s = set()\n",
    "for i in l:\n",
    "    if(type(i) == list):\n",
    "         [s.add(j) for j in i]\n",
    "    else: s.add(i) \n",
    "s"
   ]
  },
  {
   "cell_type": "markdown",
   "id": "c13e88dc",
   "metadata": {},
   "source": [
    "#### using some Tuple inbuild function"
   ]
  },
  {
   "cell_type": "code",
   "execution_count": 49,
   "id": "d736e5b7",
   "metadata": {},
   "outputs": [
    {
     "data": {
      "text/plain": [
       "{1, 2, 5}"
      ]
     },
     "execution_count": 49,
     "metadata": {},
     "output_type": "execute_result"
    }
   ],
   "source": [
    "l=[1,2,5,3,2,3,3,3]\n",
    "s = set(l)\n",
    "s.remove(3)\n",
    "s"
   ]
  },
  {
   "cell_type": "code",
   "execution_count": 51,
   "id": "89a0fdf1",
   "metadata": {},
   "outputs": [
    {
     "ename": "KeyError",
     "evalue": "77",
     "output_type": "error",
     "traceback": [
      "\u001b[1;31m---------------------------------------------------------------------------\u001b[0m",
      "\u001b[1;31mKeyError\u001b[0m                                  Traceback (most recent call last)",
      "\u001b[1;32m<ipython-input-51-75b261561327>\u001b[0m in \u001b[0;36m<module>\u001b[1;34m\u001b[0m\n\u001b[1;32m----> 1\u001b[1;33m \u001b[0ms\u001b[0m\u001b[1;33m.\u001b[0m\u001b[0mremove\u001b[0m\u001b[1;33m(\u001b[0m\u001b[1;36m77\u001b[0m\u001b[1;33m)\u001b[0m \u001b[1;31m#error because 77 not present in list\u001b[0m\u001b[1;33m\u001b[0m\u001b[1;33m\u001b[0m\u001b[0m\n\u001b[0m",
      "\u001b[1;31mKeyError\u001b[0m: 77"
     ]
    }
   ],
   "source": [
    "s.remove(77) #error because 77 not present in list"
   ]
  },
  {
   "cell_type": "code",
   "execution_count": null,
   "id": "4f59faba",
   "metadata": {},
   "outputs": [],
   "source": []
  },
  {
   "cell_type": "code",
   "execution_count": 52,
   "id": "9ee498bd",
   "metadata": {},
   "outputs": [
    {
     "data": {
      "text/plain": [
       "{1, 2, 3}"
      ]
     },
     "execution_count": 52,
     "metadata": {},
     "output_type": "execute_result"
    }
   ],
   "source": [
    "l=[1,2,5,3,2,3,3,3]\n",
    "s = set(l)\n",
    "s.discard(5)\n",
    "s"
   ]
  },
  {
   "cell_type": "code",
   "execution_count": 53,
   "id": "beed4c98",
   "metadata": {},
   "outputs": [],
   "source": [
    "s.discard(7777) # No error\n",
    "               #Since we are rewuesting an elemnet to be discarded whicj is not present"
   ]
  },
  {
   "cell_type": "code",
   "execution_count": 58,
   "id": "11ea03e9",
   "metadata": {},
   "outputs": [
    {
     "name": "stdout",
     "output_type": "stream",
     "text": [
      "<class 'set'>\n",
      "<class 'set'>\n"
     ]
    },
    {
     "data": {
      "text/plain": [
       "{'ML', 'learning'}"
      ]
     },
     "execution_count": 58,
     "metadata": {},
     "output_type": "execute_result"
    }
   ],
   "source": [
    "x={'ineuron','ML','learning'}\n",
    "y= {'stats', 'Deep learning', 'Conputer vison','ineuron'}\n",
    "\n",
    "print(type(x))\n",
    "print(type(y))\n",
    "\n",
    "x.difference(y)   # x-y"
   ]
  },
  {
   "cell_type": "code",
   "execution_count": null,
   "id": "e8fb9572",
   "metadata": {},
   "outputs": [],
   "source": []
  },
  {
   "cell_type": "code",
   "execution_count": 68,
   "id": "e261e5ec",
   "metadata": {},
   "outputs": [
    {
     "name": "stdout",
     "output_type": "stream",
     "text": [
      "{1, 2, 3}\n",
      "1\n",
      "2\n",
      "3\n"
     ]
    },
    {
     "data": {
      "text/plain": [
       "[None, None, None]"
      ]
     },
     "execution_count": 68,
     "metadata": {},
     "output_type": "execute_result"
    }
   ],
   "source": [
    "print( s )\n",
    "[print(i) for i in s]"
   ]
  },
  {
   "cell_type": "code",
   "execution_count": 69,
   "id": "027c397b",
   "metadata": {},
   "outputs": [
    {
     "ename": "TypeError",
     "evalue": "'set' object is not subscriptable",
     "output_type": "error",
     "traceback": [
      "\u001b[1;31m---------------------------------------------------------------------------\u001b[0m",
      "\u001b[1;31mTypeError\u001b[0m                                 Traceback (most recent call last)",
      "\u001b[1;32m<ipython-input-69-dfcd6cc8862a>\u001b[0m in \u001b[0;36m<module>\u001b[1;34m\u001b[0m\n\u001b[1;32m----> 1\u001b[1;33m \u001b[0ms\u001b[0m\u001b[1;33m[\u001b[0m\u001b[1;36m0\u001b[0m\u001b[1;33m]\u001b[0m  \u001b[1;31m#iteration is not possible in set, because data is not stored in sequence/order\u001b[0m\u001b[1;33m\u001b[0m\u001b[1;33m\u001b[0m\u001b[0m\n\u001b[0m",
      "\u001b[1;31mTypeError\u001b[0m: 'set' object is not subscriptable"
     ]
    }
   ],
   "source": [
    "s[0]  #iteration is not possible in set, because data is not stored in sequence/order"
   ]
  },
  {
   "cell_type": "code",
   "execution_count": 70,
   "id": "f752ff42",
   "metadata": {},
   "outputs": [
    {
     "ename": "TypeError",
     "evalue": "'set' object is not subscriptable",
     "output_type": "error",
     "traceback": [
      "\u001b[1;31m---------------------------------------------------------------------------\u001b[0m",
      "\u001b[1;31mTypeError\u001b[0m                                 Traceback (most recent call last)",
      "\u001b[1;32m<ipython-input-70-df961aec3305>\u001b[0m in \u001b[0;36m<module>\u001b[1;34m\u001b[0m\n\u001b[1;32m----> 1\u001b[1;33m \u001b[0ms\u001b[0m\u001b[1;33m[\u001b[0m\u001b[1;36m0\u001b[0m\u001b[1;33m:\u001b[0m\u001b[1;36m1\u001b[0m\u001b[1;33m]\u001b[0m  \u001b[1;31m#slicing not possible in set, because data is not stored in sequence/order\u001b[0m\u001b[1;33m\u001b[0m\u001b[1;33m\u001b[0m\u001b[0m\n\u001b[0m",
      "\u001b[1;31mTypeError\u001b[0m: 'set' object is not subscriptable"
     ]
    }
   ],
   "source": [
    "s[0:1]  #slicing not possible in set, because data is not stored in sequence/order"
   ]
  },
  {
   "cell_type": "code",
   "execution_count": 89,
   "id": "ebf9a4d4",
   "metadata": {},
   "outputs": [
    {
     "name": "stdout",
     "output_type": "stream",
     "text": [
      "{1, 2, 3} <class 'set'>\n",
      "[1, 2, 3] <class 'list'>\n",
      "(1, 2, 3) <class 'tuple'>\n"
     ]
    },
    {
     "data": {
      "text/plain": [
       "set"
      ]
     },
     "execution_count": 89,
     "metadata": {},
     "output_type": "execute_result"
    }
   ],
   "source": [
    "#now if we want to do indexing or slicing,\n",
    "#then convert tuple into list or tuple\n",
    "s={1,2,3,3,3,3}\n",
    "print(s,type(s))\n",
    "\n",
    "l = list(s)\n",
    "print(l,type(l))\n",
    "\n",
    "t = tuple(s)\n",
    "print(t,type(t))\n",
    "\n",
    "# but type of s remains set only \n",
    "type(s)"
   ]
  },
  {
   "cell_type": "code",
   "execution_count": null,
   "id": "a4ab1124",
   "metadata": {},
   "outputs": [],
   "source": []
  },
  {
   "cell_type": "markdown",
   "id": "1021e527",
   "metadata": {},
   "source": [
    "# Dictnary"
   ]
  },
  {
   "cell_type": "code",
   "execution_count": 94,
   "id": "1c845a99",
   "metadata": {},
   "outputs": [
    {
     "name": "stdout",
     "output_type": "stream",
     "text": [
      "<class 'dict'>\n",
      "<class 'set'>\n"
     ]
    }
   ],
   "source": [
    "l ={}\n",
    "print(type(l) )\n",
    "\n",
    "l={1,2,3,4}\n",
    "print(type(l) )"
   ]
  },
  {
   "cell_type": "code",
   "execution_count": 100,
   "id": "9d866d00",
   "metadata": {},
   "outputs": [
    {
     "data": {
      "text/plain": [
       "'Alan'"
      ]
     },
     "execution_count": 100,
     "metadata": {},
     "output_type": "execute_result"
    }
   ],
   "source": [
    "dic ={ 1:'Alan',                    #here 1and 2 -> Keys\n",
    "        2:'sha'}                    # Alan & Sha -> Values\n",
    "dic[1]"
   ]
  },
  {
   "cell_type": "code",
   "execution_count": 103,
   "id": "eb2e28ff",
   "metadata": {},
   "outputs": [
    {
     "data": {
      "text/plain": [
       "[4, 5, 7, 9]"
      ]
     },
     "execution_count": 103,
     "metadata": {},
     "output_type": "execute_result"
    }
   ],
   "source": [
    "d ={4:'sudh', 5:'kumar', \"k1\":\"xyz\", \"k2\":[1,2,3,4,5], 6:[4,5,7,9]}\n",
    "d[6]"
   ]
  },
  {
   "cell_type": "code",
   "execution_count": null,
   "id": "1d52db02",
   "metadata": {},
   "outputs": [],
   "source": []
  },
  {
   "cell_type": "code",
   "execution_count": 2,
   "id": "6f00e46d",
   "metadata": {},
   "outputs": [
    {
     "ename": "SyntaxError",
     "evalue": "invalid syntax (<ipython-input-2-5a99419647e4>, line 2)",
     "output_type": "error",
     "traceback": [
      "\u001b[1;36m  File \u001b[1;32m\"<ipython-input-2-5a99419647e4>\"\u001b[1;36m, line \u001b[1;32m2\u001b[0m\n\u001b[1;33m    d ={4:'sudh', 5:'kumar', @ : \"asdv\")    #special charater should not be used in dictnary as key\u001b[0m\n\u001b[1;37m                             ^\u001b[0m\n\u001b[1;31mSyntaxError\u001b[0m\u001b[1;31m:\u001b[0m invalid syntax\n"
     ]
    }
   ],
   "source": [
    "#for special character\n",
    "d ={4:'sudh', 5:'kumar', @ : \"asdv\")    #special charater should not be used in dictnary as key"
   ]
  },
  {
   "cell_type": "code",
   "execution_count": 3,
   "id": "6e5b727f",
   "metadata": {},
   "outputs": [
    {
     "data": {
      "text/plain": [
       "'asdv'"
      ]
     },
     "execution_count": 3,
     "metadata": {},
     "output_type": "execute_result"
    }
   ],
   "source": [
    "#but we can use it like this(by makung a string)\n",
    "d ={4:'sudh', 5:'kumar', '@' : \"asdv\"}\n",
    "d['@']"
   ]
  },
  {
   "cell_type": "code",
   "execution_count": null,
   "id": "11d5be22",
   "metadata": {},
   "outputs": [],
   "source": []
  },
  {
   "cell_type": "code",
   "execution_count": 4,
   "id": "1af8f5c6",
   "metadata": {},
   "outputs": [
    {
     "ename": "TypeError",
     "evalue": "unhashable type: 'list'",
     "output_type": "error",
     "traceback": [
      "\u001b[1;31m---------------------------------------------------------------------------\u001b[0m",
      "\u001b[1;31mTypeError\u001b[0m                                 Traceback (most recent call last)",
      "\u001b[1;32m<ipython-input-4-42bac7a072b3>\u001b[0m in \u001b[0;36m<module>\u001b[1;34m\u001b[0m\n\u001b[0;32m      1\u001b[0m \u001b[1;31m#for key\u001b[0m\u001b[1;33m\u001b[0m\u001b[1;33m\u001b[0m\u001b[1;33m\u001b[0m\u001b[0m\n\u001b[1;32m----> 2\u001b[1;33m \u001b[0md\u001b[0m \u001b[1;33m=\u001b[0m\u001b[1;33m{\u001b[0m\u001b[1;36m4\u001b[0m\u001b[1;33m:\u001b[0m\u001b[1;34m'sudh'\u001b[0m\u001b[1;33m,\u001b[0m \u001b[1;36m5\u001b[0m\u001b[1;33m:\u001b[0m\u001b[1;34m'kumar'\u001b[0m\u001b[1;33m,\u001b[0m \u001b[1;33m[\u001b[0m\u001b[1;36m1\u001b[0m\u001b[1;33m,\u001b[0m\u001b[1;36m2\u001b[0m\u001b[1;33m,\u001b[0m\u001b[1;36m34\u001b[0m\u001b[1;33m]\u001b[0m \u001b[1;33m:\u001b[0m \u001b[1;34m\"asdv\"\u001b[0m\u001b[1;33m}\u001b[0m    \u001b[1;31m#list should not be used in dictnary as key\u001b[0m\u001b[1;33m\u001b[0m\u001b[1;33m\u001b[0m\u001b[0m\n\u001b[0m",
      "\u001b[1;31mTypeError\u001b[0m: unhashable type: 'list'"
     ]
    }
   ],
   "source": [
    "#for key\n",
    "d ={4:'sudh', 5:'kumar', [1,2,34] : \"asdv\"}    #list should not be used in dictnary as key"
   ]
  },
  {
   "cell_type": "code",
   "execution_count": null,
   "id": "a0101ef3",
   "metadata": {},
   "outputs": [],
   "source": []
  },
  {
   "cell_type": "code",
   "execution_count": 1,
   "id": "80142c78",
   "metadata": {},
   "outputs": [
    {
     "name": "stdout",
     "output_type": "stream",
     "text": [
      "(1, 2, 34)\n",
      "\n"
     ]
    }
   ],
   "source": [
    "#for tuple\n",
    "#but we can place tuple\n",
    "d ={4:'sudh', 5:'kumar', (1,2,34) : \"asdv\"}   \n",
    "print((1,2,34))\n",
    "\n",
    "\n",
    "#We can also put underscore _ as a key ; \n",
    "#because underscore is called as place holder & and underscore can works for any variable \n",
    "d ={4:'sudh', 5:'kumar', (1,2,34) : \"asdv\",  _:45}   \n",
    "print(_)"
   ]
  },
  {
   "cell_type": "code",
   "execution_count": null,
   "id": "a1c1ba10",
   "metadata": {},
   "outputs": [],
   "source": []
  },
  {
   "cell_type": "code",
   "execution_count": 5,
   "id": "474764e7",
   "metadata": {},
   "outputs": [
    {
     "ename": "TypeError",
     "evalue": "unhashable type: 'set'",
     "output_type": "error",
     "traceback": [
      "\u001b[1;31m---------------------------------------------------------------------------\u001b[0m",
      "\u001b[1;31mTypeError\u001b[0m                                 Traceback (most recent call last)",
      "\u001b[1;32m<ipython-input-5-f899d01186b7>\u001b[0m in \u001b[0;36m<module>\u001b[1;34m\u001b[0m\n\u001b[0;32m      1\u001b[0m \u001b[1;31m#for set\u001b[0m\u001b[1;33m\u001b[0m\u001b[1;33m\u001b[0m\u001b[1;33m\u001b[0m\u001b[0m\n\u001b[1;32m----> 2\u001b[1;33m \u001b[0md\u001b[0m \u001b[1;33m=\u001b[0m\u001b[1;33m{\u001b[0m\u001b[1;36m4\u001b[0m\u001b[1;33m:\u001b[0m\u001b[1;34m'sudh'\u001b[0m\u001b[1;33m,\u001b[0m \u001b[1;36m5\u001b[0m\u001b[1;33m:\u001b[0m\u001b[1;34m'kumar'\u001b[0m\u001b[1;33m,\u001b[0m \u001b[1;33m{\u001b[0m\u001b[1;36m1\u001b[0m\u001b[1;33m,\u001b[0m\u001b[1;36m2\u001b[0m\u001b[1;33m,\u001b[0m\u001b[1;36m34\u001b[0m\u001b[1;33m}\u001b[0m \u001b[1;33m:\u001b[0m \u001b[1;34m\"asdv\"\u001b[0m\u001b[1;33m}\u001b[0m   \u001b[1;31m#set won't work in Dectionary as as key\u001b[0m\u001b[1;33m\u001b[0m\u001b[1;33m\u001b[0m\u001b[0m\n\u001b[0m",
      "\u001b[1;31mTypeError\u001b[0m: unhashable type: 'set'"
     ]
    }
   ],
   "source": [
    "#for set\n",
    "d ={4:'sudh', 5:'kumar', {1,2,34} : \"asdv\"}   #set won't work in Dectionary as as key"
   ]
  },
  {
   "cell_type": "code",
   "execution_count": null,
   "id": "ae6fa178",
   "metadata": {},
   "outputs": [],
   "source": [
    "'''\n",
    "Thus,\n",
    "in dictonary string, int, tuple, underscore  are working as a key\n",
    "but\n",
    "list, set, special character not waorking as akey '''"
   ]
  },
  {
   "cell_type": "code",
   "execution_count": null,
   "id": "40d4f4bf",
   "metadata": {},
   "outputs": [],
   "source": []
  },
  {
   "cell_type": "code",
   "execution_count": 8,
   "id": "a3ec0082",
   "metadata": {},
   "outputs": [
    {
     "data": {
      "text/plain": [
       "{1: 'kar'}"
      ]
     },
     "execution_count": 8,
     "metadata": {},
     "output_type": "execute_result"
    }
   ],
   "source": [
    "#key should unique\n",
    "d={1:'Alan', 2:'kar'}\n",
    "d={1:'Alan', 1:'kar'}\n",
    "d                      #key takes the value of last one"
   ]
  },
  {
   "cell_type": "code",
   "execution_count": null,
   "id": "a10db82d",
   "metadata": {},
   "outputs": [],
   "source": []
  },
  {
   "cell_type": "code",
   "execution_count": 9,
   "id": "e5e402bd",
   "metadata": {},
   "outputs": [
    {
     "name": "stdout",
     "output_type": "stream",
     "text": [
      "Ala\n",
      "mldl\n"
     ]
    }
   ],
   "source": [
    "d= {1:'Ala', 2:'Kar', 3:['mldl', 'oops', 'FSDS']}\n",
    "print( d[1] )\n",
    "print( d[3][0] )"
   ]
  },
  {
   "cell_type": "code",
   "execution_count": 10,
   "id": "b87e8051",
   "metadata": {},
   "outputs": [
    {
     "ename": "KeyError",
     "evalue": "0",
     "output_type": "error",
     "traceback": [
      "\u001b[1;31m---------------------------------------------------------------------------\u001b[0m",
      "\u001b[1;31mKeyError\u001b[0m                                  Traceback (most recent call last)",
      "\u001b[1;32m<ipython-input-10-5037f9d3a889>\u001b[0m in \u001b[0;36m<module>\u001b[1;34m\u001b[0m\n\u001b[0;32m      1\u001b[0m \u001b[1;31m#but\u001b[0m\u001b[1;33m\u001b[0m\u001b[1;33m\u001b[0m\u001b[1;33m\u001b[0m\u001b[0m\n\u001b[1;32m----> 2\u001b[1;33m \u001b[0mprint\u001b[0m\u001b[1;33m(\u001b[0m \u001b[0md\u001b[0m\u001b[1;33m[\u001b[0m\u001b[1;36m0\u001b[0m\u001b[1;33m]\u001b[0m \u001b[1;33m)\u001b[0m \u001b[1;31m#will give error\u001b[0m\u001b[1;33m\u001b[0m\u001b[1;33m\u001b[0m\u001b[0m\n\u001b[0m",
      "\u001b[1;31mKeyError\u001b[0m: 0"
     ]
    }
   ],
   "source": [
    "#but\n",
    "print( d[0] ) #will give error"
   ]
  },
  {
   "cell_type": "code",
   "execution_count": null,
   "id": "159ca878",
   "metadata": {},
   "outputs": [],
   "source": []
  },
  {
   "cell_type": "code",
   "execution_count": 13,
   "id": "463f684d",
   "metadata": {},
   "outputs": [
    {
     "data": {
      "text/plain": [
       "'Alankar'"
      ]
     },
     "execution_count": 13,
     "metadata": {},
     "output_type": "execute_result"
    }
   ],
   "source": [
    "#Dictonary under dictonary\n",
    "D1 = {1:'MLDL',\n",
    "      2:'Class',\n",
    "      3:'is',\n",
    "      4:'nice',\n",
    "     'D2':{1:'Alankar', 2:'Sharma', 3:'Perfect'}\n",
    "     }\n",
    "\n",
    "D1['D2'][1]"
   ]
  },
  {
   "cell_type": "code",
   "execution_count": 14,
   "id": "8ec1789c",
   "metadata": {},
   "outputs": [
    {
     "data": {
      "text/plain": [
       "{1: 'MLDL',\n",
       " 2: 'Class',\n",
       " 3: 'is',\n",
       " 4: 'nice',\n",
       " 'D2': {1: 'Alankar', 2: 'Sharma', 3: 'Perfect'},\n",
       " 5: 'NEW VALUE'}"
      ]
     },
     "execution_count": 14,
     "metadata": {},
     "output_type": "execute_result"
    }
   ],
   "source": [
    "#Addning value to the key\n",
    "\n",
    "D1[5] = 'NEW VALUE'\n",
    "D1"
   ]
  },
  {
   "cell_type": "code",
   "execution_count": 15,
   "id": "697c9128",
   "metadata": {},
   "outputs": [
    {
     "data": {
      "text/plain": [
       "{1: 'MLDL',\n",
       " 2: 'Class',\n",
       " 3: 'is a very',\n",
       " 4: 'nice',\n",
       " 'D2': {1: 'Alankar', 2: 'Sharma', 3: 'Perfect'},\n",
       " 5: 'NEW VALUE'}"
      ]
     },
     "execution_count": 15,
     "metadata": {},
     "output_type": "execute_result"
    }
   ],
   "source": [
    "#updating values of dictionary\n",
    "D1[3] = 'is a very'\n",
    "D1"
   ]
  },
  {
   "cell_type": "code",
   "execution_count": null,
   "id": "69c7741d",
   "metadata": {},
   "outputs": [],
   "source": []
  },
  {
   "cell_type": "code",
   "execution_count": 21,
   "id": "ec5a6448",
   "metadata": {},
   "outputs": [
    {
     "name": "stdout",
     "output_type": "stream",
     "text": [
      "k1\n",
      "k2\n",
      "k3\n",
      "k4\n",
      "dict_keys(['k1', 'k2', 'k3', 'k4'])\n"
     ]
    },
    {
     "data": {
      "text/plain": [
       "'k1'"
      ]
     },
     "execution_count": 21,
     "metadata": {},
     "output_type": "execute_result"
    }
   ],
   "source": [
    "#list of all keys\n",
    "d={'k1':'rghwraetdsg', 'k2':'AEBrtbf', 'k3':'iNeuron', 'k4':21352}\n",
    "for i in d:\n",
    "    print(i)\n",
    "#or\n",
    "print(d.keys() )    \n",
    "\n",
    "#since a list is returned\n",
    "list(d.keys())[0]"
   ]
  },
  {
   "cell_type": "code",
   "execution_count": 22,
   "id": "826c333d",
   "metadata": {},
   "outputs": [
    {
     "data": {
      "text/plain": [
       "dict_values(['rghwraetdsg', 'AEBrtbf', 'iNeuron', 21352])"
      ]
     },
     "execution_count": 22,
     "metadata": {},
     "output_type": "execute_result"
    }
   ],
   "source": [
    "#list of all values\n",
    "d.values()     #a list would be returned"
   ]
  },
  {
   "cell_type": "code",
   "execution_count": 23,
   "id": "77ff837c",
   "metadata": {},
   "outputs": [
    {
     "data": {
      "text/plain": [
       "'rghwraetdsg'"
      ]
     },
     "execution_count": 23,
     "metadata": {},
     "output_type": "execute_result"
    }
   ],
   "source": [
    "list(d.values())[0]"
   ]
  },
  {
   "cell_type": "code",
   "execution_count": 24,
   "id": "2e2f1c64",
   "metadata": {},
   "outputs": [
    {
     "data": {
      "text/plain": [
       "dict_items([('k1', 'rghwraetdsg'), ('k2', 'AEBrtbf'), ('k3', 'iNeuron'), ('k4', 21352)])"
      ]
     },
     "execution_count": 24,
     "metadata": {},
     "output_type": "execute_result"
    }
   ],
   "source": [
    "#list\n",
    "d.items()"
   ]
  },
  {
   "cell_type": "code",
   "execution_count": null,
   "id": "8ce502a2",
   "metadata": {},
   "outputs": [],
   "source": []
  },
  {
   "cell_type": "code",
   "execution_count": 32,
   "id": "4d5a1e22",
   "metadata": {},
   "outputs": [
    {
     "name": "stdout",
     "output_type": "stream",
     "text": [
      "key-> k1 and Value-> rghwraetdsg\n",
      "key-> k2 and Value-> AEBrtbf\n",
      "key-> k3 and Value-> iNeuron\n",
      "\n",
      "\n",
      "key-> k1 and Value-> rghwraetdsg\n",
      "key-> k2 and Value-> AEBrtbf\n",
      "key-> k3 and Value-> iNeuron\n",
      "key-> k4 and Value-> 21352\n"
     ]
    }
   ],
   "source": [
    "# Fetch keys whose values is string\n",
    "d={'k1':'rghwraetdsg', 'k2':'AEBrtbf', 'k3':'iNeuron', 'k4':21352}\n",
    "for i in d:\n",
    "    if(type(d[i]) == str ):\n",
    "        print('key->',i,\"and\", 'Value->',d[i])\n",
    "\n",
    "print('\\n')\n",
    "#or\n",
    "for i in d.keys():\n",
    "    if(type(i) == str):  print('key->',i,\"and\", 'Value->',d[i])"
   ]
  },
  {
   "cell_type": "markdown",
   "id": "8a78314f",
   "metadata": {},
   "source": [
    "## Note the below program"
   ]
  },
  {
   "cell_type": "code",
   "execution_count": 51,
   "id": "8bee3a44",
   "metadata": {},
   "outputs": [
    {
     "name": "stdout",
     "output_type": "stream",
     "text": [
      "{0: 0, 1: 1, 2: 4, 3: 9, 4: 16, 5: 25, 6: 36, 7: 49, 8: 64, 9: 81, 10: 100}\n"
     ]
    },
    {
     "data": {
      "text/plain": [
       "{0: 0, 1: 1, 2: 4, 3: 9, 4: 16, 5: 25, 6: 36, 7: 49, 8: 64, 9: 81, 10: 100}"
      ]
     },
     "execution_count": 51,
     "metadata": {},
     "output_type": "execute_result"
    }
   ],
   "source": [
    "#Create a dictionary having keys from 0 to 10 and its values to be square of its keys\n",
    "#1st way\n",
    "d1={}\n",
    "for i in range(0,11):\n",
    "    d1[i] = i**2\n",
    "print(d1)\n",
    "\n",
    "#2nd way\n",
    "{i:i**2 for i in range(11)}"
   ]
  },
  {
   "cell_type": "code",
   "execution_count": null,
   "id": "22304dc4",
   "metadata": {},
   "outputs": [],
   "source": []
  },
  {
   "cell_type": "code",
   "execution_count": 56,
   "id": "65f6672f",
   "metadata": {},
   "outputs": [
    {
     "name": "stdout",
     "output_type": "stream",
     "text": [
      "{'i': 'ineuron', 'n': 'ineuron', 'e': 'ineuron', 'u': 'ineuron', 'r': 'ineuron', 'o': 'ineuron'}\n"
     ]
    },
    {
     "data": {
      "text/plain": [
       "{'i': 'ineuron',\n",
       " 'n': 'ineuron',\n",
       " 'e': 'ineuron',\n",
       " 'u': 'ineuron',\n",
       " 'r': 'ineuron',\n",
       " 'o': 'ineuron'}"
      ]
     },
     "execution_count": 56,
     "metadata": {},
     "output_type": "execute_result"
    }
   ],
   "source": [
    "#create a dictionary where each character of 'ineuron' is key, and values are 'ineuron' \n",
    "\n",
    "s='ineuron'\n",
    "print( {s[i]:s  for i in range(len(s))})\n",
    "#or\n",
    "{i:s  for i in s}"
   ]
  },
  {
   "cell_type": "code",
   "execution_count": 113,
   "id": "87a7c0f3",
   "metadata": {},
   "outputs": [
    {
     "name": "stdout",
     "output_type": "stream",
     "text": [
      "hi\n",
      "523636\n"
     ]
    },
    {
     "data": {
      "text/plain": [
       "'for i in d.values():\\n    if type(i)==int:\\n        if max < i:\\n            max = i\\n    else:\\n        for j in i.values():\\n            if j > max:\\n                max=j\\nprint(max)'"
      ]
     },
     "execution_count": 113,
     "metadata": {},
     "output_type": "execute_result"
    }
   ],
   "source": [
    "#give maxcimum values exis in the below dict.\n",
    "d = {'ineuron':{'a':23, 'b':34, 'c':56}, 'course':{'d':45, 'e':12} , \"xcv\":99,'a':[325,523636,2356]}\n",
    "\n",
    "\n",
    "l=[]\n",
    "for i in d.values():\n",
    "    if(type(i) == dict): l.append( max(i.values()) )\n",
    "    if(type(i) == list): print('hi'); l.append(max(i))\n",
    "    if(type(i)==int): l.append(i)\n",
    "        \n",
    "print( max(l) )\n",
    "                  #but if we add tuple, float, bool, dict under dict....\n",
    "#method-2\n",
    "'''for i in d.values():\n",
    "    if type(i)==int:\n",
    "        if max < i:\n",
    "            max = i\n",
    "    else:\n",
    "        for j in i.values():\n",
    "            if j > max:\n",
    "                max=j\n",
    "print(max)'''"
   ]
  },
  {
   "cell_type": "code",
   "execution_count": 87,
   "id": "e9b5951c",
   "metadata": {},
   "outputs": [
    {
     "name": "stdout",
     "output_type": "stream",
     "text": [
      "<class 'dict'>\n",
      "<class 'dict'>\n",
      "<class 'int'>\n"
     ]
    }
   ],
   "source": [
    "d = {'ineuron':{'a':23, 'b':34, 'c':56}, 'course':{'d':45, 'e':12} , \"xcv\":99}\n",
    "for i in d:\n",
    "    print(type(d[i]))"
   ]
  },
  {
   "cell_type": "code",
   "execution_count": 109,
   "id": "9bba068f",
   "metadata": {},
   "outputs": [
    {
     "data": {
      "text/plain": [
       "[1234]"
      ]
     },
     "execution_count": 109,
     "metadata": {},
     "output_type": "execute_result"
    }
   ],
   "source": [
    "a=[]\n",
    "l=[1234,451,51]\n",
    "a.append(max(l))\n",
    "a"
   ]
  },
  {
   "cell_type": "code",
   "execution_count": null,
   "id": "a11a97ac",
   "metadata": {},
   "outputs": [],
   "source": [
    "#extend, append and add"
   ]
  }
 ],
 "metadata": {
  "kernelspec": {
   "display_name": "Python 3",
   "language": "python",
   "name": "python3"
  },
  "language_info": {
   "codemirror_mode": {
    "name": "ipython",
    "version": 3
   },
   "file_extension": ".py",
   "mimetype": "text/x-python",
   "name": "python",
   "nbconvert_exporter": "python",
   "pygments_lexer": "ipython3",
   "version": "3.8.8"
  }
 },
 "nbformat": 4,
 "nbformat_minor": 5
}
