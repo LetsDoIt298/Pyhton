{
 "cells": [
  {
   "cell_type": "markdown",
   "id": "a51a53f3",
   "metadata": {},
   "source": [
    "# NOTE(Postman):- \n",
    "## ____customer______________HTTP_____________Method\n",
    "    Adding name    ->      POST   (In HTTP)     =>          Creat a new field/data\n",
    "    Search         ->      GET    (In HTTP)     =>          searching in existing data      \n",
    "    Update         ->      PUT    (In HTTP)     =>          Modify the existing data\n",
    "    Delete/Remove  ->      DELETE (In HTTP)     =>          To delete data"
   ]
  },
  {
   "cell_type": "code",
   "execution_count": 8,
   "id": "f67657d4",
   "metadata": {},
   "outputs": [
    {
     "data": {
      "text/plain": [
       "'this is my test function'"
      ]
     },
     "execution_count": 8,
     "metadata": {},
     "output_type": "execute_result"
    }
   ],
   "source": [
    "def test():\n",
    "    return \"this is my test function\"\n",
    "\n",
    "test()   #function is executed/called here"
   ]
  },
  {
   "cell_type": "code",
   "execution_count": 9,
   "id": "8f8246d5",
   "metadata": {},
   "outputs": [
    {
     "ename": "NameError",
     "evalue": "name 'a' is not defined",
     "output_type": "error",
     "traceback": [
      "\u001b[1;31m---------------------------------------------------------------------------\u001b[0m",
      "\u001b[1;31mNameError\u001b[0m                                 Traceback (most recent call last)",
      "\u001b[1;32m<ipython-input-9-58172171be6b>\u001b[0m in \u001b[0;36m<module>\u001b[1;34m\u001b[0m\n\u001b[0;32m      2\u001b[0m     \u001b[1;32mreturn\u001b[0m \u001b[0ma\u001b[0m\u001b[1;33m/\u001b[0m\u001b[1;36m4\u001b[0m\u001b[1;33m\u001b[0m\u001b[1;33m\u001b[0m\u001b[0m\n\u001b[0;32m      3\u001b[0m \u001b[1;33m\u001b[0m\u001b[0m\n\u001b[1;32m----> 4\u001b[1;33m \u001b[0mtest1\u001b[0m\u001b[1;33m(\u001b[0m\u001b[1;33m)\u001b[0m  \u001b[1;31m#error in execution\u001b[0m\u001b[1;33m\u001b[0m\u001b[1;33m\u001b[0m\u001b[0m\n\u001b[0m",
      "\u001b[1;32m<ipython-input-9-58172171be6b>\u001b[0m in \u001b[0;36mtest1\u001b[1;34m()\u001b[0m\n\u001b[0;32m      1\u001b[0m \u001b[1;32mdef\u001b[0m \u001b[0mtest1\u001b[0m\u001b[1;33m(\u001b[0m\u001b[1;33m)\u001b[0m\u001b[1;33m:\u001b[0m\u001b[1;33m\u001b[0m\u001b[1;33m\u001b[0m\u001b[0m\n\u001b[1;32m----> 2\u001b[1;33m     \u001b[1;32mreturn\u001b[0m \u001b[0ma\u001b[0m\u001b[1;33m/\u001b[0m\u001b[1;36m4\u001b[0m\u001b[1;33m\u001b[0m\u001b[1;33m\u001b[0m\u001b[0m\n\u001b[0m\u001b[0;32m      3\u001b[0m \u001b[1;33m\u001b[0m\u001b[0m\n\u001b[0;32m      4\u001b[0m \u001b[0mtest1\u001b[0m\u001b[1;33m(\u001b[0m\u001b[1;33m)\u001b[0m  \u001b[1;31m#error in execution\u001b[0m\u001b[1;33m\u001b[0m\u001b[1;33m\u001b[0m\u001b[0m\n",
      "\u001b[1;31mNameError\u001b[0m: name 'a' is not defined"
     ]
    }
   ],
   "source": [
    "def test1():\n",
    "    return a/4\n",
    "\n",
    "test1()  #error in execution"
   ]
  },
  {
   "cell_type": "code",
   "execution_count": 19,
   "id": "8ae9d98e",
   "metadata": {},
   "outputs": [],
   "source": [
    "from flask import Flask,request,jsonify\n",
    "\n",
    "app = Flask(__name__)\n",
    "\n",
    "def math_operation_via_flask(operation, num1, num2):\n",
    "    if(operation == 'add'):\n",
    "        r = num1 + num2\n",
    "        result = 'The sum of ' + str(num1) + 'and' + str(num2) + 'is' + str(r)\n",
    "\n",
    "    if (operation == 'Sub'):\n",
    "        r = num1 - num2\n",
    "        result = 'The sub of ' + str(num1) + 'and' + str(num2) + 'is' + str(r)\n",
    "\n",
    "    if (operation == 'mul'):\n",
    "        r = num1 + num2\n",
    "        result = 'The mul of ' + str(num1) + 'and' + str(num2) + 'is' + str(r)\n",
    "\n",
    "    if (operation == 'div'):\n",
    "        r = num1 + num2\n",
    "        result = 'The div of ' + str(num1) + 'and' + str(num2) + 'is' + str(r)\n",
    "\n",
    "    return result"
   ]
  },
  {
   "cell_type": "code",
   "execution_count": 20,
   "id": "6da5e05c",
   "metadata": {},
   "outputs": [
    {
     "data": {
      "text/plain": [
       "'The sum of 45and67is112'"
      ]
     },
     "execution_count": 20,
     "metadata": {},
     "output_type": "execute_result"
    }
   ],
   "source": [
    "math_operation_via_flask(\"add\", 45, 67)"
   ]
  },
  {
   "cell_type": "code",
   "execution_count": null,
   "id": "39310e1d",
   "metadata": {},
   "outputs": [],
   "source": [
    "# refer pycharm"
   ]
  },
  {
   "cell_type": "code",
   "execution_count": null,
   "id": "87404456",
   "metadata": {},
   "outputs": [],
   "source": []
  },
  {
   "cell_type": "code",
   "execution_count": null,
   "id": "6a6188ea",
   "metadata": {},
   "outputs": [],
   "source": []
  },
  {
   "cell_type": "markdown",
   "id": "096c1652",
   "metadata": {},
   "source": [
    "# Note(pycharm):- \n",
    "### 1) Each time when we work on new project, if we are using Flask, then we have to import flask each time\n",
    "### 2) To run a new project for very first time, right click and then run the program"
   ]
  },
  {
   "cell_type": "code",
   "execution_count": null,
   "id": "e9987581",
   "metadata": {},
   "outputs": [],
   "source": []
  },
  {
   "cell_type": "code",
   "execution_count": null,
   "id": "b670b624",
   "metadata": {},
   "outputs": [],
   "source": []
  }
 ],
 "metadata": {
  "kernelspec": {
   "display_name": "Python 3",
   "language": "python",
   "name": "python3"
  },
  "language_info": {
   "codemirror_mode": {
    "name": "ipython",
    "version": 3
   },
   "file_extension": ".py",
   "mimetype": "text/x-python",
   "name": "python",
   "nbconvert_exporter": "python",
   "pygments_lexer": "ipython3",
   "version": "3.8.8"
  }
 },
 "nbformat": 4,
 "nbformat_minor": 5
}
